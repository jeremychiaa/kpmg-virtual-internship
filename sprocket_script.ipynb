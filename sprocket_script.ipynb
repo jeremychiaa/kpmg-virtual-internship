{
 "metadata": {
  "language_info": {
   "codemirror_mode": {
    "name": "ipython",
    "version": 3
   },
   "file_extension": ".py",
   "mimetype": "text/x-python",
   "name": "python",
   "nbconvert_exporter": "python",
   "pygments_lexer": "ipython3",
   "version": "3.6.10-final"
  },
  "orig_nbformat": 2,
  "kernelspec": {
   "name": "python3",
   "display_name": "Python 3.6.10 64-bit ('PythonData': conda)",
   "metadata": {
    "interpreter": {
     "hash": "4511098e18df60c01b7d3969427a2c87e82d8a62973ae543cdaefaf6447f8e43"
    }
   }
  }
 },
 "nbformat": 4,
 "nbformat_minor": 2,
 "cells": [
  {
   "cell_type": "code",
   "execution_count": 1,
   "metadata": {},
   "outputs": [],
   "source": [
    "# Import dependencies\n",
    "import datetime as dt\n",
    "import pandas as pd\n",
    "import numpy as np\n",
    "import matplotlib.pyplot as plt\n",
    "import seaborn as sns"
   ]
  },
  {
   "cell_type": "code",
   "execution_count": 2,
   "metadata": {},
   "outputs": [],
   "source": [
    "# Read into excel file\n",
    "xls = pd.ExcelFile(\"./Resources/KPMG_VI_New_raw_data_update_final.xlsx\")\n",
    "transactions_xls = pd.read_excel(xls, \"Transactions\", header=1)\n",
    "new_customer_list_xls = pd.read_excel(xls, \"NewCustomerList\", header=1)\n",
    "customer_demographic_xls = pd.read_excel(xls, \"CustomerDemographic\", header=1)\n",
    "customer_address_xls = pd.read_excel(xls, \"CustomerAddress\", header=1)"
   ]
  },
  {
   "source": [
    "## Data Cleaning"
   ],
   "cell_type": "markdown",
   "metadata": {}
  },
  {
   "cell_type": "code",
   "execution_count": 3,
   "metadata": {},
   "outputs": [],
   "source": [
    "# Create function to drop all customer_ids above 3500\n",
    "def consistent_id(excel_sheet):\n",
    "    excel_sheet = excel_sheet.loc[excel_sheet[\"customer_id\"] <= 3500]\n",
    "    return excel_sheet"
   ]
  },
  {
   "cell_type": "code",
   "execution_count": 4,
   "metadata": {},
   "outputs": [],
   "source": [
    "# Apply range of below 3500 to all sheets\n",
    "cleaned_transactions_xls = consistent_id(transactions_xls)\n",
    "cleaned_customer_demographic_xls = consistent_id(customer_demographic_xls)\n",
    "cleaned_customer_address_xls = consistent_id(customer_address_xls)"
   ]
  },
  {
   "source": [
    "### Transactions"
   ],
   "cell_type": "markdown",
   "metadata": {}
  },
  {
   "cell_type": "code",
   "execution_count": 5,
   "metadata": {},
   "outputs": [
    {
     "output_type": "execute_result",
     "data": {
      "text/plain": [
       "   transaction_id  product_id  customer_id transaction_date  online_order  \\\n",
       "0               1           2         2950       2017-02-25           0.0   \n",
       "1               2           3         3120       2017-05-21           1.0   \n",
       "2               3          37          402       2017-10-16           0.0   \n",
       "3               4          88         3135       2017-08-31           0.0   \n",
       "4               5          78          787       2017-10-01           1.0   \n",
       "\n",
       "  order_status           brand product_line product_class product_size  \\\n",
       "0     Approved           Solex     Standard        medium       medium   \n",
       "1     Approved   Trek Bicycles     Standard        medium        large   \n",
       "2     Approved      OHM Cycles     Standard           low       medium   \n",
       "3     Approved  Norco Bicycles     Standard        medium       medium   \n",
       "4     Approved  Giant Bicycles     Standard        medium        large   \n",
       "\n",
       "   list_price  standard_cost  product_first_sold_date  \n",
       "0       71.49          53.62                  41245.0  \n",
       "1     2091.47         388.92                  41701.0  \n",
       "2     1793.43         248.82                  36361.0  \n",
       "3     1198.46         381.10                  36145.0  \n",
       "4     1765.30         709.48                  42226.0  "
      ],
      "text/html": "<div>\n<style scoped>\n    .dataframe tbody tr th:only-of-type {\n        vertical-align: middle;\n    }\n\n    .dataframe tbody tr th {\n        vertical-align: top;\n    }\n\n    .dataframe thead th {\n        text-align: right;\n    }\n</style>\n<table border=\"1\" class=\"dataframe\">\n  <thead>\n    <tr style=\"text-align: right;\">\n      <th></th>\n      <th>transaction_id</th>\n      <th>product_id</th>\n      <th>customer_id</th>\n      <th>transaction_date</th>\n      <th>online_order</th>\n      <th>order_status</th>\n      <th>brand</th>\n      <th>product_line</th>\n      <th>product_class</th>\n      <th>product_size</th>\n      <th>list_price</th>\n      <th>standard_cost</th>\n      <th>product_first_sold_date</th>\n    </tr>\n  </thead>\n  <tbody>\n    <tr>\n      <th>0</th>\n      <td>1</td>\n      <td>2</td>\n      <td>2950</td>\n      <td>2017-02-25</td>\n      <td>0.0</td>\n      <td>Approved</td>\n      <td>Solex</td>\n      <td>Standard</td>\n      <td>medium</td>\n      <td>medium</td>\n      <td>71.49</td>\n      <td>53.62</td>\n      <td>41245.0</td>\n    </tr>\n    <tr>\n      <th>1</th>\n      <td>2</td>\n      <td>3</td>\n      <td>3120</td>\n      <td>2017-05-21</td>\n      <td>1.0</td>\n      <td>Approved</td>\n      <td>Trek Bicycles</td>\n      <td>Standard</td>\n      <td>medium</td>\n      <td>large</td>\n      <td>2091.47</td>\n      <td>388.92</td>\n      <td>41701.0</td>\n    </tr>\n    <tr>\n      <th>2</th>\n      <td>3</td>\n      <td>37</td>\n      <td>402</td>\n      <td>2017-10-16</td>\n      <td>0.0</td>\n      <td>Approved</td>\n      <td>OHM Cycles</td>\n      <td>Standard</td>\n      <td>low</td>\n      <td>medium</td>\n      <td>1793.43</td>\n      <td>248.82</td>\n      <td>36361.0</td>\n    </tr>\n    <tr>\n      <th>3</th>\n      <td>4</td>\n      <td>88</td>\n      <td>3135</td>\n      <td>2017-08-31</td>\n      <td>0.0</td>\n      <td>Approved</td>\n      <td>Norco Bicycles</td>\n      <td>Standard</td>\n      <td>medium</td>\n      <td>medium</td>\n      <td>1198.46</td>\n      <td>381.10</td>\n      <td>36145.0</td>\n    </tr>\n    <tr>\n      <th>4</th>\n      <td>5</td>\n      <td>78</td>\n      <td>787</td>\n      <td>2017-10-01</td>\n      <td>1.0</td>\n      <td>Approved</td>\n      <td>Giant Bicycles</td>\n      <td>Standard</td>\n      <td>medium</td>\n      <td>large</td>\n      <td>1765.30</td>\n      <td>709.48</td>\n      <td>42226.0</td>\n    </tr>\n  </tbody>\n</table>\n</div>"
     },
     "metadata": {},
     "execution_count": 5
    }
   ],
   "source": [
    "cleaned_transactions_xls.head()"
   ]
  },
  {
   "cell_type": "code",
   "execution_count": 6,
   "metadata": {},
   "outputs": [],
   "source": [
    "# Convert online order column to boolean\n",
    "cleaned_transactions_xls[\"online_order\"] = cleaned_transactions_xls[\"online_order\"].astype(bool)"
   ]
  },
  {
   "cell_type": "code",
   "execution_count": 7,
   "metadata": {},
   "outputs": [],
   "source": [
    "# Drop all null values for transactions\n",
    "cleaned_transactions_xls = cleaned_transactions_xls.dropna()"
   ]
  },
  {
   "cell_type": "code",
   "execution_count": 8,
   "metadata": {},
   "outputs": [
    {
     "output_type": "execute_result",
     "data": {
      "text/plain": [
       "   transaction_id  product_id  customer_id transaction_date  online_order  \\\n",
       "0               1           2         2950       2017-02-25         False   \n",
       "1               2           3         3120       2017-05-21          True   \n",
       "2               3          37          402       2017-10-16         False   \n",
       "3               4          88         3135       2017-08-31         False   \n",
       "4               5          78          787       2017-10-01          True   \n",
       "\n",
       "  order_status           brand product_line product_class product_size  \\\n",
       "0     Approved           Solex     Standard        medium       medium   \n",
       "1     Approved   Trek Bicycles     Standard        medium        large   \n",
       "2     Approved      OHM Cycles     Standard           low       medium   \n",
       "3     Approved  Norco Bicycles     Standard        medium       medium   \n",
       "4     Approved  Giant Bicycles     Standard        medium        large   \n",
       "\n",
       "   list_price  standard_cost  product_first_sold_date  \n",
       "0       71.49          53.62                  41245.0  \n",
       "1     2091.47         388.92                  41701.0  \n",
       "2     1793.43         248.82                  36361.0  \n",
       "3     1198.46         381.10                  36145.0  \n",
       "4     1765.30         709.48                  42226.0  "
      ],
      "text/html": "<div>\n<style scoped>\n    .dataframe tbody tr th:only-of-type {\n        vertical-align: middle;\n    }\n\n    .dataframe tbody tr th {\n        vertical-align: top;\n    }\n\n    .dataframe thead th {\n        text-align: right;\n    }\n</style>\n<table border=\"1\" class=\"dataframe\">\n  <thead>\n    <tr style=\"text-align: right;\">\n      <th></th>\n      <th>transaction_id</th>\n      <th>product_id</th>\n      <th>customer_id</th>\n      <th>transaction_date</th>\n      <th>online_order</th>\n      <th>order_status</th>\n      <th>brand</th>\n      <th>product_line</th>\n      <th>product_class</th>\n      <th>product_size</th>\n      <th>list_price</th>\n      <th>standard_cost</th>\n      <th>product_first_sold_date</th>\n    </tr>\n  </thead>\n  <tbody>\n    <tr>\n      <th>0</th>\n      <td>1</td>\n      <td>2</td>\n      <td>2950</td>\n      <td>2017-02-25</td>\n      <td>False</td>\n      <td>Approved</td>\n      <td>Solex</td>\n      <td>Standard</td>\n      <td>medium</td>\n      <td>medium</td>\n      <td>71.49</td>\n      <td>53.62</td>\n      <td>41245.0</td>\n    </tr>\n    <tr>\n      <th>1</th>\n      <td>2</td>\n      <td>3</td>\n      <td>3120</td>\n      <td>2017-05-21</td>\n      <td>True</td>\n      <td>Approved</td>\n      <td>Trek Bicycles</td>\n      <td>Standard</td>\n      <td>medium</td>\n      <td>large</td>\n      <td>2091.47</td>\n      <td>388.92</td>\n      <td>41701.0</td>\n    </tr>\n    <tr>\n      <th>2</th>\n      <td>3</td>\n      <td>37</td>\n      <td>402</td>\n      <td>2017-10-16</td>\n      <td>False</td>\n      <td>Approved</td>\n      <td>OHM Cycles</td>\n      <td>Standard</td>\n      <td>low</td>\n      <td>medium</td>\n      <td>1793.43</td>\n      <td>248.82</td>\n      <td>36361.0</td>\n    </tr>\n    <tr>\n      <th>3</th>\n      <td>4</td>\n      <td>88</td>\n      <td>3135</td>\n      <td>2017-08-31</td>\n      <td>False</td>\n      <td>Approved</td>\n      <td>Norco Bicycles</td>\n      <td>Standard</td>\n      <td>medium</td>\n      <td>medium</td>\n      <td>1198.46</td>\n      <td>381.10</td>\n      <td>36145.0</td>\n    </tr>\n    <tr>\n      <th>4</th>\n      <td>5</td>\n      <td>78</td>\n      <td>787</td>\n      <td>2017-10-01</td>\n      <td>True</td>\n      <td>Approved</td>\n      <td>Giant Bicycles</td>\n      <td>Standard</td>\n      <td>medium</td>\n      <td>large</td>\n      <td>1765.30</td>\n      <td>709.48</td>\n      <td>42226.0</td>\n    </tr>\n  </tbody>\n</table>\n</div>"
     },
     "metadata": {},
     "execution_count": 8
    }
   ],
   "source": [
    "# Display cleaned dataframe\n",
    "cleaned_transactions_xls.head()"
   ]
  },
  {
   "source": [
    "### Customer Demographics"
   ],
   "cell_type": "markdown",
   "metadata": {}
  },
  {
   "cell_type": "code",
   "execution_count": 9,
   "metadata": {},
   "outputs": [],
   "source": [
    "# Drop null values only for DOB and job title columns of customer demographics\n",
    "cleaned_customer_demographic_xls = cleaned_customer_demographic_xls.dropna(subset=[\"DOB\", \"job_title\"])"
   ]
  },
  {
   "cell_type": "code",
   "execution_count": 10,
   "metadata": {},
   "outputs": [],
   "source": [
    "# Drop default column of meta data\n",
    "cleaned_customer_demographic_xls = cleaned_customer_demographic_xls.drop(columns=\"default\")"
   ]
  },
  {
   "cell_type": "code",
   "execution_count": 11,
   "metadata": {},
   "outputs": [
    {
     "output_type": "execute_result",
     "data": {
      "text/plain": [
       "customer_id                            3004\n",
       "first_name                             3004\n",
       "last_name                              2908\n",
       "gender                                 3004\n",
       "past_3_years_bike_related_purchases    3004\n",
       "DOB                                    3004\n",
       "job_title                              3004\n",
       "job_industry_category                  2531\n",
       "wealth_segment                         3004\n",
       "deceased_indicator                     3004\n",
       "owns_car                               3004\n",
       "tenure                                 3004\n",
       "dtype: int64"
      ]
     },
     "metadata": {},
     "execution_count": 11
    }
   ],
   "source": [
    "# Check remaining null values\n",
    "# Remain nulls for last_name and job_industry_category as they do not affect future analysis\n",
    "cleaned_customer_demographic_xls.count()"
   ]
  },
  {
   "cell_type": "code",
   "execution_count": 12,
   "metadata": {},
   "outputs": [
    {
     "output_type": "execute_result",
     "data": {
      "text/plain": [
       "Timestamp('1843-12-21 00:00:00')"
      ]
     },
     "metadata": {},
     "execution_count": 12
    }
   ],
   "source": [
    "# Find outlier of DOB column\n",
    "cleaned_customer_demographic_xls[\"DOB\"].min()"
   ]
  },
  {
   "cell_type": "code",
   "execution_count": 13,
   "metadata": {},
   "outputs": [],
   "source": [
    "# Drop outlier\n",
    "cleaned_customer_demographic_xls = cleaned_customer_demographic_xls[cleaned_customer_demographic_xls.DOB != \"1843-12-21 00:00:00\"]"
   ]
  },
  {
   "cell_type": "code",
   "execution_count": 14,
   "metadata": {},
   "outputs": [],
   "source": [
    "# Add age column\n",
    "now = pd.Timestamp(\"now\")\n",
    "cleaned_customer_demographic_xls[\"age\"] = (now - cleaned_customer_demographic_xls[\"DOB\"]).astype(\"<m8[Y]\")"
   ]
  },
  {
   "cell_type": "code",
   "execution_count": 15,
   "metadata": {},
   "outputs": [],
   "source": [
    "# Create age bins for analysis later\n",
    "cleaned_customer_demographic_xls[\"age_bins\"] = pd.cut(x=cleaned_customer_demographic_xls['age'], bins=[10, 19, 29, 39, 49, 59, 69, 79, 89])"
   ]
  },
  {
   "cell_type": "code",
   "execution_count": 16,
   "metadata": {},
   "outputs": [
    {
     "output_type": "execute_result",
     "data": {
      "text/plain": [
       "[(59, 69], (29, 39], (39, 49], (49, 59], (19, 29], (10, 19], (69, 79], (79, 89]]\n",
       "Categories (8, interval[int64]): [(10, 19] < (19, 29] < (29, 39] < (39, 49] < (49, 59] < (59, 69] < (69, 79] < (79, 89]]"
      ]
     },
     "metadata": {},
     "execution_count": 16
    }
   ],
   "source": [
    "cleaned_customer_demographic_xls[\"age_bins\"].unique()"
   ]
  },
  {
   "cell_type": "code",
   "execution_count": 17,
   "metadata": {},
   "outputs": [],
   "source": [
    "cleaned_customer_demographic_xls[\"age_by_decade\"] = pd.cut(x=cleaned_customer_demographic_xls['age'], bins=[10, 19, 29, 39, 49, 59, 69, 79, 89], labels=[\"10s\", \"20s\", \"30s\", \"40s\", \"50s\", \"60s\", \"70s\", \"80s\"])"
   ]
  },
  {
   "cell_type": "code",
   "execution_count": 18,
   "metadata": {},
   "outputs": [
    {
     "output_type": "execute_result",
     "data": {
      "text/plain": [
       "Female    1532\n",
       "Male      1468\n",
       "F            1\n",
       "M            1\n",
       "Femal        1\n",
       "Name: gender, dtype: int64"
      ]
     },
     "metadata": {},
     "execution_count": 18
    }
   ],
   "source": [
    "# Check for gender unique values\n",
    "cleaned_customer_demographic_xls[\"gender\"].value_counts()"
   ]
  },
  {
   "cell_type": "code",
   "execution_count": 19,
   "metadata": {},
   "outputs": [],
   "source": [
    "# Replace inconsistent values in gender column\n",
    "cleaned_customer_demographic_xls[\"gender\"] = cleaned_customer_demographic_xls[\"gender\"].replace([\"Femal\", \"F\", \"M\"], [\"Female\", \"Female\", \"Male\"])"
   ]
  },
  {
   "cell_type": "code",
   "execution_count": 20,
   "metadata": {},
   "outputs": [
    {
     "output_type": "execute_result",
     "data": {
      "text/plain": [
       "['customer_id',\n",
       " 'first_name',\n",
       " 'last_name',\n",
       " 'gender',\n",
       " 'past_3_years_bike_related_purchases',\n",
       " 'DOB',\n",
       " 'job_title',\n",
       " 'job_industry_category',\n",
       " 'wealth_segment',\n",
       " 'deceased_indicator',\n",
       " 'owns_car',\n",
       " 'tenure',\n",
       " 'age',\n",
       " 'age_bins',\n",
       " 'age_by_decade']"
      ]
     },
     "metadata": {},
     "execution_count": 20
    }
   ],
   "source": [
    "# List all available columns\n",
    "cd_cols = list(cleaned_customer_demographic_xls.columns.values)\n",
    "cd_cols"
   ]
  },
  {
   "cell_type": "code",
   "execution_count": 21,
   "metadata": {},
   "outputs": [
    {
     "output_type": "execute_result",
     "data": {
      "text/plain": [
       "[['customer_id',\n",
       "  'first_name',\n",
       "  'last_name',\n",
       "  'gender',\n",
       "  'past_3_years_bike_related_purchases',\n",
       "  'DOB',\n",
       "  'age',\n",
       "  'age_bins',\n",
       "  'age_by_decade',\n",
       "  'job_title',\n",
       "  'job_industry_category',\n",
       "  'wealth_segment',\n",
       "  'deceased_indicator',\n",
       "  'owns_car',\n",
       "  'tenure']]"
      ]
     },
     "metadata": {},
     "execution_count": 21
    }
   ],
   "source": [
    "# Rearrange columns\n",
    "cleaned_customer_demographic_xls = cleaned_customer_demographic_xls\n",
    "[['customer_id',\n",
    " 'first_name',\n",
    " 'last_name',\n",
    " 'gender',\n",
    " 'past_3_years_bike_related_purchases',\n",
    " 'DOB',\n",
    " 'age',\n",
    " 'age_bins',\n",
    " 'age_by_decade',\n",
    " 'job_title',\n",
    " 'job_industry_category',\n",
    " 'wealth_segment',\n",
    " 'deceased_indicator',\n",
    " 'owns_car',\n",
    " 'tenure']]"
   ]
  },
  {
   "cell_type": "code",
   "execution_count": 22,
   "metadata": {},
   "outputs": [
    {
     "output_type": "execute_result",
     "data": {
      "text/plain": [
       "   customer_id      first_name  last_name  gender  \\\n",
       "0            1         Laraine  Medendorp  Female   \n",
       "1            2             Eli    Bockman    Male   \n",
       "2            3           Arlin     Dearle    Male   \n",
       "4            5  Sheila-kathryn     Calton  Female   \n",
       "7            8             Rod      Inder    Male   \n",
       "\n",
       "   past_3_years_bike_related_purchases        DOB               job_title  \\\n",
       "0                                   93 1953-10-12     Executive Secretary   \n",
       "1                                   81 1980-12-16  Administrative Officer   \n",
       "2                                   61 1954-01-20      Recruiting Manager   \n",
       "4                                   56 1977-05-13           Senior Editor   \n",
       "7                                   31 1962-03-30         Media Manager I   \n",
       "\n",
       "  job_industry_category     wealth_segment deceased_indicator owns_car  \\\n",
       "0                Health      Mass Customer                  N      Yes   \n",
       "1    Financial Services      Mass Customer                  N      Yes   \n",
       "2              Property      Mass Customer                  N      Yes   \n",
       "4                   NaN  Affluent Customer                  N      Yes   \n",
       "7                   NaN      Mass Customer                  N       No   \n",
       "\n",
       "   tenure   age  age_bins age_by_decade  \n",
       "0    11.0  67.0  (59, 69]           60s  \n",
       "1    16.0  39.0  (29, 39]           30s  \n",
       "2    15.0  66.0  (59, 69]           60s  \n",
       "4     8.0  43.0  (39, 49]           40s  \n",
       "7     7.0  58.0  (49, 59]           50s  "
      ],
      "text/html": "<div>\n<style scoped>\n    .dataframe tbody tr th:only-of-type {\n        vertical-align: middle;\n    }\n\n    .dataframe tbody tr th {\n        vertical-align: top;\n    }\n\n    .dataframe thead th {\n        text-align: right;\n    }\n</style>\n<table border=\"1\" class=\"dataframe\">\n  <thead>\n    <tr style=\"text-align: right;\">\n      <th></th>\n      <th>customer_id</th>\n      <th>first_name</th>\n      <th>last_name</th>\n      <th>gender</th>\n      <th>past_3_years_bike_related_purchases</th>\n      <th>DOB</th>\n      <th>job_title</th>\n      <th>job_industry_category</th>\n      <th>wealth_segment</th>\n      <th>deceased_indicator</th>\n      <th>owns_car</th>\n      <th>tenure</th>\n      <th>age</th>\n      <th>age_bins</th>\n      <th>age_by_decade</th>\n    </tr>\n  </thead>\n  <tbody>\n    <tr>\n      <th>0</th>\n      <td>1</td>\n      <td>Laraine</td>\n      <td>Medendorp</td>\n      <td>Female</td>\n      <td>93</td>\n      <td>1953-10-12</td>\n      <td>Executive Secretary</td>\n      <td>Health</td>\n      <td>Mass Customer</td>\n      <td>N</td>\n      <td>Yes</td>\n      <td>11.0</td>\n      <td>67.0</td>\n      <td>(59, 69]</td>\n      <td>60s</td>\n    </tr>\n    <tr>\n      <th>1</th>\n      <td>2</td>\n      <td>Eli</td>\n      <td>Bockman</td>\n      <td>Male</td>\n      <td>81</td>\n      <td>1980-12-16</td>\n      <td>Administrative Officer</td>\n      <td>Financial Services</td>\n      <td>Mass Customer</td>\n      <td>N</td>\n      <td>Yes</td>\n      <td>16.0</td>\n      <td>39.0</td>\n      <td>(29, 39]</td>\n      <td>30s</td>\n    </tr>\n    <tr>\n      <th>2</th>\n      <td>3</td>\n      <td>Arlin</td>\n      <td>Dearle</td>\n      <td>Male</td>\n      <td>61</td>\n      <td>1954-01-20</td>\n      <td>Recruiting Manager</td>\n      <td>Property</td>\n      <td>Mass Customer</td>\n      <td>N</td>\n      <td>Yes</td>\n      <td>15.0</td>\n      <td>66.0</td>\n      <td>(59, 69]</td>\n      <td>60s</td>\n    </tr>\n    <tr>\n      <th>4</th>\n      <td>5</td>\n      <td>Sheila-kathryn</td>\n      <td>Calton</td>\n      <td>Female</td>\n      <td>56</td>\n      <td>1977-05-13</td>\n      <td>Senior Editor</td>\n      <td>NaN</td>\n      <td>Affluent Customer</td>\n      <td>N</td>\n      <td>Yes</td>\n      <td>8.0</td>\n      <td>43.0</td>\n      <td>(39, 49]</td>\n      <td>40s</td>\n    </tr>\n    <tr>\n      <th>7</th>\n      <td>8</td>\n      <td>Rod</td>\n      <td>Inder</td>\n      <td>Male</td>\n      <td>31</td>\n      <td>1962-03-30</td>\n      <td>Media Manager I</td>\n      <td>NaN</td>\n      <td>Mass Customer</td>\n      <td>N</td>\n      <td>No</td>\n      <td>7.0</td>\n      <td>58.0</td>\n      <td>(49, 59]</td>\n      <td>50s</td>\n    </tr>\n  </tbody>\n</table>\n</div>"
     },
     "metadata": {},
     "execution_count": 22
    }
   ],
   "source": [
    "# Display cleaned dataframe\n",
    "cleaned_customer_demographic_xls.head()"
   ]
  },
  {
   "source": [
    "### Customer Address"
   ],
   "cell_type": "markdown",
   "metadata": {}
  },
  {
   "cell_type": "code",
   "execution_count": 23,
   "metadata": {},
   "outputs": [
    {
     "output_type": "execute_result",
     "data": {
      "text/plain": [
       "customer_id           3496\n",
       "address               3496\n",
       "postcode              3496\n",
       "state                 3496\n",
       "country               3496\n",
       "property_valuation    3496\n",
       "dtype: int64"
      ]
     },
     "metadata": {},
     "execution_count": 23
    }
   ],
   "source": [
    "# Check for null values\n",
    "cleaned_customer_address_xls.count()"
   ]
  },
  {
   "cell_type": "code",
   "execution_count": 24,
   "metadata": {},
   "outputs": [
    {
     "output_type": "execute_result",
     "data": {
      "text/plain": [
       "NSW                1783\n",
       "VIC                 801\n",
       "QLD                 744\n",
       "New South Wales      86\n",
       "Victoria             82\n",
       "Name: state, dtype: int64"
      ]
     },
     "metadata": {},
     "execution_count": 24
    }
   ],
   "source": [
    "# Check for values that need to be replaced\n",
    "cleaned_customer_address_xls[\"state\"].value_counts()"
   ]
  },
  {
   "cell_type": "code",
   "execution_count": 25,
   "metadata": {},
   "outputs": [],
   "source": [
    "# Replace inconsistent values in state column\n",
    "cleaned_customer_address_xls[\"state\"] = cleaned_customer_address_xls[\"state\"].replace([\"New South Wales\", \"Victoria\"], [\"NSW\", \"VIC\"])"
   ]
  },
  {
   "cell_type": "code",
   "execution_count": 26,
   "metadata": {},
   "outputs": [
    {
     "output_type": "execute_result",
     "data": {
      "text/plain": [
       "NSW    1869\n",
       "VIC     883\n",
       "QLD     744\n",
       "Name: state, dtype: int64"
      ]
     },
     "metadata": {},
     "execution_count": 26
    }
   ],
   "source": [
    "# Check if values were successfully replaced\n",
    "cleaned_customer_address_xls[\"state\"].value_counts()"
   ]
  },
  {
   "cell_type": "code",
   "execution_count": 27,
   "metadata": {},
   "outputs": [
    {
     "output_type": "execute_result",
     "data": {
      "text/plain": [
       "   customer_id              address  postcode state    country  \\\n",
       "0            1   060 Morning Avenue      2016   NSW  Australia   \n",
       "1            2  6 Meadow Vale Court      2153   NSW  Australia   \n",
       "2            4   0 Holy Cross Court      4211   QLD  Australia   \n",
       "3            5  17979 Del Mar Point      2448   NSW  Australia   \n",
       "4            6     9 Oakridge Court      3216   VIC  Australia   \n",
       "\n",
       "   property_valuation  \n",
       "0                  10  \n",
       "1                  10  \n",
       "2                   9  \n",
       "3                   4  \n",
       "4                   9  "
      ],
      "text/html": "<div>\n<style scoped>\n    .dataframe tbody tr th:only-of-type {\n        vertical-align: middle;\n    }\n\n    .dataframe tbody tr th {\n        vertical-align: top;\n    }\n\n    .dataframe thead th {\n        text-align: right;\n    }\n</style>\n<table border=\"1\" class=\"dataframe\">\n  <thead>\n    <tr style=\"text-align: right;\">\n      <th></th>\n      <th>customer_id</th>\n      <th>address</th>\n      <th>postcode</th>\n      <th>state</th>\n      <th>country</th>\n      <th>property_valuation</th>\n    </tr>\n  </thead>\n  <tbody>\n    <tr>\n      <th>0</th>\n      <td>1</td>\n      <td>060 Morning Avenue</td>\n      <td>2016</td>\n      <td>NSW</td>\n      <td>Australia</td>\n      <td>10</td>\n    </tr>\n    <tr>\n      <th>1</th>\n      <td>2</td>\n      <td>6 Meadow Vale Court</td>\n      <td>2153</td>\n      <td>NSW</td>\n      <td>Australia</td>\n      <td>10</td>\n    </tr>\n    <tr>\n      <th>2</th>\n      <td>4</td>\n      <td>0 Holy Cross Court</td>\n      <td>4211</td>\n      <td>QLD</td>\n      <td>Australia</td>\n      <td>9</td>\n    </tr>\n    <tr>\n      <th>3</th>\n      <td>5</td>\n      <td>17979 Del Mar Point</td>\n      <td>2448</td>\n      <td>NSW</td>\n      <td>Australia</td>\n      <td>4</td>\n    </tr>\n    <tr>\n      <th>4</th>\n      <td>6</td>\n      <td>9 Oakridge Court</td>\n      <td>3216</td>\n      <td>VIC</td>\n      <td>Australia</td>\n      <td>9</td>\n    </tr>\n  </tbody>\n</table>\n</div>"
     },
     "metadata": {},
     "execution_count": 27
    }
   ],
   "source": [
    "# Display cleaned dataframe\n",
    "cleaned_customer_address_xls.head()"
   ]
  },
  {
   "source": [
    "### New customer list"
   ],
   "cell_type": "markdown",
   "metadata": {}
  },
  {
   "cell_type": "code",
   "execution_count": 28,
   "metadata": {},
   "outputs": [],
   "source": [
    "# Add age column to new customers list\n",
    "new_customer_list_xls[\"age\"] = (now - new_customer_list_xls[\"DOB\"]).astype(\"<m8[Y]\")"
   ]
  },
  {
   "cell_type": "code",
   "execution_count": 29,
   "metadata": {},
   "outputs": [],
   "source": [
    "# Create age bins for analysis later\n",
    "new_customer_list_xls[\"age_bins\"] = pd.cut(x=new_customer_list_xls['age'], bins=[10, 19, 29, 39, 49, 59, 69, 79, 89])"
   ]
  },
  {
   "cell_type": "code",
   "execution_count": 30,
   "metadata": {},
   "outputs": [],
   "source": [
    "# Create age bins labels\n",
    "new_customer_list_xls[\"age_by_decade\"] = pd.cut(x=new_customer_list_xls['age'], bins=[10, 19, 29, 39, 49, 59, 69, 79, 89], labels=[\"10s\", \"20s\", \"30s\", \"40s\", \"50s\", \"60s\", \"70s\", \"80s\"])"
   ]
  },
  {
   "cell_type": "code",
   "execution_count": 31,
   "metadata": {},
   "outputs": [
    {
     "output_type": "execute_result",
     "data": {
      "text/plain": [
       "['first_name',\n",
       " 'last_name',\n",
       " 'gender',\n",
       " 'past_3_years_bike_related_purchases',\n",
       " 'DOB',\n",
       " 'job_title',\n",
       " 'job_industry_category',\n",
       " 'wealth_segment',\n",
       " 'deceased_indicator',\n",
       " 'owns_car',\n",
       " 'tenure',\n",
       " 'address',\n",
       " 'postcode',\n",
       " 'state',\n",
       " 'country',\n",
       " 'property_valuation',\n",
       " 'Unnamed: 16',\n",
       " 'Unnamed: 17',\n",
       " 'Unnamed: 18',\n",
       " 'Unnamed: 19',\n",
       " 'Unnamed: 20',\n",
       " 'Rank',\n",
       " 'Value',\n",
       " 'age',\n",
       " 'age_bins',\n",
       " 'age_by_decade']"
      ]
     },
     "metadata": {},
     "execution_count": 31
    }
   ],
   "source": [
    "# List all available columns in dataframe\n",
    "cl_cols = list(new_customer_list_xls.columns.values)\n",
    "cl_cols"
   ]
  },
  {
   "cell_type": "code",
   "execution_count": 32,
   "metadata": {},
   "outputs": [],
   "source": [
    "# Rearrange columns\n",
    "new_customer_list_xls = new_customer_list_xls[['first_name',\n",
    " 'last_name',\n",
    " 'gender',\n",
    " 'past_3_years_bike_related_purchases',\n",
    " 'DOB',\n",
    " 'age',\n",
    " 'age_bins',\n",
    " 'age_by_decade',\n",
    " 'job_title',\n",
    " 'job_industry_category',\n",
    " 'wealth_segment',\n",
    " 'deceased_indicator',\n",
    " 'owns_car',\n",
    " 'tenure',\n",
    " 'address',\n",
    " 'postcode',\n",
    " 'state',\n",
    " 'country',\n",
    " 'property_valuation',\n",
    " 'Unnamed: 16',\n",
    " 'Unnamed: 17',\n",
    " 'Unnamed: 18',\n",
    " 'Unnamed: 19',\n",
    " 'Unnamed: 20',\n",
    " 'Rank',\n",
    " 'Value']]"
   ]
  },
  {
   "cell_type": "code",
   "execution_count": 33,
   "metadata": {},
   "outputs": [
    {
     "output_type": "execute_result",
     "data": {
      "text/plain": [
       "  first_name  last_name  gender  past_3_years_bike_related_purchases  \\\n",
       "0    Chickie    Brister    Male                                   86   \n",
       "1      Morly     Genery    Male                                   69   \n",
       "2    Ardelis  Forrester  Female                                   10   \n",
       "3     Lucine      Stutt  Female                                   64   \n",
       "4    Melinda     Hadlee  Female                                   34   \n",
       "\n",
       "         DOB   age  age_bins age_by_decade                   job_title  \\\n",
       "0 1957-07-12  63.0  (59, 69]           60s             General Manager   \n",
       "1 1970-03-22  50.0  (49, 59]           50s         Structural Engineer   \n",
       "2 1974-08-28  46.0  (39, 49]           40s      Senior Cost Accountant   \n",
       "3 1979-01-28  41.0  (39, 49]           40s  Account Representative III   \n",
       "4 1965-09-21  55.0  (49, 59]           50s           Financial Analyst   \n",
       "\n",
       "  job_industry_category  ... state    country property_valuation  Unnamed: 16  \\\n",
       "0         Manufacturing  ...   QLD  Australia                  6         0.56   \n",
       "1              Property  ...   NSW  Australia                 11         0.89   \n",
       "2    Financial Services  ...   VIC  Australia                  5         1.01   \n",
       "3         Manufacturing  ...   QLD  Australia                  1         0.87   \n",
       "4    Financial Services  ...   NSW  Australia                  9         0.52   \n",
       "\n",
       "  Unnamed: 17  Unnamed: 18 Unnamed: 19 Unnamed: 20  Rank     Value  \n",
       "0      0.7000       0.8750    0.743750           1     1  1.718750  \n",
       "1      0.8900       1.1125    0.945625           1     1  1.718750  \n",
       "2      1.0100       1.0100    1.010000           1     1  1.718750  \n",
       "3      1.0875       1.0875    1.087500           4     4  1.703125  \n",
       "4      0.5200       0.6500    0.650000           4     4  1.703125  \n",
       "\n",
       "[5 rows x 26 columns]"
      ],
      "text/html": "<div>\n<style scoped>\n    .dataframe tbody tr th:only-of-type {\n        vertical-align: middle;\n    }\n\n    .dataframe tbody tr th {\n        vertical-align: top;\n    }\n\n    .dataframe thead th {\n        text-align: right;\n    }\n</style>\n<table border=\"1\" class=\"dataframe\">\n  <thead>\n    <tr style=\"text-align: right;\">\n      <th></th>\n      <th>first_name</th>\n      <th>last_name</th>\n      <th>gender</th>\n      <th>past_3_years_bike_related_purchases</th>\n      <th>DOB</th>\n      <th>age</th>\n      <th>age_bins</th>\n      <th>age_by_decade</th>\n      <th>job_title</th>\n      <th>job_industry_category</th>\n      <th>...</th>\n      <th>state</th>\n      <th>country</th>\n      <th>property_valuation</th>\n      <th>Unnamed: 16</th>\n      <th>Unnamed: 17</th>\n      <th>Unnamed: 18</th>\n      <th>Unnamed: 19</th>\n      <th>Unnamed: 20</th>\n      <th>Rank</th>\n      <th>Value</th>\n    </tr>\n  </thead>\n  <tbody>\n    <tr>\n      <th>0</th>\n      <td>Chickie</td>\n      <td>Brister</td>\n      <td>Male</td>\n      <td>86</td>\n      <td>1957-07-12</td>\n      <td>63.0</td>\n      <td>(59, 69]</td>\n      <td>60s</td>\n      <td>General Manager</td>\n      <td>Manufacturing</td>\n      <td>...</td>\n      <td>QLD</td>\n      <td>Australia</td>\n      <td>6</td>\n      <td>0.56</td>\n      <td>0.7000</td>\n      <td>0.8750</td>\n      <td>0.743750</td>\n      <td>1</td>\n      <td>1</td>\n      <td>1.718750</td>\n    </tr>\n    <tr>\n      <th>1</th>\n      <td>Morly</td>\n      <td>Genery</td>\n      <td>Male</td>\n      <td>69</td>\n      <td>1970-03-22</td>\n      <td>50.0</td>\n      <td>(49, 59]</td>\n      <td>50s</td>\n      <td>Structural Engineer</td>\n      <td>Property</td>\n      <td>...</td>\n      <td>NSW</td>\n      <td>Australia</td>\n      <td>11</td>\n      <td>0.89</td>\n      <td>0.8900</td>\n      <td>1.1125</td>\n      <td>0.945625</td>\n      <td>1</td>\n      <td>1</td>\n      <td>1.718750</td>\n    </tr>\n    <tr>\n      <th>2</th>\n      <td>Ardelis</td>\n      <td>Forrester</td>\n      <td>Female</td>\n      <td>10</td>\n      <td>1974-08-28</td>\n      <td>46.0</td>\n      <td>(39, 49]</td>\n      <td>40s</td>\n      <td>Senior Cost Accountant</td>\n      <td>Financial Services</td>\n      <td>...</td>\n      <td>VIC</td>\n      <td>Australia</td>\n      <td>5</td>\n      <td>1.01</td>\n      <td>1.0100</td>\n      <td>1.0100</td>\n      <td>1.010000</td>\n      <td>1</td>\n      <td>1</td>\n      <td>1.718750</td>\n    </tr>\n    <tr>\n      <th>3</th>\n      <td>Lucine</td>\n      <td>Stutt</td>\n      <td>Female</td>\n      <td>64</td>\n      <td>1979-01-28</td>\n      <td>41.0</td>\n      <td>(39, 49]</td>\n      <td>40s</td>\n      <td>Account Representative III</td>\n      <td>Manufacturing</td>\n      <td>...</td>\n      <td>QLD</td>\n      <td>Australia</td>\n      <td>1</td>\n      <td>0.87</td>\n      <td>1.0875</td>\n      <td>1.0875</td>\n      <td>1.087500</td>\n      <td>4</td>\n      <td>4</td>\n      <td>1.703125</td>\n    </tr>\n    <tr>\n      <th>4</th>\n      <td>Melinda</td>\n      <td>Hadlee</td>\n      <td>Female</td>\n      <td>34</td>\n      <td>1965-09-21</td>\n      <td>55.0</td>\n      <td>(49, 59]</td>\n      <td>50s</td>\n      <td>Financial Analyst</td>\n      <td>Financial Services</td>\n      <td>...</td>\n      <td>NSW</td>\n      <td>Australia</td>\n      <td>9</td>\n      <td>0.52</td>\n      <td>0.5200</td>\n      <td>0.6500</td>\n      <td>0.650000</td>\n      <td>4</td>\n      <td>4</td>\n      <td>1.703125</td>\n    </tr>\n  </tbody>\n</table>\n<p>5 rows × 26 columns</p>\n</div>"
     },
     "metadata": {},
     "execution_count": 33
    }
   ],
   "source": [
    "# Display final dataframe\n",
    "new_customer_list_xls.head()"
   ]
  },
  {
   "source": [
    "## Exploratory Data Analysis"
   ],
   "cell_type": "markdown",
   "metadata": {}
  },
  {
   "cell_type": "code",
   "execution_count": 34,
   "metadata": {},
   "outputs": [
    {
     "output_type": "execute_result",
     "data": {
      "text/plain": [
       "       customer_id first_name  last_name  gender  \\\n",
       "0                1    Laraine  Medendorp  Female   \n",
       "1                1    Laraine  Medendorp  Female   \n",
       "2                1    Laraine  Medendorp  Female   \n",
       "3                1    Laraine  Medendorp  Female   \n",
       "4                1    Laraine  Medendorp  Female   \n",
       "...            ...        ...        ...     ...   \n",
       "17023         3496      Danya   Burnyeat    Male   \n",
       "17024         3496      Danya   Burnyeat    Male   \n",
       "17025         3497       Thia      O'Day  Female   \n",
       "17026         3497       Thia      O'Day  Female   \n",
       "17027         3497       Thia      O'Day  Female   \n",
       "\n",
       "       past_3_years_bike_related_purchases        DOB  \\\n",
       "0                                       93 1953-10-12   \n",
       "1                                       93 1953-10-12   \n",
       "2                                       93 1953-10-12   \n",
       "3                                       93 1953-10-12   \n",
       "4                                       93 1953-10-12   \n",
       "...                                    ...        ...   \n",
       "17023                                   99 1986-04-25   \n",
       "17024                                   99 1986-04-25   \n",
       "17025                                   73 1986-05-03   \n",
       "17026                                   73 1986-05-03   \n",
       "17027                                   73 1986-05-03   \n",
       "\n",
       "                         job_title job_industry_category     wealth_segment  \\\n",
       "0              Executive Secretary                Health      Mass Customer   \n",
       "1              Executive Secretary                Health      Mass Customer   \n",
       "2              Executive Secretary                Health      Mass Customer   \n",
       "3              Executive Secretary                Health      Mass Customer   \n",
       "4              Executive Secretary                Health      Mass Customer   \n",
       "...                            ...                   ...                ...   \n",
       "17023                       Editor         Manufacturing      Mass Customer   \n",
       "17024                       Editor         Manufacturing      Mass Customer   \n",
       "17025  Administrative Assistant IV         Manufacturing  Affluent Customer   \n",
       "17026  Administrative Assistant IV         Manufacturing  Affluent Customer   \n",
       "17027  Administrative Assistant IV         Manufacturing  Affluent Customer   \n",
       "\n",
       "      deceased_indicator  ... transaction_date  online_order  order_status  \\\n",
       "0                      N  ...       2017-12-23         False      Approved   \n",
       "1                      N  ...       2017-04-06          True      Approved   \n",
       "2                      N  ...       2017-05-11          True      Approved   \n",
       "3                      N  ...       2017-01-05         False      Approved   \n",
       "4                      N  ...       2017-02-21         False      Approved   \n",
       "...                  ...  ...              ...           ...           ...   \n",
       "17023                  N  ...       2017-03-07         False      Approved   \n",
       "17024                  N  ...       2017-04-02          True      Approved   \n",
       "17025                  N  ...       2017-11-08          True      Approved   \n",
       "17026                  N  ...       2017-09-01          True      Approved   \n",
       "17027                  N  ...       2017-09-12         False      Approved   \n",
       "\n",
       "                brand product_line  product_class  product_size list_price  \\\n",
       "0          OHM Cycles     Standard         medium        medium     235.63   \n",
       "1               Solex     Standard         medium        medium    1577.53   \n",
       "2       Trek Bicycles         Road            low         small    1720.70   \n",
       "3      Norco Bicycles     Standard         medium        medium     360.40   \n",
       "4               Solex     Standard         medium        medium      71.49   \n",
       "...               ...          ...            ...           ...        ...   \n",
       "17023   Trek Bicycles     Mountain            low        medium     574.64   \n",
       "17024  Norco Bicycles     Standard           high         small    1661.92   \n",
       "17025  Giant Bicycles     Standard         medium        medium    1403.50   \n",
       "17026           Solex     Standard         medium        medium     575.27   \n",
       "17027  Giant Bicycles     Standard         medium         large    1765.30   \n",
       "\n",
       "       standard_cost product_first_sold_date  \n",
       "0             125.07                 38482.0  \n",
       "1             826.51                 39526.0  \n",
       "2            1531.42                 37823.0  \n",
       "3             270.30                 37873.0  \n",
       "4              53.62                 38573.0  \n",
       "...              ...                     ...  \n",
       "17023         459.71                 37659.0  \n",
       "17024        1479.11                 40303.0  \n",
       "17025         954.82                 42688.0  \n",
       "17026         431.45                 35160.0  \n",
       "17027         709.48                 38193.0  \n",
       "\n",
       "[17028 rows x 27 columns]"
      ],
      "text/html": "<div>\n<style scoped>\n    .dataframe tbody tr th:only-of-type {\n        vertical-align: middle;\n    }\n\n    .dataframe tbody tr th {\n        vertical-align: top;\n    }\n\n    .dataframe thead th {\n        text-align: right;\n    }\n</style>\n<table border=\"1\" class=\"dataframe\">\n  <thead>\n    <tr style=\"text-align: right;\">\n      <th></th>\n      <th>customer_id</th>\n      <th>first_name</th>\n      <th>last_name</th>\n      <th>gender</th>\n      <th>past_3_years_bike_related_purchases</th>\n      <th>DOB</th>\n      <th>job_title</th>\n      <th>job_industry_category</th>\n      <th>wealth_segment</th>\n      <th>deceased_indicator</th>\n      <th>...</th>\n      <th>transaction_date</th>\n      <th>online_order</th>\n      <th>order_status</th>\n      <th>brand</th>\n      <th>product_line</th>\n      <th>product_class</th>\n      <th>product_size</th>\n      <th>list_price</th>\n      <th>standard_cost</th>\n      <th>product_first_sold_date</th>\n    </tr>\n  </thead>\n  <tbody>\n    <tr>\n      <th>0</th>\n      <td>1</td>\n      <td>Laraine</td>\n      <td>Medendorp</td>\n      <td>Female</td>\n      <td>93</td>\n      <td>1953-10-12</td>\n      <td>Executive Secretary</td>\n      <td>Health</td>\n      <td>Mass Customer</td>\n      <td>N</td>\n      <td>...</td>\n      <td>2017-12-23</td>\n      <td>False</td>\n      <td>Approved</td>\n      <td>OHM Cycles</td>\n      <td>Standard</td>\n      <td>medium</td>\n      <td>medium</td>\n      <td>235.63</td>\n      <td>125.07</td>\n      <td>38482.0</td>\n    </tr>\n    <tr>\n      <th>1</th>\n      <td>1</td>\n      <td>Laraine</td>\n      <td>Medendorp</td>\n      <td>Female</td>\n      <td>93</td>\n      <td>1953-10-12</td>\n      <td>Executive Secretary</td>\n      <td>Health</td>\n      <td>Mass Customer</td>\n      <td>N</td>\n      <td>...</td>\n      <td>2017-04-06</td>\n      <td>True</td>\n      <td>Approved</td>\n      <td>Solex</td>\n      <td>Standard</td>\n      <td>medium</td>\n      <td>medium</td>\n      <td>1577.53</td>\n      <td>826.51</td>\n      <td>39526.0</td>\n    </tr>\n    <tr>\n      <th>2</th>\n      <td>1</td>\n      <td>Laraine</td>\n      <td>Medendorp</td>\n      <td>Female</td>\n      <td>93</td>\n      <td>1953-10-12</td>\n      <td>Executive Secretary</td>\n      <td>Health</td>\n      <td>Mass Customer</td>\n      <td>N</td>\n      <td>...</td>\n      <td>2017-05-11</td>\n      <td>True</td>\n      <td>Approved</td>\n      <td>Trek Bicycles</td>\n      <td>Road</td>\n      <td>low</td>\n      <td>small</td>\n      <td>1720.70</td>\n      <td>1531.42</td>\n      <td>37823.0</td>\n    </tr>\n    <tr>\n      <th>3</th>\n      <td>1</td>\n      <td>Laraine</td>\n      <td>Medendorp</td>\n      <td>Female</td>\n      <td>93</td>\n      <td>1953-10-12</td>\n      <td>Executive Secretary</td>\n      <td>Health</td>\n      <td>Mass Customer</td>\n      <td>N</td>\n      <td>...</td>\n      <td>2017-01-05</td>\n      <td>False</td>\n      <td>Approved</td>\n      <td>Norco Bicycles</td>\n      <td>Standard</td>\n      <td>medium</td>\n      <td>medium</td>\n      <td>360.40</td>\n      <td>270.30</td>\n      <td>37873.0</td>\n    </tr>\n    <tr>\n      <th>4</th>\n      <td>1</td>\n      <td>Laraine</td>\n      <td>Medendorp</td>\n      <td>Female</td>\n      <td>93</td>\n      <td>1953-10-12</td>\n      <td>Executive Secretary</td>\n      <td>Health</td>\n      <td>Mass Customer</td>\n      <td>N</td>\n      <td>...</td>\n      <td>2017-02-21</td>\n      <td>False</td>\n      <td>Approved</td>\n      <td>Solex</td>\n      <td>Standard</td>\n      <td>medium</td>\n      <td>medium</td>\n      <td>71.49</td>\n      <td>53.62</td>\n      <td>38573.0</td>\n    </tr>\n    <tr>\n      <th>...</th>\n      <td>...</td>\n      <td>...</td>\n      <td>...</td>\n      <td>...</td>\n      <td>...</td>\n      <td>...</td>\n      <td>...</td>\n      <td>...</td>\n      <td>...</td>\n      <td>...</td>\n      <td>...</td>\n      <td>...</td>\n      <td>...</td>\n      <td>...</td>\n      <td>...</td>\n      <td>...</td>\n      <td>...</td>\n      <td>...</td>\n      <td>...</td>\n      <td>...</td>\n      <td>...</td>\n    </tr>\n    <tr>\n      <th>17023</th>\n      <td>3496</td>\n      <td>Danya</td>\n      <td>Burnyeat</td>\n      <td>Male</td>\n      <td>99</td>\n      <td>1986-04-25</td>\n      <td>Editor</td>\n      <td>Manufacturing</td>\n      <td>Mass Customer</td>\n      <td>N</td>\n      <td>...</td>\n      <td>2017-03-07</td>\n      <td>False</td>\n      <td>Approved</td>\n      <td>Trek Bicycles</td>\n      <td>Mountain</td>\n      <td>low</td>\n      <td>medium</td>\n      <td>574.64</td>\n      <td>459.71</td>\n      <td>37659.0</td>\n    </tr>\n    <tr>\n      <th>17024</th>\n      <td>3496</td>\n      <td>Danya</td>\n      <td>Burnyeat</td>\n      <td>Male</td>\n      <td>99</td>\n      <td>1986-04-25</td>\n      <td>Editor</td>\n      <td>Manufacturing</td>\n      <td>Mass Customer</td>\n      <td>N</td>\n      <td>...</td>\n      <td>2017-04-02</td>\n      <td>True</td>\n      <td>Approved</td>\n      <td>Norco Bicycles</td>\n      <td>Standard</td>\n      <td>high</td>\n      <td>small</td>\n      <td>1661.92</td>\n      <td>1479.11</td>\n      <td>40303.0</td>\n    </tr>\n    <tr>\n      <th>17025</th>\n      <td>3497</td>\n      <td>Thia</td>\n      <td>O'Day</td>\n      <td>Female</td>\n      <td>73</td>\n      <td>1986-05-03</td>\n      <td>Administrative Assistant IV</td>\n      <td>Manufacturing</td>\n      <td>Affluent Customer</td>\n      <td>N</td>\n      <td>...</td>\n      <td>2017-11-08</td>\n      <td>True</td>\n      <td>Approved</td>\n      <td>Giant Bicycles</td>\n      <td>Standard</td>\n      <td>medium</td>\n      <td>medium</td>\n      <td>1403.50</td>\n      <td>954.82</td>\n      <td>42688.0</td>\n    </tr>\n    <tr>\n      <th>17026</th>\n      <td>3497</td>\n      <td>Thia</td>\n      <td>O'Day</td>\n      <td>Female</td>\n      <td>73</td>\n      <td>1986-05-03</td>\n      <td>Administrative Assistant IV</td>\n      <td>Manufacturing</td>\n      <td>Affluent Customer</td>\n      <td>N</td>\n      <td>...</td>\n      <td>2017-09-01</td>\n      <td>True</td>\n      <td>Approved</td>\n      <td>Solex</td>\n      <td>Standard</td>\n      <td>medium</td>\n      <td>medium</td>\n      <td>575.27</td>\n      <td>431.45</td>\n      <td>35160.0</td>\n    </tr>\n    <tr>\n      <th>17027</th>\n      <td>3497</td>\n      <td>Thia</td>\n      <td>O'Day</td>\n      <td>Female</td>\n      <td>73</td>\n      <td>1986-05-03</td>\n      <td>Administrative Assistant IV</td>\n      <td>Manufacturing</td>\n      <td>Affluent Customer</td>\n      <td>N</td>\n      <td>...</td>\n      <td>2017-09-12</td>\n      <td>False</td>\n      <td>Approved</td>\n      <td>Giant Bicycles</td>\n      <td>Standard</td>\n      <td>medium</td>\n      <td>large</td>\n      <td>1765.30</td>\n      <td>709.48</td>\n      <td>38193.0</td>\n    </tr>\n  </tbody>\n</table>\n<p>17028 rows × 27 columns</p>\n</div>"
     },
     "metadata": {},
     "execution_count": 34
    }
   ],
   "source": [
    "# Merge customer demographics and transactions dataframes\n",
    "merged_transactions_demographics = pd.merge(cleaned_customer_demographic_xls, cleaned_transactions_xls, on=\"customer_id\", how=\"inner\")\n",
    "merged_transactions_demographics"
   ]
  },
  {
   "cell_type": "code",
   "execution_count": 35,
   "metadata": {},
   "outputs": [
    {
     "output_type": "execute_result",
     "data": {
      "text/plain": [
       "customer_id                            17028\n",
       "first_name                             17028\n",
       "last_name                              16490\n",
       "gender                                 17028\n",
       "past_3_years_bike_related_purchases    17028\n",
       "DOB                                    17028\n",
       "job_title                              17028\n",
       "job_industry_category                  14315\n",
       "wealth_segment                         17028\n",
       "deceased_indicator                     17028\n",
       "owns_car                               17028\n",
       "tenure                                 17028\n",
       "age                                    17028\n",
       "age_bins                               17028\n",
       "age_by_decade                          17028\n",
       "transaction_id                         17028\n",
       "product_id                             17028\n",
       "transaction_date                       17028\n",
       "online_order                           17028\n",
       "order_status                           17028\n",
       "brand                                  17028\n",
       "product_line                           17028\n",
       "product_class                          17028\n",
       "product_size                           17028\n",
       "list_price                             17028\n",
       "standard_cost                          17028\n",
       "product_first_sold_date                17028\n",
       "dtype: int64"
      ]
     },
     "metadata": {},
     "execution_count": 35
    }
   ],
   "source": [
    "merged_transactions_demographics.count()"
   ]
  },
  {
   "cell_type": "code",
   "execution_count": 36,
   "metadata": {},
   "outputs": [
    {
     "output_type": "execute_result",
     "data": {
      "text/plain": [
       "       customer_id              address  postcode state    country  \\\n",
       "0                1   060 Morning Avenue      2016   NSW  Australia   \n",
       "1                1   060 Morning Avenue      2016   NSW  Australia   \n",
       "2                1   060 Morning Avenue      2016   NSW  Australia   \n",
       "3                1   060 Morning Avenue      2016   NSW  Australia   \n",
       "4                1   060 Morning Avenue      2016   NSW  Australia   \n",
       "...            ...                  ...       ...   ...        ...   \n",
       "17010         3496  2565 Caliangt Point      2171   NSW  Australia   \n",
       "17011         3496  2565 Caliangt Point      2171   NSW  Australia   \n",
       "17012         3497  96 Delladonna Trail      3976   VIC  Australia   \n",
       "17013         3497  96 Delladonna Trail      3976   VIC  Australia   \n",
       "17014         3497  96 Delladonna Trail      3976   VIC  Australia   \n",
       "\n",
       "       property_valuation first_name  last_name  gender  \\\n",
       "0                      10    Laraine  Medendorp  Female   \n",
       "1                      10    Laraine  Medendorp  Female   \n",
       "2                      10    Laraine  Medendorp  Female   \n",
       "3                      10    Laraine  Medendorp  Female   \n",
       "4                      10    Laraine  Medendorp  Female   \n",
       "...                   ...        ...        ...     ...   \n",
       "17010                   9      Danya   Burnyeat    Male   \n",
       "17011                   9      Danya   Burnyeat    Male   \n",
       "17012                   5       Thia      O'Day  Female   \n",
       "17013                   5       Thia      O'Day  Female   \n",
       "17014                   5       Thia      O'Day  Female   \n",
       "\n",
       "       past_3_years_bike_related_purchases  ... transaction_date online_order  \\\n",
       "0                                       93  ...       2017-12-23        False   \n",
       "1                                       93  ...       2017-04-06         True   \n",
       "2                                       93  ...       2017-05-11         True   \n",
       "3                                       93  ...       2017-01-05        False   \n",
       "4                                       93  ...       2017-02-21        False   \n",
       "...                                    ...  ...              ...          ...   \n",
       "17010                                   99  ...       2017-03-07        False   \n",
       "17011                                   99  ...       2017-04-02         True   \n",
       "17012                                   73  ...       2017-11-08         True   \n",
       "17013                                   73  ...       2017-09-01         True   \n",
       "17014                                   73  ...       2017-09-12        False   \n",
       "\n",
       "      order_status           brand product_line product_class  product_size  \\\n",
       "0         Approved      OHM Cycles     Standard        medium        medium   \n",
       "1         Approved           Solex     Standard        medium        medium   \n",
       "2         Approved   Trek Bicycles         Road           low         small   \n",
       "3         Approved  Norco Bicycles     Standard        medium        medium   \n",
       "4         Approved           Solex     Standard        medium        medium   \n",
       "...            ...             ...          ...           ...           ...   \n",
       "17010     Approved   Trek Bicycles     Mountain           low        medium   \n",
       "17011     Approved  Norco Bicycles     Standard          high         small   \n",
       "17012     Approved  Giant Bicycles     Standard        medium        medium   \n",
       "17013     Approved           Solex     Standard        medium        medium   \n",
       "17014     Approved  Giant Bicycles     Standard        medium         large   \n",
       "\n",
       "       list_price standard_cost product_first_sold_date  \n",
       "0          235.63        125.07                 38482.0  \n",
       "1         1577.53        826.51                 39526.0  \n",
       "2         1720.70       1531.42                 37823.0  \n",
       "3          360.40        270.30                 37873.0  \n",
       "4           71.49         53.62                 38573.0  \n",
       "...           ...           ...                     ...  \n",
       "17010      574.64        459.71                 37659.0  \n",
       "17011     1661.92       1479.11                 40303.0  \n",
       "17012     1403.50        954.82                 42688.0  \n",
       "17013      575.27        431.45                 35160.0  \n",
       "17014     1765.30        709.48                 38193.0  \n",
       "\n",
       "[17015 rows x 32 columns]"
      ],
      "text/html": "<div>\n<style scoped>\n    .dataframe tbody tr th:only-of-type {\n        vertical-align: middle;\n    }\n\n    .dataframe tbody tr th {\n        vertical-align: top;\n    }\n\n    .dataframe thead th {\n        text-align: right;\n    }\n</style>\n<table border=\"1\" class=\"dataframe\">\n  <thead>\n    <tr style=\"text-align: right;\">\n      <th></th>\n      <th>customer_id</th>\n      <th>address</th>\n      <th>postcode</th>\n      <th>state</th>\n      <th>country</th>\n      <th>property_valuation</th>\n      <th>first_name</th>\n      <th>last_name</th>\n      <th>gender</th>\n      <th>past_3_years_bike_related_purchases</th>\n      <th>...</th>\n      <th>transaction_date</th>\n      <th>online_order</th>\n      <th>order_status</th>\n      <th>brand</th>\n      <th>product_line</th>\n      <th>product_class</th>\n      <th>product_size</th>\n      <th>list_price</th>\n      <th>standard_cost</th>\n      <th>product_first_sold_date</th>\n    </tr>\n  </thead>\n  <tbody>\n    <tr>\n      <th>0</th>\n      <td>1</td>\n      <td>060 Morning Avenue</td>\n      <td>2016</td>\n      <td>NSW</td>\n      <td>Australia</td>\n      <td>10</td>\n      <td>Laraine</td>\n      <td>Medendorp</td>\n      <td>Female</td>\n      <td>93</td>\n      <td>...</td>\n      <td>2017-12-23</td>\n      <td>False</td>\n      <td>Approved</td>\n      <td>OHM Cycles</td>\n      <td>Standard</td>\n      <td>medium</td>\n      <td>medium</td>\n      <td>235.63</td>\n      <td>125.07</td>\n      <td>38482.0</td>\n    </tr>\n    <tr>\n      <th>1</th>\n      <td>1</td>\n      <td>060 Morning Avenue</td>\n      <td>2016</td>\n      <td>NSW</td>\n      <td>Australia</td>\n      <td>10</td>\n      <td>Laraine</td>\n      <td>Medendorp</td>\n      <td>Female</td>\n      <td>93</td>\n      <td>...</td>\n      <td>2017-04-06</td>\n      <td>True</td>\n      <td>Approved</td>\n      <td>Solex</td>\n      <td>Standard</td>\n      <td>medium</td>\n      <td>medium</td>\n      <td>1577.53</td>\n      <td>826.51</td>\n      <td>39526.0</td>\n    </tr>\n    <tr>\n      <th>2</th>\n      <td>1</td>\n      <td>060 Morning Avenue</td>\n      <td>2016</td>\n      <td>NSW</td>\n      <td>Australia</td>\n      <td>10</td>\n      <td>Laraine</td>\n      <td>Medendorp</td>\n      <td>Female</td>\n      <td>93</td>\n      <td>...</td>\n      <td>2017-05-11</td>\n      <td>True</td>\n      <td>Approved</td>\n      <td>Trek Bicycles</td>\n      <td>Road</td>\n      <td>low</td>\n      <td>small</td>\n      <td>1720.70</td>\n      <td>1531.42</td>\n      <td>37823.0</td>\n    </tr>\n    <tr>\n      <th>3</th>\n      <td>1</td>\n      <td>060 Morning Avenue</td>\n      <td>2016</td>\n      <td>NSW</td>\n      <td>Australia</td>\n      <td>10</td>\n      <td>Laraine</td>\n      <td>Medendorp</td>\n      <td>Female</td>\n      <td>93</td>\n      <td>...</td>\n      <td>2017-01-05</td>\n      <td>False</td>\n      <td>Approved</td>\n      <td>Norco Bicycles</td>\n      <td>Standard</td>\n      <td>medium</td>\n      <td>medium</td>\n      <td>360.40</td>\n      <td>270.30</td>\n      <td>37873.0</td>\n    </tr>\n    <tr>\n      <th>4</th>\n      <td>1</td>\n      <td>060 Morning Avenue</td>\n      <td>2016</td>\n      <td>NSW</td>\n      <td>Australia</td>\n      <td>10</td>\n      <td>Laraine</td>\n      <td>Medendorp</td>\n      <td>Female</td>\n      <td>93</td>\n      <td>...</td>\n      <td>2017-02-21</td>\n      <td>False</td>\n      <td>Approved</td>\n      <td>Solex</td>\n      <td>Standard</td>\n      <td>medium</td>\n      <td>medium</td>\n      <td>71.49</td>\n      <td>53.62</td>\n      <td>38573.0</td>\n    </tr>\n    <tr>\n      <th>...</th>\n      <td>...</td>\n      <td>...</td>\n      <td>...</td>\n      <td>...</td>\n      <td>...</td>\n      <td>...</td>\n      <td>...</td>\n      <td>...</td>\n      <td>...</td>\n      <td>...</td>\n      <td>...</td>\n      <td>...</td>\n      <td>...</td>\n      <td>...</td>\n      <td>...</td>\n      <td>...</td>\n      <td>...</td>\n      <td>...</td>\n      <td>...</td>\n      <td>...</td>\n      <td>...</td>\n    </tr>\n    <tr>\n      <th>17010</th>\n      <td>3496</td>\n      <td>2565 Caliangt Point</td>\n      <td>2171</td>\n      <td>NSW</td>\n      <td>Australia</td>\n      <td>9</td>\n      <td>Danya</td>\n      <td>Burnyeat</td>\n      <td>Male</td>\n      <td>99</td>\n      <td>...</td>\n      <td>2017-03-07</td>\n      <td>False</td>\n      <td>Approved</td>\n      <td>Trek Bicycles</td>\n      <td>Mountain</td>\n      <td>low</td>\n      <td>medium</td>\n      <td>574.64</td>\n      <td>459.71</td>\n      <td>37659.0</td>\n    </tr>\n    <tr>\n      <th>17011</th>\n      <td>3496</td>\n      <td>2565 Caliangt Point</td>\n      <td>2171</td>\n      <td>NSW</td>\n      <td>Australia</td>\n      <td>9</td>\n      <td>Danya</td>\n      <td>Burnyeat</td>\n      <td>Male</td>\n      <td>99</td>\n      <td>...</td>\n      <td>2017-04-02</td>\n      <td>True</td>\n      <td>Approved</td>\n      <td>Norco Bicycles</td>\n      <td>Standard</td>\n      <td>high</td>\n      <td>small</td>\n      <td>1661.92</td>\n      <td>1479.11</td>\n      <td>40303.0</td>\n    </tr>\n    <tr>\n      <th>17012</th>\n      <td>3497</td>\n      <td>96 Delladonna Trail</td>\n      <td>3976</td>\n      <td>VIC</td>\n      <td>Australia</td>\n      <td>5</td>\n      <td>Thia</td>\n      <td>O'Day</td>\n      <td>Female</td>\n      <td>73</td>\n      <td>...</td>\n      <td>2017-11-08</td>\n      <td>True</td>\n      <td>Approved</td>\n      <td>Giant Bicycles</td>\n      <td>Standard</td>\n      <td>medium</td>\n      <td>medium</td>\n      <td>1403.50</td>\n      <td>954.82</td>\n      <td>42688.0</td>\n    </tr>\n    <tr>\n      <th>17013</th>\n      <td>3497</td>\n      <td>96 Delladonna Trail</td>\n      <td>3976</td>\n      <td>VIC</td>\n      <td>Australia</td>\n      <td>5</td>\n      <td>Thia</td>\n      <td>O'Day</td>\n      <td>Female</td>\n      <td>73</td>\n      <td>...</td>\n      <td>2017-09-01</td>\n      <td>True</td>\n      <td>Approved</td>\n      <td>Solex</td>\n      <td>Standard</td>\n      <td>medium</td>\n      <td>medium</td>\n      <td>575.27</td>\n      <td>431.45</td>\n      <td>35160.0</td>\n    </tr>\n    <tr>\n      <th>17014</th>\n      <td>3497</td>\n      <td>96 Delladonna Trail</td>\n      <td>3976</td>\n      <td>VIC</td>\n      <td>Australia</td>\n      <td>5</td>\n      <td>Thia</td>\n      <td>O'Day</td>\n      <td>Female</td>\n      <td>73</td>\n      <td>...</td>\n      <td>2017-09-12</td>\n      <td>False</td>\n      <td>Approved</td>\n      <td>Giant Bicycles</td>\n      <td>Standard</td>\n      <td>medium</td>\n      <td>large</td>\n      <td>1765.30</td>\n      <td>709.48</td>\n      <td>38193.0</td>\n    </tr>\n  </tbody>\n</table>\n<p>17015 rows × 32 columns</p>\n</div>"
     },
     "metadata": {},
     "execution_count": 36
    }
   ],
   "source": [
    "# Merge customer address and transactions dataframes\n",
    "merged_transactions_address = pd.merge(cleaned_customer_address_xls, merged_transactions_demographics, on=\"customer_id\", how=\"inner\")\n",
    "merged_transactions_address"
   ]
  },
  {
   "cell_type": "code",
   "execution_count": 37,
   "metadata": {},
   "outputs": [
    {
     "output_type": "execute_result",
     "data": {
      "text/plain": [
       "customer_id                            17015\n",
       "address                                17015\n",
       "postcode                               17015\n",
       "state                                  17015\n",
       "country                                17015\n",
       "property_valuation                     17015\n",
       "first_name                             17015\n",
       "last_name                              16477\n",
       "gender                                 17015\n",
       "past_3_years_bike_related_purchases    17015\n",
       "DOB                                    17015\n",
       "job_title                              17015\n",
       "job_industry_category                  14302\n",
       "wealth_segment                         17015\n",
       "deceased_indicator                     17015\n",
       "owns_car                               17015\n",
       "tenure                                 17015\n",
       "age                                    17015\n",
       "age_bins                               17015\n",
       "age_by_decade                          17015\n",
       "transaction_id                         17015\n",
       "product_id                             17015\n",
       "transaction_date                       17015\n",
       "online_order                           17015\n",
       "order_status                           17015\n",
       "brand                                  17015\n",
       "product_line                           17015\n",
       "product_class                          17015\n",
       "product_size                           17015\n",
       "list_price                             17015\n",
       "standard_cost                          17015\n",
       "product_first_sold_date                17015\n",
       "dtype: int64"
      ]
     },
     "metadata": {},
     "execution_count": 37
    }
   ],
   "source": [
    "merged_transactions_address.count()"
   ]
  },
  {
   "source": [
    "## Customer Segmentation Analysis\n",
    "### Finding potential relationships between variables - use Seaborn heatmap\n",
    "### Exploring demographic, geographic, behavioural, psychographic data\n",
    "\n",
    "age vs past 3 years bike related purchases\n",
    "\n",
    "gender vs past 3 years bike related purchases\n",
    "\n",
    "state vs cars owned - bar chart\n",
    "\n",
    "wealth segment by age  - stacked bar chart\n",
    "\n",
    "state vs owns cars - grouped bar chart"
   ],
   "cell_type": "markdown",
   "metadata": {}
  },
  {
   "cell_type": "code",
   "execution_count": 38,
   "metadata": {},
   "outputs": [],
   "source": [
    "# Use seaborn styling for charts\n",
    "plt.style.use(\"seaborn\")"
   ]
  },
  {
   "cell_type": "code",
   "execution_count": 39,
   "metadata": {},
   "outputs": [
    {
     "output_type": "display_data",
     "data": {
      "text/plain": "<Figure size 576x396 with 1 Axes>",
      "image/svg+xml": "<?xml version=\"1.0\" encoding=\"utf-8\" standalone=\"no\"?>\r\n<!DOCTYPE svg PUBLIC \"-//W3C//DTD SVG 1.1//EN\"\r\n  \"http://www.w3.org/Graphics/SVG/1.1/DTD/svg11.dtd\">\r\n<!-- Created with matplotlib (https://matplotlib.org/) -->\r\n<svg height=\"365.42625pt\" version=\"1.1\" viewBox=\"0 0 504.103594 365.42625\" width=\"504.103594pt\" xmlns=\"http://www.w3.org/2000/svg\" xmlns:xlink=\"http://www.w3.org/1999/xlink\">\r\n <defs>\r\n  <style type=\"text/css\">\r\n*{stroke-linecap:butt;stroke-linejoin:round;}\r\n  </style>\r\n </defs>\r\n <g id=\"figure_1\">\r\n  <g id=\"patch_1\">\r\n   <path d=\"M 0 365.42625 \r\nL 504.103594 365.42625 \r\nL 504.103594 0 \r\nL 0 0 \r\nz\r\n\" style=\"fill:#ffffff;\"/>\r\n  </g>\r\n  <g id=\"axes_1\">\r\n   <g id=\"patch_2\">\r\n    <path d=\"M 50.503594 320.915625 \r\nL 496.903594 320.915625 \r\nL 496.903594 21.935625 \r\nL 50.503594 21.935625 \r\nz\r\n\" style=\"fill:#eaeaf2;\"/>\r\n   </g>\r\n   <g id=\"matplotlib.axis_1\">\r\n    <g id=\"xtick_1\">\r\n     <g id=\"line2d_1\">\r\n      <path clip-path=\"url(#pbc0c3fbcc9)\" d=\"M 78.403594 320.915625 \r\nL 78.403594 21.935625 \r\n\" style=\"fill:none;stroke:#ffffff;stroke-linecap:round;\"/>\r\n     </g>\r\n     <g id=\"line2d_2\"/>\r\n     <g id=\"text_1\">\r\n      <!-- 10s -->\r\n      <defs>\r\n       <path d=\"M 37.25 0 \r\nL 28.46875 0 \r\nL 28.46875 56 \r\nQ 25.296875 52.984375 20.140625 49.953125 \r\nQ 14.984375 46.921875 10.890625 45.40625 \r\nL 10.890625 53.90625 \r\nQ 18.265625 57.375 23.78125 62.296875 \r\nQ 29.296875 67.234375 31.59375 71.875 \r\nL 37.25 71.875 \r\nz\r\n\" id=\"ArialMT-49\"/>\r\n       <path d=\"M 4.15625 35.296875 \r\nQ 4.15625 48 6.765625 55.734375 \r\nQ 9.375 63.484375 14.515625 67.671875 \r\nQ 19.671875 71.875 27.484375 71.875 \r\nQ 33.25 71.875 37.59375 69.546875 \r\nQ 41.9375 67.234375 44.765625 62.859375 \r\nQ 47.609375 58.5 49.21875 52.21875 \r\nQ 50.828125 45.953125 50.828125 35.296875 \r\nQ 50.828125 22.703125 48.234375 14.96875 \r\nQ 45.65625 7.234375 40.5 3 \r\nQ 35.359375 -1.21875 27.484375 -1.21875 \r\nQ 17.140625 -1.21875 11.234375 6.203125 \r\nQ 4.15625 15.140625 4.15625 35.296875 \r\nz\r\nM 13.1875 35.296875 \r\nQ 13.1875 17.671875 17.3125 11.828125 \r\nQ 21.4375 6 27.484375 6 \r\nQ 33.546875 6 37.671875 11.859375 \r\nQ 41.796875 17.71875 41.796875 35.296875 \r\nQ 41.796875 52.984375 37.671875 58.78125 \r\nQ 33.546875 64.59375 27.390625 64.59375 \r\nQ 21.34375 64.59375 17.71875 59.46875 \r\nQ 13.1875 52.9375 13.1875 35.296875 \r\nz\r\n\" id=\"ArialMT-48\"/>\r\n       <path d=\"M 3.078125 15.484375 \r\nL 11.765625 16.84375 \r\nQ 12.5 11.625 15.84375 8.84375 \r\nQ 19.1875 6.0625 25.203125 6.0625 \r\nQ 31.25 6.0625 34.171875 8.515625 \r\nQ 37.109375 10.984375 37.109375 14.3125 \r\nQ 37.109375 17.28125 34.515625 19 \r\nQ 32.71875 20.171875 25.53125 21.96875 \r\nQ 15.875 24.421875 12.140625 26.203125 \r\nQ 8.40625 27.984375 6.46875 31.125 \r\nQ 4.546875 34.28125 4.546875 38.09375 \r\nQ 4.546875 41.546875 6.125 44.5 \r\nQ 7.71875 47.46875 10.453125 49.421875 \r\nQ 12.5 50.921875 16.03125 51.96875 \r\nQ 19.578125 53.03125 23.640625 53.03125 \r\nQ 29.734375 53.03125 34.34375 51.265625 \r\nQ 38.96875 49.515625 41.15625 46.5 \r\nQ 43.359375 43.5 44.1875 38.484375 \r\nL 35.59375 37.3125 \r\nQ 35.015625 41.3125 32.203125 43.546875 \r\nQ 29.390625 45.796875 24.265625 45.796875 \r\nQ 18.21875 45.796875 15.625 43.796875 \r\nQ 13.03125 41.796875 13.03125 39.109375 \r\nQ 13.03125 37.40625 14.109375 36.03125 \r\nQ 15.1875 34.625 17.484375 33.6875 \r\nQ 18.796875 33.203125 25.25 31.453125 \r\nQ 34.578125 28.953125 38.25 27.359375 \r\nQ 41.9375 25.78125 44.03125 22.75 \r\nQ 46.140625 19.734375 46.140625 15.234375 \r\nQ 46.140625 10.84375 43.578125 6.953125 \r\nQ 41.015625 3.078125 36.171875 0.953125 \r\nQ 31.34375 -1.171875 25.25 -1.171875 \r\nQ 15.140625 -1.171875 9.84375 3.03125 \r\nQ 4.546875 7.234375 3.078125 15.484375 \r\nz\r\n\" id=\"ArialMT-115\"/>\r\n      </defs>\r\n      <g style=\"fill:#262626;\" transform=\"translate(80.98875 344.0375)rotate(-90)scale(0.1 -0.1)\">\r\n       <use xlink:href=\"#ArialMT-49\"/>\r\n       <use x=\"55.615234\" xlink:href=\"#ArialMT-48\"/>\r\n       <use x=\"111.230469\" xlink:href=\"#ArialMT-115\"/>\r\n      </g>\r\n     </g>\r\n    </g>\r\n    <g id=\"xtick_2\">\r\n     <g id=\"line2d_3\">\r\n      <path clip-path=\"url(#pbc0c3fbcc9)\" d=\"M 134.203594 320.915625 \r\nL 134.203594 21.935625 \r\n\" style=\"fill:none;stroke:#ffffff;stroke-linecap:round;\"/>\r\n     </g>\r\n     <g id=\"line2d_4\"/>\r\n     <g id=\"text_2\">\r\n      <!-- 20s -->\r\n      <defs>\r\n       <path d=\"M 50.34375 8.453125 \r\nL 50.34375 0 \r\nL 3.03125 0 \r\nQ 2.9375 3.171875 4.046875 6.109375 \r\nQ 5.859375 10.9375 9.828125 15.625 \r\nQ 13.8125 20.3125 21.34375 26.46875 \r\nQ 33.015625 36.03125 37.109375 41.625 \r\nQ 41.21875 47.21875 41.21875 52.203125 \r\nQ 41.21875 57.421875 37.46875 61 \r\nQ 33.734375 64.59375 27.734375 64.59375 \r\nQ 21.390625 64.59375 17.578125 60.78125 \r\nQ 13.765625 56.984375 13.71875 50.25 \r\nL 4.6875 51.171875 \r\nQ 5.609375 61.28125 11.65625 66.578125 \r\nQ 17.71875 71.875 27.9375 71.875 \r\nQ 38.234375 71.875 44.234375 66.15625 \r\nQ 50.25 60.453125 50.25 52 \r\nQ 50.25 47.703125 48.484375 43.546875 \r\nQ 46.734375 39.40625 42.65625 34.8125 \r\nQ 38.578125 30.21875 29.109375 22.21875 \r\nQ 21.1875 15.578125 18.9375 13.203125 \r\nQ 16.703125 10.84375 15.234375 8.453125 \r\nz\r\n\" id=\"ArialMT-50\"/>\r\n      </defs>\r\n      <g style=\"fill:#262626;\" transform=\"translate(136.78875 344.0375)rotate(-90)scale(0.1 -0.1)\">\r\n       <use xlink:href=\"#ArialMT-50\"/>\r\n       <use x=\"55.615234\" xlink:href=\"#ArialMT-48\"/>\r\n       <use x=\"111.230469\" xlink:href=\"#ArialMT-115\"/>\r\n      </g>\r\n     </g>\r\n    </g>\r\n    <g id=\"xtick_3\">\r\n     <g id=\"line2d_5\">\r\n      <path clip-path=\"url(#pbc0c3fbcc9)\" d=\"M 190.003594 320.915625 \r\nL 190.003594 21.935625 \r\n\" style=\"fill:none;stroke:#ffffff;stroke-linecap:round;\"/>\r\n     </g>\r\n     <g id=\"line2d_6\"/>\r\n     <g id=\"text_3\">\r\n      <!-- 30s -->\r\n      <defs>\r\n       <path d=\"M 4.203125 18.890625 \r\nL 12.984375 20.0625 \r\nQ 14.5 12.59375 18.140625 9.296875 \r\nQ 21.78125 6 27 6 \r\nQ 33.203125 6 37.46875 10.296875 \r\nQ 41.75 14.59375 41.75 20.953125 \r\nQ 41.75 27 37.796875 30.921875 \r\nQ 33.84375 34.859375 27.734375 34.859375 \r\nQ 25.25 34.859375 21.53125 33.890625 \r\nL 22.515625 41.609375 \r\nQ 23.390625 41.5 23.921875 41.5 \r\nQ 29.546875 41.5 34.03125 44.421875 \r\nQ 38.53125 47.359375 38.53125 53.46875 \r\nQ 38.53125 58.296875 35.25 61.46875 \r\nQ 31.984375 64.65625 26.8125 64.65625 \r\nQ 21.6875 64.65625 18.265625 61.421875 \r\nQ 14.84375 58.203125 13.875 51.765625 \r\nL 5.078125 53.328125 \r\nQ 6.6875 62.15625 12.390625 67.015625 \r\nQ 18.109375 71.875 26.609375 71.875 \r\nQ 32.46875 71.875 37.390625 69.359375 \r\nQ 42.328125 66.84375 44.9375 62.5 \r\nQ 47.5625 58.15625 47.5625 53.265625 \r\nQ 47.5625 48.640625 45.0625 44.828125 \r\nQ 42.578125 41.015625 37.703125 38.765625 \r\nQ 44.046875 37.3125 47.5625 32.6875 \r\nQ 51.078125 28.078125 51.078125 21.140625 \r\nQ 51.078125 11.765625 44.234375 5.25 \r\nQ 37.40625 -1.265625 26.953125 -1.265625 \r\nQ 17.53125 -1.265625 11.296875 4.34375 \r\nQ 5.078125 9.96875 4.203125 18.890625 \r\nz\r\n\" id=\"ArialMT-51\"/>\r\n      </defs>\r\n      <g style=\"fill:#262626;\" transform=\"translate(192.58875 344.0375)rotate(-90)scale(0.1 -0.1)\">\r\n       <use xlink:href=\"#ArialMT-51\"/>\r\n       <use x=\"55.615234\" xlink:href=\"#ArialMT-48\"/>\r\n       <use x=\"111.230469\" xlink:href=\"#ArialMT-115\"/>\r\n      </g>\r\n     </g>\r\n    </g>\r\n    <g id=\"xtick_4\">\r\n     <g id=\"line2d_7\">\r\n      <path clip-path=\"url(#pbc0c3fbcc9)\" d=\"M 245.803594 320.915625 \r\nL 245.803594 21.935625 \r\n\" style=\"fill:none;stroke:#ffffff;stroke-linecap:round;\"/>\r\n     </g>\r\n     <g id=\"line2d_8\"/>\r\n     <g id=\"text_4\">\r\n      <!-- 40s -->\r\n      <defs>\r\n       <path d=\"M 32.328125 0 \r\nL 32.328125 17.140625 \r\nL 1.265625 17.140625 \r\nL 1.265625 25.203125 \r\nL 33.9375 71.578125 \r\nL 41.109375 71.578125 \r\nL 41.109375 25.203125 \r\nL 50.78125 25.203125 \r\nL 50.78125 17.140625 \r\nL 41.109375 17.140625 \r\nL 41.109375 0 \r\nz\r\nM 32.328125 25.203125 \r\nL 32.328125 57.46875 \r\nL 9.90625 25.203125 \r\nz\r\n\" id=\"ArialMT-52\"/>\r\n      </defs>\r\n      <g style=\"fill:#262626;\" transform=\"translate(248.38875 344.0375)rotate(-90)scale(0.1 -0.1)\">\r\n       <use xlink:href=\"#ArialMT-52\"/>\r\n       <use x=\"55.615234\" xlink:href=\"#ArialMT-48\"/>\r\n       <use x=\"111.230469\" xlink:href=\"#ArialMT-115\"/>\r\n      </g>\r\n     </g>\r\n    </g>\r\n    <g id=\"xtick_5\">\r\n     <g id=\"line2d_9\">\r\n      <path clip-path=\"url(#pbc0c3fbcc9)\" d=\"M 301.603594 320.915625 \r\nL 301.603594 21.935625 \r\n\" style=\"fill:none;stroke:#ffffff;stroke-linecap:round;\"/>\r\n     </g>\r\n     <g id=\"line2d_10\"/>\r\n     <g id=\"text_5\">\r\n      <!-- 50s -->\r\n      <defs>\r\n       <path d=\"M 4.15625 18.75 \r\nL 13.375 19.53125 \r\nQ 14.40625 12.796875 18.140625 9.390625 \r\nQ 21.875 6 27.15625 6 \r\nQ 33.5 6 37.890625 10.78125 \r\nQ 42.28125 15.578125 42.28125 23.484375 \r\nQ 42.28125 31 38.0625 35.34375 \r\nQ 33.84375 39.703125 27 39.703125 \r\nQ 22.75 39.703125 19.328125 37.765625 \r\nQ 15.921875 35.84375 13.96875 32.765625 \r\nL 5.71875 33.84375 \r\nL 12.640625 70.609375 \r\nL 48.25 70.609375 \r\nL 48.25 62.203125 \r\nL 19.671875 62.203125 \r\nL 15.828125 42.96875 \r\nQ 22.265625 47.46875 29.34375 47.46875 \r\nQ 38.71875 47.46875 45.15625 40.96875 \r\nQ 51.609375 34.46875 51.609375 24.265625 \r\nQ 51.609375 14.546875 45.953125 7.46875 \r\nQ 39.0625 -1.21875 27.15625 -1.21875 \r\nQ 17.390625 -1.21875 11.203125 4.25 \r\nQ 5.03125 9.71875 4.15625 18.75 \r\nz\r\n\" id=\"ArialMT-53\"/>\r\n      </defs>\r\n      <g style=\"fill:#262626;\" transform=\"translate(304.18875 344.0375)rotate(-90)scale(0.1 -0.1)\">\r\n       <use xlink:href=\"#ArialMT-53\"/>\r\n       <use x=\"55.615234\" xlink:href=\"#ArialMT-48\"/>\r\n       <use x=\"111.230469\" xlink:href=\"#ArialMT-115\"/>\r\n      </g>\r\n     </g>\r\n    </g>\r\n    <g id=\"xtick_6\">\r\n     <g id=\"line2d_11\">\r\n      <path clip-path=\"url(#pbc0c3fbcc9)\" d=\"M 357.403594 320.915625 \r\nL 357.403594 21.935625 \r\n\" style=\"fill:none;stroke:#ffffff;stroke-linecap:round;\"/>\r\n     </g>\r\n     <g id=\"line2d_12\"/>\r\n     <g id=\"text_6\">\r\n      <!-- 60s -->\r\n      <defs>\r\n       <path d=\"M 49.75 54.046875 \r\nL 41.015625 53.375 \r\nQ 39.84375 58.546875 37.703125 60.890625 \r\nQ 34.125 64.65625 28.90625 64.65625 \r\nQ 24.703125 64.65625 21.53125 62.3125 \r\nQ 17.390625 59.28125 14.984375 53.46875 \r\nQ 12.59375 47.65625 12.5 36.921875 \r\nQ 15.671875 41.75 20.265625 44.09375 \r\nQ 24.859375 46.4375 29.890625 46.4375 \r\nQ 38.671875 46.4375 44.84375 39.96875 \r\nQ 51.03125 33.5 51.03125 23.25 \r\nQ 51.03125 16.5 48.125 10.71875 \r\nQ 45.21875 4.9375 40.140625 1.859375 \r\nQ 35.0625 -1.21875 28.609375 -1.21875 \r\nQ 17.625 -1.21875 10.6875 6.859375 \r\nQ 3.765625 14.9375 3.765625 33.5 \r\nQ 3.765625 54.25 11.421875 63.671875 \r\nQ 18.109375 71.875 29.4375 71.875 \r\nQ 37.890625 71.875 43.28125 67.140625 \r\nQ 48.6875 62.40625 49.75 54.046875 \r\nz\r\nM 13.875 23.1875 \r\nQ 13.875 18.65625 15.796875 14.5 \r\nQ 17.71875 10.359375 21.1875 8.171875 \r\nQ 24.65625 6 28.46875 6 \r\nQ 34.03125 6 38.03125 10.484375 \r\nQ 42.046875 14.984375 42.046875 22.703125 \r\nQ 42.046875 30.125 38.078125 34.390625 \r\nQ 34.125 38.671875 28.125 38.671875 \r\nQ 22.171875 38.671875 18.015625 34.390625 \r\nQ 13.875 30.125 13.875 23.1875 \r\nz\r\n\" id=\"ArialMT-54\"/>\r\n      </defs>\r\n      <g style=\"fill:#262626;\" transform=\"translate(359.98875 344.0375)rotate(-90)scale(0.1 -0.1)\">\r\n       <use xlink:href=\"#ArialMT-54\"/>\r\n       <use x=\"55.615234\" xlink:href=\"#ArialMT-48\"/>\r\n       <use x=\"111.230469\" xlink:href=\"#ArialMT-115\"/>\r\n      </g>\r\n     </g>\r\n    </g>\r\n    <g id=\"xtick_7\">\r\n     <g id=\"line2d_13\">\r\n      <path clip-path=\"url(#pbc0c3fbcc9)\" d=\"M 413.203594 320.915625 \r\nL 413.203594 21.935625 \r\n\" style=\"fill:none;stroke:#ffffff;stroke-linecap:round;\"/>\r\n     </g>\r\n     <g id=\"line2d_14\"/>\r\n     <g id=\"text_7\">\r\n      <!-- 70s -->\r\n      <defs>\r\n       <path d=\"M 4.734375 62.203125 \r\nL 4.734375 70.65625 \r\nL 51.078125 70.65625 \r\nL 51.078125 63.8125 \r\nQ 44.234375 56.546875 37.515625 44.484375 \r\nQ 30.8125 32.421875 27.15625 19.671875 \r\nQ 24.515625 10.6875 23.78125 0 \r\nL 14.75 0 \r\nQ 14.890625 8.453125 18.0625 20.40625 \r\nQ 21.234375 32.375 27.171875 43.484375 \r\nQ 33.109375 54.59375 39.796875 62.203125 \r\nz\r\n\" id=\"ArialMT-55\"/>\r\n      </defs>\r\n      <g style=\"fill:#262626;\" transform=\"translate(415.78875 344.0375)rotate(-90)scale(0.1 -0.1)\">\r\n       <use xlink:href=\"#ArialMT-55\"/>\r\n       <use x=\"55.615234\" xlink:href=\"#ArialMT-48\"/>\r\n       <use x=\"111.230469\" xlink:href=\"#ArialMT-115\"/>\r\n      </g>\r\n     </g>\r\n    </g>\r\n    <g id=\"xtick_8\">\r\n     <g id=\"line2d_15\">\r\n      <path clip-path=\"url(#pbc0c3fbcc9)\" d=\"M 469.003594 320.915625 \r\nL 469.003594 21.935625 \r\n\" style=\"fill:none;stroke:#ffffff;stroke-linecap:round;\"/>\r\n     </g>\r\n     <g id=\"line2d_16\"/>\r\n     <g id=\"text_8\">\r\n      <!-- 80s -->\r\n      <defs>\r\n       <path d=\"M 17.671875 38.8125 \r\nQ 12.203125 40.828125 9.5625 44.53125 \r\nQ 6.9375 48.25 6.9375 53.421875 \r\nQ 6.9375 61.234375 12.546875 66.546875 \r\nQ 18.171875 71.875 27.484375 71.875 \r\nQ 36.859375 71.875 42.578125 66.421875 \r\nQ 48.296875 60.984375 48.296875 53.171875 \r\nQ 48.296875 48.1875 45.671875 44.5 \r\nQ 43.0625 40.828125 37.75 38.8125 \r\nQ 44.34375 36.671875 47.78125 31.875 \r\nQ 51.21875 27.09375 51.21875 20.453125 \r\nQ 51.21875 11.28125 44.71875 5.03125 \r\nQ 38.234375 -1.21875 27.640625 -1.21875 \r\nQ 17.046875 -1.21875 10.546875 5.046875 \r\nQ 4.046875 11.328125 4.046875 20.703125 \r\nQ 4.046875 27.6875 7.59375 32.390625 \r\nQ 11.140625 37.109375 17.671875 38.8125 \r\nz\r\nM 15.921875 53.71875 \r\nQ 15.921875 48.640625 19.1875 45.40625 \r\nQ 22.46875 42.1875 27.6875 42.1875 \r\nQ 32.765625 42.1875 36.015625 45.375 \r\nQ 39.265625 48.578125 39.265625 53.21875 \r\nQ 39.265625 58.0625 35.90625 61.359375 \r\nQ 32.5625 64.65625 27.59375 64.65625 \r\nQ 22.5625 64.65625 19.234375 61.421875 \r\nQ 15.921875 58.203125 15.921875 53.71875 \r\nz\r\nM 13.09375 20.65625 \r\nQ 13.09375 16.890625 14.875 13.375 \r\nQ 16.65625 9.859375 20.171875 7.921875 \r\nQ 23.6875 6 27.734375 6 \r\nQ 34.03125 6 38.125 10.046875 \r\nQ 42.234375 14.109375 42.234375 20.359375 \r\nQ 42.234375 26.703125 38.015625 30.859375 \r\nQ 33.796875 35.015625 27.4375 35.015625 \r\nQ 21.234375 35.015625 17.15625 30.90625 \r\nQ 13.09375 26.8125 13.09375 20.65625 \r\nz\r\n\" id=\"ArialMT-56\"/>\r\n      </defs>\r\n      <g style=\"fill:#262626;\" transform=\"translate(471.58875 344.0375)rotate(-90)scale(0.1 -0.1)\">\r\n       <use xlink:href=\"#ArialMT-56\"/>\r\n       <use x=\"55.615234\" xlink:href=\"#ArialMT-48\"/>\r\n       <use x=\"111.230469\" xlink:href=\"#ArialMT-115\"/>\r\n      </g>\r\n     </g>\r\n    </g>\r\n    <g id=\"text_9\">\r\n     <!-- Age by Decade -->\r\n     <defs>\r\n      <path d=\"M -0.140625 0 \r\nL 27.34375 71.578125 \r\nL 37.546875 71.578125 \r\nL 66.84375 0 \r\nL 56.0625 0 \r\nL 47.703125 21.6875 \r\nL 17.78125 21.6875 \r\nL 9.90625 0 \r\nz\r\nM 20.515625 29.390625 \r\nL 44.78125 29.390625 \r\nL 37.3125 49.21875 \r\nQ 33.890625 58.25 32.234375 64.0625 \r\nQ 30.859375 57.171875 28.375 50.390625 \r\nz\r\n\" id=\"ArialMT-65\"/>\r\n      <path d=\"M 4.984375 -4.296875 \r\nL 13.53125 -5.5625 \r\nQ 14.0625 -9.515625 16.5 -11.328125 \r\nQ 19.78125 -13.765625 25.4375 -13.765625 \r\nQ 31.546875 -13.765625 34.859375 -11.328125 \r\nQ 38.1875 -8.890625 39.359375 -4.5 \r\nQ 40.046875 -1.8125 39.984375 6.78125 \r\nQ 34.234375 0 25.640625 0 \r\nQ 14.9375 0 9.078125 7.71875 \r\nQ 3.21875 15.4375 3.21875 26.21875 \r\nQ 3.21875 33.640625 5.90625 39.90625 \r\nQ 8.59375 46.1875 13.6875 49.609375 \r\nQ 18.796875 53.03125 25.6875 53.03125 \r\nQ 34.859375 53.03125 40.828125 45.609375 \r\nL 40.828125 51.859375 \r\nL 48.921875 51.859375 \r\nL 48.921875 7.03125 \r\nQ 48.921875 -5.078125 46.453125 -10.125 \r\nQ 44 -15.1875 38.640625 -18.109375 \r\nQ 33.296875 -21.046875 25.484375 -21.046875 \r\nQ 16.21875 -21.046875 10.5 -16.875 \r\nQ 4.78125 -12.703125 4.984375 -4.296875 \r\nz\r\nM 12.25 26.859375 \r\nQ 12.25 16.65625 16.296875 11.96875 \r\nQ 20.359375 7.28125 26.46875 7.28125 \r\nQ 32.515625 7.28125 36.609375 11.9375 \r\nQ 40.71875 16.609375 40.71875 26.5625 \r\nQ 40.71875 36.078125 36.5 40.90625 \r\nQ 32.28125 45.75 26.3125 45.75 \r\nQ 20.453125 45.75 16.34375 40.984375 \r\nQ 12.25 36.234375 12.25 26.859375 \r\nz\r\n\" id=\"ArialMT-103\"/>\r\n      <path d=\"M 42.09375 16.703125 \r\nL 51.171875 15.578125 \r\nQ 49.03125 7.625 43.21875 3.21875 \r\nQ 37.40625 -1.171875 28.375 -1.171875 \r\nQ 17 -1.171875 10.328125 5.828125 \r\nQ 3.65625 12.84375 3.65625 25.484375 \r\nQ 3.65625 38.578125 10.390625 45.796875 \r\nQ 17.140625 53.03125 27.875 53.03125 \r\nQ 38.28125 53.03125 44.875 45.953125 \r\nQ 51.46875 38.875 51.46875 26.03125 \r\nQ 51.46875 25.25 51.421875 23.6875 \r\nL 12.75 23.6875 \r\nQ 13.234375 15.140625 17.578125 10.59375 \r\nQ 21.921875 6.0625 28.421875 6.0625 \r\nQ 33.25 6.0625 36.671875 8.59375 \r\nQ 40.09375 11.140625 42.09375 16.703125 \r\nz\r\nM 13.234375 30.90625 \r\nL 42.1875 30.90625 \r\nQ 41.609375 37.453125 38.875 40.71875 \r\nQ 34.671875 45.796875 27.984375 45.796875 \r\nQ 21.921875 45.796875 17.796875 41.75 \r\nQ 13.671875 37.703125 13.234375 30.90625 \r\nz\r\n\" id=\"ArialMT-101\"/>\r\n      <path id=\"ArialMT-32\"/>\r\n      <path d=\"M 14.703125 0 \r\nL 6.546875 0 \r\nL 6.546875 71.578125 \r\nL 15.328125 71.578125 \r\nL 15.328125 46.046875 \r\nQ 20.90625 53.03125 29.546875 53.03125 \r\nQ 34.328125 53.03125 38.59375 51.09375 \r\nQ 42.875 49.171875 45.625 45.671875 \r\nQ 48.390625 42.1875 49.953125 37.25 \r\nQ 51.515625 32.328125 51.515625 26.703125 \r\nQ 51.515625 13.375 44.921875 6.09375 \r\nQ 38.328125 -1.171875 29.109375 -1.171875 \r\nQ 19.921875 -1.171875 14.703125 6.5 \r\nz\r\nM 14.59375 26.3125 \r\nQ 14.59375 17 17.140625 12.84375 \r\nQ 21.296875 6.0625 28.375 6.0625 \r\nQ 34.125 6.0625 38.328125 11.0625 \r\nQ 42.53125 16.0625 42.53125 25.984375 \r\nQ 42.53125 36.140625 38.5 40.96875 \r\nQ 34.46875 45.796875 28.765625 45.796875 \r\nQ 23 45.796875 18.796875 40.796875 \r\nQ 14.59375 35.796875 14.59375 26.3125 \r\nz\r\n\" id=\"ArialMT-98\"/>\r\n      <path d=\"M 6.203125 -19.96875 \r\nL 5.21875 -11.71875 \r\nQ 8.109375 -12.5 10.25 -12.5 \r\nQ 13.1875 -12.5 14.9375 -11.515625 \r\nQ 16.703125 -10.546875 17.828125 -8.796875 \r\nQ 18.65625 -7.46875 20.515625 -2.25 \r\nQ 20.75 -1.515625 21.296875 -0.09375 \r\nL 1.609375 51.859375 \r\nL 11.078125 51.859375 \r\nL 21.875 21.828125 \r\nQ 23.96875 16.109375 25.640625 9.8125 \r\nQ 27.15625 15.875 29.25 21.625 \r\nL 40.328125 51.859375 \r\nL 49.125 51.859375 \r\nL 29.390625 -0.875 \r\nQ 26.21875 -9.421875 24.46875 -12.640625 \r\nQ 22.125 -17 19.09375 -19.015625 \r\nQ 16.0625 -21.046875 11.859375 -21.046875 \r\nQ 9.328125 -21.046875 6.203125 -19.96875 \r\nz\r\n\" id=\"ArialMT-121\"/>\r\n      <path d=\"M 7.71875 0 \r\nL 7.71875 71.578125 \r\nL 32.375 71.578125 \r\nQ 40.71875 71.578125 45.125 70.5625 \r\nQ 51.265625 69.140625 55.609375 65.4375 \r\nQ 61.28125 60.640625 64.078125 53.1875 \r\nQ 66.890625 45.75 66.890625 36.1875 \r\nQ 66.890625 28.03125 64.984375 21.734375 \r\nQ 63.09375 15.4375 60.109375 11.296875 \r\nQ 57.125 7.171875 53.578125 4.796875 \r\nQ 50.046875 2.4375 45.046875 1.21875 \r\nQ 40.046875 0 33.546875 0 \r\nz\r\nM 17.1875 8.453125 \r\nL 32.46875 8.453125 \r\nQ 39.546875 8.453125 43.578125 9.765625 \r\nQ 47.609375 11.078125 50 13.484375 \r\nQ 53.375 16.84375 55.25 22.53125 \r\nQ 57.125 28.21875 57.125 36.328125 \r\nQ 57.125 47.5625 53.4375 53.59375 \r\nQ 49.75 59.625 44.484375 61.671875 \r\nQ 40.671875 63.140625 32.234375 63.140625 \r\nL 17.1875 63.140625 \r\nz\r\n\" id=\"ArialMT-68\"/>\r\n      <path d=\"M 40.4375 19 \r\nL 49.078125 17.875 \r\nQ 47.65625 8.9375 41.8125 3.875 \r\nQ 35.984375 -1.171875 27.484375 -1.171875 \r\nQ 16.84375 -1.171875 10.375 5.78125 \r\nQ 3.90625 12.75 3.90625 25.734375 \r\nQ 3.90625 34.125 6.6875 40.421875 \r\nQ 9.46875 46.734375 15.15625 49.875 \r\nQ 20.84375 53.03125 27.546875 53.03125 \r\nQ 35.984375 53.03125 41.359375 48.75 \r\nQ 46.734375 44.484375 48.25 36.625 \r\nL 39.703125 35.296875 \r\nQ 38.484375 40.53125 35.375 43.15625 \r\nQ 32.28125 45.796875 27.875 45.796875 \r\nQ 21.234375 45.796875 17.078125 41.03125 \r\nQ 12.9375 36.28125 12.9375 25.984375 \r\nQ 12.9375 15.53125 16.9375 10.796875 \r\nQ 20.953125 6.0625 27.390625 6.0625 \r\nQ 32.5625 6.0625 36.03125 9.234375 \r\nQ 39.5 12.40625 40.4375 19 \r\nz\r\n\" id=\"ArialMT-99\"/>\r\n      <path d=\"M 40.4375 6.390625 \r\nQ 35.546875 2.25 31.03125 0.53125 \r\nQ 26.515625 -1.171875 21.34375 -1.171875 \r\nQ 12.796875 -1.171875 8.203125 3 \r\nQ 3.609375 7.171875 3.609375 13.671875 \r\nQ 3.609375 17.484375 5.34375 20.625 \r\nQ 7.078125 23.78125 9.890625 25.6875 \r\nQ 12.703125 27.59375 16.21875 28.5625 \r\nQ 18.796875 29.25 24.03125 29.890625 \r\nQ 34.671875 31.15625 39.703125 32.90625 \r\nQ 39.75 34.71875 39.75 35.203125 \r\nQ 39.75 40.578125 37.25 42.78125 \r\nQ 33.890625 45.75 27.25 45.75 \r\nQ 21.046875 45.75 18.09375 43.578125 \r\nQ 15.140625 41.40625 13.71875 35.890625 \r\nL 5.125 37.0625 \r\nQ 6.296875 42.578125 8.984375 45.96875 \r\nQ 11.671875 49.359375 16.75 51.1875 \r\nQ 21.828125 53.03125 28.515625 53.03125 \r\nQ 35.15625 53.03125 39.296875 51.46875 \r\nQ 43.453125 49.90625 45.40625 47.53125 \r\nQ 47.359375 45.171875 48.140625 41.546875 \r\nQ 48.578125 39.3125 48.578125 33.453125 \r\nL 48.578125 21.734375 \r\nQ 48.578125 9.46875 49.140625 6.21875 \r\nQ 49.703125 2.984375 51.375 0 \r\nL 42.1875 0 \r\nQ 40.828125 2.734375 40.4375 6.390625 \r\nz\r\nM 39.703125 26.03125 \r\nQ 34.90625 24.078125 25.34375 22.703125 \r\nQ 19.921875 21.921875 17.671875 20.9375 \r\nQ 15.4375 19.96875 14.203125 18.09375 \r\nQ 12.984375 16.21875 12.984375 13.921875 \r\nQ 12.984375 10.40625 15.640625 8.0625 \r\nQ 18.3125 5.71875 23.4375 5.71875 \r\nQ 28.515625 5.71875 32.46875 7.9375 \r\nQ 36.421875 10.15625 38.28125 14.015625 \r\nQ 39.703125 17 39.703125 22.796875 \r\nz\r\n\" id=\"ArialMT-97\"/>\r\n      <path d=\"M 40.234375 0 \r\nL 40.234375 6.546875 \r\nQ 35.296875 -1.171875 25.734375 -1.171875 \r\nQ 19.53125 -1.171875 14.328125 2.25 \r\nQ 9.125 5.671875 6.265625 11.796875 \r\nQ 3.421875 17.921875 3.421875 25.875 \r\nQ 3.421875 33.640625 6 39.96875 \r\nQ 8.59375 46.296875 13.765625 49.65625 \r\nQ 18.953125 53.03125 25.34375 53.03125 \r\nQ 30.03125 53.03125 33.6875 51.046875 \r\nQ 37.359375 49.078125 39.65625 45.90625 \r\nL 39.65625 71.578125 \r\nL 48.390625 71.578125 \r\nL 48.390625 0 \r\nz\r\nM 12.453125 25.875 \r\nQ 12.453125 15.921875 16.640625 10.984375 \r\nQ 20.84375 6.0625 26.5625 6.0625 \r\nQ 32.328125 6.0625 36.34375 10.765625 \r\nQ 40.375 15.484375 40.375 25.140625 \r\nQ 40.375 35.796875 36.265625 40.765625 \r\nQ 32.171875 45.75 26.171875 45.75 \r\nQ 20.3125 45.75 16.375 40.96875 \r\nQ 12.453125 36.1875 12.453125 25.875 \r\nz\r\n\" id=\"ArialMT-100\"/>\r\n     </defs>\r\n     <g style=\"fill:#262626;\" transform=\"translate(236.097344 355.911094)scale(0.11 -0.11)\">\r\n      <use xlink:href=\"#ArialMT-65\"/>\r\n      <use x=\"66.699219\" xlink:href=\"#ArialMT-103\"/>\r\n      <use x=\"122.314453\" xlink:href=\"#ArialMT-101\"/>\r\n      <use x=\"177.929688\" xlink:href=\"#ArialMT-32\"/>\r\n      <use x=\"205.712891\" xlink:href=\"#ArialMT-98\"/>\r\n      <use x=\"261.328125\" xlink:href=\"#ArialMT-121\"/>\r\n      <use x=\"311.328125\" xlink:href=\"#ArialMT-32\"/>\r\n      <use x=\"339.111328\" xlink:href=\"#ArialMT-68\"/>\r\n      <use x=\"411.328125\" xlink:href=\"#ArialMT-101\"/>\r\n      <use x=\"466.943359\" xlink:href=\"#ArialMT-99\"/>\r\n      <use x=\"516.943359\" xlink:href=\"#ArialMT-97\"/>\r\n      <use x=\"572.558594\" xlink:href=\"#ArialMT-100\"/>\r\n      <use x=\"628.173828\" xlink:href=\"#ArialMT-101\"/>\r\n     </g>\r\n    </g>\r\n   </g>\r\n   <g id=\"matplotlib.axis_2\">\r\n    <g id=\"ytick_1\">\r\n     <g id=\"line2d_17\">\r\n      <path clip-path=\"url(#pbc0c3fbcc9)\" d=\"M 50.503594 320.915625 \r\nL 496.903594 320.915625 \r\n\" style=\"fill:none;stroke:#ffffff;stroke-linecap:round;\"/>\r\n     </g>\r\n     <g id=\"line2d_18\"/>\r\n     <g id=\"text_10\">\r\n      <!-- 0 -->\r\n      <g style=\"fill:#262626;\" transform=\"translate(37.942656 324.494531)scale(0.1 -0.1)\">\r\n       <use xlink:href=\"#ArialMT-48\"/>\r\n      </g>\r\n     </g>\r\n    </g>\r\n    <g id=\"ytick_2\">\r\n     <g id=\"line2d_19\">\r\n      <path clip-path=\"url(#pbc0c3fbcc9)\" d=\"M 50.503594 266.367185 \r\nL 496.903594 266.367185 \r\n\" style=\"fill:none;stroke:#ffffff;stroke-linecap:round;\"/>\r\n     </g>\r\n     <g id=\"line2d_20\"/>\r\n     <g id=\"text_11\">\r\n      <!-- 200 -->\r\n      <g style=\"fill:#262626;\" transform=\"translate(26.820781 269.946091)scale(0.1 -0.1)\">\r\n       <use xlink:href=\"#ArialMT-50\"/>\r\n       <use x=\"55.615234\" xlink:href=\"#ArialMT-48\"/>\r\n       <use x=\"111.230469\" xlink:href=\"#ArialMT-48\"/>\r\n      </g>\r\n     </g>\r\n    </g>\r\n    <g id=\"ytick_3\">\r\n     <g id=\"line2d_21\">\r\n      <path clip-path=\"url(#pbc0c3fbcc9)\" d=\"M 50.503594 211.818745 \r\nL 496.903594 211.818745 \r\n\" style=\"fill:none;stroke:#ffffff;stroke-linecap:round;\"/>\r\n     </g>\r\n     <g id=\"line2d_22\"/>\r\n     <g id=\"text_12\">\r\n      <!-- 400 -->\r\n      <g style=\"fill:#262626;\" transform=\"translate(26.820781 215.397651)scale(0.1 -0.1)\">\r\n       <use xlink:href=\"#ArialMT-52\"/>\r\n       <use x=\"55.615234\" xlink:href=\"#ArialMT-48\"/>\r\n       <use x=\"111.230469\" xlink:href=\"#ArialMT-48\"/>\r\n      </g>\r\n     </g>\r\n    </g>\r\n    <g id=\"ytick_4\">\r\n     <g id=\"line2d_23\">\r\n      <path clip-path=\"url(#pbc0c3fbcc9)\" d=\"M 50.503594 157.270305 \r\nL 496.903594 157.270305 \r\n\" style=\"fill:none;stroke:#ffffff;stroke-linecap:round;\"/>\r\n     </g>\r\n     <g id=\"line2d_24\"/>\r\n     <g id=\"text_13\">\r\n      <!-- 600 -->\r\n      <g style=\"fill:#262626;\" transform=\"translate(26.820781 160.849211)scale(0.1 -0.1)\">\r\n       <use xlink:href=\"#ArialMT-54\"/>\r\n       <use x=\"55.615234\" xlink:href=\"#ArialMT-48\"/>\r\n       <use x=\"111.230469\" xlink:href=\"#ArialMT-48\"/>\r\n      </g>\r\n     </g>\r\n    </g>\r\n    <g id=\"ytick_5\">\r\n     <g id=\"line2d_25\">\r\n      <path clip-path=\"url(#pbc0c3fbcc9)\" d=\"M 50.503594 102.721865 \r\nL 496.903594 102.721865 \r\n\" style=\"fill:none;stroke:#ffffff;stroke-linecap:round;\"/>\r\n     </g>\r\n     <g id=\"line2d_26\"/>\r\n     <g id=\"text_14\">\r\n      <!-- 800 -->\r\n      <g style=\"fill:#262626;\" transform=\"translate(26.820781 106.300771)scale(0.1 -0.1)\">\r\n       <use xlink:href=\"#ArialMT-56\"/>\r\n       <use x=\"55.615234\" xlink:href=\"#ArialMT-48\"/>\r\n       <use x=\"111.230469\" xlink:href=\"#ArialMT-48\"/>\r\n      </g>\r\n     </g>\r\n    </g>\r\n    <g id=\"ytick_6\">\r\n     <g id=\"line2d_27\">\r\n      <path clip-path=\"url(#pbc0c3fbcc9)\" d=\"M 50.503594 48.173425 \r\nL 496.903594 48.173425 \r\n\" style=\"fill:none;stroke:#ffffff;stroke-linecap:round;\"/>\r\n     </g>\r\n     <g id=\"line2d_28\"/>\r\n     <g id=\"text_15\">\r\n      <!-- 1000 -->\r\n      <g style=\"fill:#262626;\" transform=\"translate(21.259844 51.752331)scale(0.1 -0.1)\">\r\n       <use xlink:href=\"#ArialMT-49\"/>\r\n       <use x=\"55.615234\" xlink:href=\"#ArialMT-48\"/>\r\n       <use x=\"111.230469\" xlink:href=\"#ArialMT-48\"/>\r\n       <use x=\"166.845703\" xlink:href=\"#ArialMT-48\"/>\r\n      </g>\r\n     </g>\r\n    </g>\r\n    <g id=\"text_16\">\r\n     <!-- Customer Count -->\r\n     <defs>\r\n      <path d=\"M 58.796875 25.09375 \r\nL 68.265625 22.703125 \r\nQ 65.28125 11.03125 57.546875 4.90625 \r\nQ 49.8125 -1.21875 38.625 -1.21875 \r\nQ 27.046875 -1.21875 19.796875 3.484375 \r\nQ 12.546875 8.203125 8.765625 17.140625 \r\nQ 4.984375 26.078125 4.984375 36.328125 \r\nQ 4.984375 47.515625 9.25 55.828125 \r\nQ 13.53125 64.15625 21.40625 68.46875 \r\nQ 29.296875 72.796875 38.765625 72.796875 \r\nQ 49.515625 72.796875 56.828125 67.328125 \r\nQ 64.15625 61.859375 67.046875 51.953125 \r\nL 57.71875 49.75 \r\nQ 55.21875 57.5625 50.484375 61.125 \r\nQ 45.75 64.703125 38.578125 64.703125 \r\nQ 30.328125 64.703125 24.78125 60.734375 \r\nQ 19.234375 56.78125 16.984375 50.109375 \r\nQ 14.75 43.453125 14.75 36.375 \r\nQ 14.75 27.25 17.40625 20.4375 \r\nQ 20.0625 13.625 25.671875 10.25 \r\nQ 31.296875 6.890625 37.84375 6.890625 \r\nQ 45.796875 6.890625 51.3125 11.46875 \r\nQ 56.84375 16.0625 58.796875 25.09375 \r\nz\r\n\" id=\"ArialMT-67\"/>\r\n      <path d=\"M 40.578125 0 \r\nL 40.578125 7.625 \r\nQ 34.515625 -1.171875 24.125 -1.171875 \r\nQ 19.53125 -1.171875 15.546875 0.578125 \r\nQ 11.578125 2.34375 9.640625 5 \r\nQ 7.71875 7.671875 6.9375 11.53125 \r\nQ 6.390625 14.109375 6.390625 19.734375 \r\nL 6.390625 51.859375 \r\nL 15.1875 51.859375 \r\nL 15.1875 23.09375 \r\nQ 15.1875 16.21875 15.71875 13.8125 \r\nQ 16.546875 10.359375 19.234375 8.375 \r\nQ 21.921875 6.390625 25.875 6.390625 \r\nQ 29.828125 6.390625 33.296875 8.421875 \r\nQ 36.765625 10.453125 38.203125 13.9375 \r\nQ 39.65625 17.4375 39.65625 24.078125 \r\nL 39.65625 51.859375 \r\nL 48.4375 51.859375 \r\nL 48.4375 0 \r\nz\r\n\" id=\"ArialMT-117\"/>\r\n      <path d=\"M 25.78125 7.859375 \r\nL 27.046875 0.09375 \r\nQ 23.34375 -0.6875 20.40625 -0.6875 \r\nQ 15.625 -0.6875 12.984375 0.828125 \r\nQ 10.359375 2.34375 9.28125 4.8125 \r\nQ 8.203125 7.28125 8.203125 15.1875 \r\nL 8.203125 45.015625 \r\nL 1.765625 45.015625 \r\nL 1.765625 51.859375 \r\nL 8.203125 51.859375 \r\nL 8.203125 64.703125 \r\nL 16.9375 69.96875 \r\nL 16.9375 51.859375 \r\nL 25.78125 51.859375 \r\nL 25.78125 45.015625 \r\nL 16.9375 45.015625 \r\nL 16.9375 14.703125 \r\nQ 16.9375 10.9375 17.40625 9.859375 \r\nQ 17.875 8.796875 18.921875 8.15625 \r\nQ 19.96875 7.515625 21.921875 7.515625 \r\nQ 23.390625 7.515625 25.78125 7.859375 \r\nz\r\n\" id=\"ArialMT-116\"/>\r\n      <path d=\"M 3.328125 25.921875 \r\nQ 3.328125 40.328125 11.328125 47.265625 \r\nQ 18.015625 53.03125 27.640625 53.03125 \r\nQ 38.328125 53.03125 45.109375 46.015625 \r\nQ 51.90625 39.015625 51.90625 26.65625 \r\nQ 51.90625 16.65625 48.90625 10.90625 \r\nQ 45.90625 5.171875 40.15625 2 \r\nQ 34.421875 -1.171875 27.640625 -1.171875 \r\nQ 16.75 -1.171875 10.03125 5.8125 \r\nQ 3.328125 12.796875 3.328125 25.921875 \r\nz\r\nM 12.359375 25.921875 \r\nQ 12.359375 15.96875 16.703125 11.015625 \r\nQ 21.046875 6.0625 27.640625 6.0625 \r\nQ 34.1875 6.0625 38.53125 11.03125 \r\nQ 42.875 16.015625 42.875 26.21875 \r\nQ 42.875 35.84375 38.5 40.796875 \r\nQ 34.125 45.75 27.640625 45.75 \r\nQ 21.046875 45.75 16.703125 40.8125 \r\nQ 12.359375 35.890625 12.359375 25.921875 \r\nz\r\n\" id=\"ArialMT-111\"/>\r\n      <path d=\"M 6.59375 0 \r\nL 6.59375 51.859375 \r\nL 14.453125 51.859375 \r\nL 14.453125 44.578125 \r\nQ 16.890625 48.390625 20.9375 50.703125 \r\nQ 25 53.03125 30.171875 53.03125 \r\nQ 35.9375 53.03125 39.625 50.640625 \r\nQ 43.3125 48.25 44.828125 43.953125 \r\nQ 50.984375 53.03125 60.84375 53.03125 \r\nQ 68.5625 53.03125 72.703125 48.75 \r\nQ 76.859375 44.484375 76.859375 35.59375 \r\nL 76.859375 0 \r\nL 68.109375 0 \r\nL 68.109375 32.671875 \r\nQ 68.109375 37.9375 67.25 40.25 \r\nQ 66.40625 42.578125 64.15625 43.984375 \r\nQ 61.921875 45.40625 58.890625 45.40625 \r\nQ 53.421875 45.40625 49.796875 41.765625 \r\nQ 46.1875 38.140625 46.1875 30.125 \r\nL 46.1875 0 \r\nL 37.40625 0 \r\nL 37.40625 33.6875 \r\nQ 37.40625 39.546875 35.25 42.46875 \r\nQ 33.109375 45.40625 28.21875 45.40625 \r\nQ 24.515625 45.40625 21.359375 43.453125 \r\nQ 18.21875 41.5 16.796875 37.734375 \r\nQ 15.375 33.984375 15.375 26.90625 \r\nL 15.375 0 \r\nz\r\n\" id=\"ArialMT-109\"/>\r\n      <path d=\"M 6.5 0 \r\nL 6.5 51.859375 \r\nL 14.40625 51.859375 \r\nL 14.40625 44 \r\nQ 17.4375 49.515625 20 51.265625 \r\nQ 22.5625 53.03125 25.640625 53.03125 \r\nQ 30.078125 53.03125 34.671875 50.203125 \r\nL 31.640625 42.046875 \r\nQ 28.421875 43.953125 25.203125 43.953125 \r\nQ 22.3125 43.953125 20.015625 42.21875 \r\nQ 17.71875 40.484375 16.75 37.40625 \r\nQ 15.28125 32.71875 15.28125 27.15625 \r\nL 15.28125 0 \r\nz\r\n\" id=\"ArialMT-114\"/>\r\n      <path d=\"M 6.59375 0 \r\nL 6.59375 51.859375 \r\nL 14.5 51.859375 \r\nL 14.5 44.484375 \r\nQ 20.21875 53.03125 31 53.03125 \r\nQ 35.6875 53.03125 39.625 51.34375 \r\nQ 43.5625 49.65625 45.515625 46.921875 \r\nQ 47.46875 44.1875 48.25 40.4375 \r\nQ 48.734375 37.984375 48.734375 31.890625 \r\nL 48.734375 0 \r\nL 39.9375 0 \r\nL 39.9375 31.546875 \r\nQ 39.9375 36.921875 38.90625 39.578125 \r\nQ 37.890625 42.234375 35.28125 43.8125 \r\nQ 32.671875 45.40625 29.15625 45.40625 \r\nQ 23.53125 45.40625 19.453125 41.84375 \r\nQ 15.375 38.28125 15.375 28.328125 \r\nL 15.375 0 \r\nz\r\n\" id=\"ArialMT-110\"/>\r\n     </defs>\r\n     <g style=\"fill:#262626;\" transform=\"translate(15.073594 211.467344)rotate(-90)scale(0.11 -0.11)\">\r\n      <use xlink:href=\"#ArialMT-67\"/>\r\n      <use x=\"72.216797\" xlink:href=\"#ArialMT-117\"/>\r\n      <use x=\"127.832031\" xlink:href=\"#ArialMT-115\"/>\r\n      <use x=\"177.832031\" xlink:href=\"#ArialMT-116\"/>\r\n      <use x=\"205.615234\" xlink:href=\"#ArialMT-111\"/>\r\n      <use x=\"261.230469\" xlink:href=\"#ArialMT-109\"/>\r\n      <use x=\"344.53125\" xlink:href=\"#ArialMT-101\"/>\r\n      <use x=\"400.146484\" xlink:href=\"#ArialMT-114\"/>\r\n      <use x=\"433.447266\" xlink:href=\"#ArialMT-32\"/>\r\n      <use x=\"461.230469\" xlink:href=\"#ArialMT-67\"/>\r\n      <use x=\"533.447266\" xlink:href=\"#ArialMT-111\"/>\r\n      <use x=\"589.0625\" xlink:href=\"#ArialMT-117\"/>\r\n      <use x=\"644.677734\" xlink:href=\"#ArialMT-110\"/>\r\n      <use x=\"700.292969\" xlink:href=\"#ArialMT-116\"/>\r\n     </g>\r\n    </g>\r\n   </g>\r\n   <g id=\"patch_3\">\r\n    <path clip-path=\"url(#pbc0c3fbcc9)\" d=\"M 64.453594 320.915625 \r\nL 92.353594 320.915625 \r\nL 92.353594 311.915132 \r\nL 64.453594 311.915132 \r\nz\r\n\" style=\"fill:#4c72b0;\"/>\r\n   </g>\r\n   <g id=\"patch_4\">\r\n    <path clip-path=\"url(#pbc0c3fbcc9)\" d=\"M 120.253594 320.915625 \r\nL 148.153594 320.915625 \r\nL 148.153594 180.453392 \r\nL 120.253594 180.453392 \r\nz\r\n\" style=\"fill:#4c72b0;\"/>\r\n   </g>\r\n   <g id=\"patch_5\">\r\n    <path clip-path=\"url(#pbc0c3fbcc9)\" d=\"M 176.053594 320.915625 \r\nL 203.953594 320.915625 \r\nL 203.953594 173.907579 \r\nL 176.053594 173.907579 \r\nz\r\n\" style=\"fill:#4c72b0;\"/>\r\n   </g>\r\n   <g id=\"patch_6\">\r\n    <path clip-path=\"url(#pbc0c3fbcc9)\" d=\"M 231.853594 320.915625 \r\nL 259.753594 320.915625 \r\nL 259.753594 36.172768 \r\nL 231.853594 36.172768 \r\nz\r\n\" style=\"fill:#4c72b0;\"/>\r\n   </g>\r\n   <g id=\"patch_7\">\r\n    <path clip-path=\"url(#pbc0c3fbcc9)\" d=\"M 287.653594 320.915625 \r\nL 315.553594 320.915625 \r\nL 315.553594 182.089845 \r\nL 287.653594 182.089845 \r\nz\r\n\" style=\"fill:#4c72b0;\"/>\r\n   </g>\r\n   <g id=\"patch_8\">\r\n    <path clip-path=\"url(#pbc0c3fbcc9)\" d=\"M 343.453594 320.915625 \r\nL 371.353594 320.915625 \r\nL 371.353594 224.092144 \r\nL 343.453594 224.092144 \r\nz\r\n\" style=\"fill:#4c72b0;\"/>\r\n   </g>\r\n   <g id=\"patch_9\">\r\n    <path clip-path=\"url(#pbc0c3fbcc9)\" d=\"M 399.253594 320.915625 \r\nL 427.153594 320.915625 \r\nL 427.153594 320.370141 \r\nL 399.253594 320.370141 \r\nz\r\n\" style=\"fill:#4c72b0;\"/>\r\n   </g>\r\n   <g id=\"patch_10\">\r\n    <path clip-path=\"url(#pbc0c3fbcc9)\" d=\"M 455.053594 320.915625 \r\nL 482.953594 320.915625 \r\nL 482.953594 320.370141 \r\nL 455.053594 320.370141 \r\nz\r\n\" style=\"fill:#4c72b0;\"/>\r\n   </g>\r\n   <g id=\"patch_11\">\r\n    <path d=\"M 50.503594 320.915625 \r\nL 50.503594 21.935625 \r\n\" style=\"fill:none;\"/>\r\n   </g>\r\n   <g id=\"patch_12\">\r\n    <path d=\"M 496.903594 320.915625 \r\nL 496.903594 21.935625 \r\n\" style=\"fill:none;\"/>\r\n   </g>\r\n   <g id=\"patch_13\">\r\n    <path d=\"M 50.503594 320.915625 \r\nL 496.903594 320.915625 \r\n\" style=\"fill:none;\"/>\r\n   </g>\r\n   <g id=\"patch_14\">\r\n    <path d=\"M 50.503594 21.935625 \r\nL 496.903594 21.935625 \r\n\" style=\"fill:none;\"/>\r\n   </g>\r\n   <g id=\"text_17\">\r\n    <!-- Existing Customers Age Distribution -->\r\n    <defs>\r\n     <path d=\"M 7.90625 0 \r\nL 7.90625 71.578125 \r\nL 59.671875 71.578125 \r\nL 59.671875 63.140625 \r\nL 17.390625 63.140625 \r\nL 17.390625 41.21875 \r\nL 56.984375 41.21875 \r\nL 56.984375 32.8125 \r\nL 17.390625 32.8125 \r\nL 17.390625 8.453125 \r\nL 61.328125 8.453125 \r\nL 61.328125 0 \r\nz\r\n\" id=\"ArialMT-69\"/>\r\n     <path d=\"M 0.734375 0 \r\nL 19.671875 26.953125 \r\nL 2.15625 51.859375 \r\nL 13.140625 51.859375 \r\nL 21.09375 39.703125 \r\nQ 23.34375 36.234375 24.703125 33.890625 \r\nQ 26.859375 37.109375 28.65625 39.59375 \r\nL 37.40625 51.859375 \r\nL 47.90625 51.859375 \r\nL 29.984375 27.4375 \r\nL 49.265625 0 \r\nL 38.484375 0 \r\nL 27.828125 16.109375 \r\nL 25 20.453125 \r\nL 11.375 0 \r\nz\r\n\" id=\"ArialMT-120\"/>\r\n     <path d=\"M 6.640625 61.46875 \r\nL 6.640625 71.578125 \r\nL 15.4375 71.578125 \r\nL 15.4375 61.46875 \r\nz\r\nM 6.640625 0 \r\nL 6.640625 51.859375 \r\nL 15.4375 51.859375 \r\nL 15.4375 0 \r\nz\r\n\" id=\"ArialMT-105\"/>\r\n    </defs>\r\n    <g style=\"fill:#262626;\" transform=\"translate(178.333594 15.935625)scale(0.12 -0.12)\">\r\n     <use xlink:href=\"#ArialMT-69\"/>\r\n     <use x=\"66.699219\" xlink:href=\"#ArialMT-120\"/>\r\n     <use x=\"116.699219\" xlink:href=\"#ArialMT-105\"/>\r\n     <use x=\"138.916016\" xlink:href=\"#ArialMT-115\"/>\r\n     <use x=\"188.916016\" xlink:href=\"#ArialMT-116\"/>\r\n     <use x=\"216.699219\" xlink:href=\"#ArialMT-105\"/>\r\n     <use x=\"238.916016\" xlink:href=\"#ArialMT-110\"/>\r\n     <use x=\"294.53125\" xlink:href=\"#ArialMT-103\"/>\r\n     <use x=\"350.146484\" xlink:href=\"#ArialMT-32\"/>\r\n     <use x=\"377.929688\" xlink:href=\"#ArialMT-67\"/>\r\n     <use x=\"450.146484\" xlink:href=\"#ArialMT-117\"/>\r\n     <use x=\"505.761719\" xlink:href=\"#ArialMT-115\"/>\r\n     <use x=\"555.761719\" xlink:href=\"#ArialMT-116\"/>\r\n     <use x=\"583.544922\" xlink:href=\"#ArialMT-111\"/>\r\n     <use x=\"639.160156\" xlink:href=\"#ArialMT-109\"/>\r\n     <use x=\"722.460938\" xlink:href=\"#ArialMT-101\"/>\r\n     <use x=\"778.076172\" xlink:href=\"#ArialMT-114\"/>\r\n     <use x=\"811.376953\" xlink:href=\"#ArialMT-115\"/>\r\n     <use x=\"861.376953\" xlink:href=\"#ArialMT-32\"/>\r\n     <use x=\"883.660156\" xlink:href=\"#ArialMT-65\"/>\r\n     <use x=\"950.359375\" xlink:href=\"#ArialMT-103\"/>\r\n     <use x=\"1005.974609\" xlink:href=\"#ArialMT-101\"/>\r\n     <use x=\"1061.589844\" xlink:href=\"#ArialMT-32\"/>\r\n     <use x=\"1089.373047\" xlink:href=\"#ArialMT-68\"/>\r\n     <use x=\"1161.589844\" xlink:href=\"#ArialMT-105\"/>\r\n     <use x=\"1183.806641\" xlink:href=\"#ArialMT-115\"/>\r\n     <use x=\"1233.806641\" xlink:href=\"#ArialMT-116\"/>\r\n     <use x=\"1261.589844\" xlink:href=\"#ArialMT-114\"/>\r\n     <use x=\"1294.890625\" xlink:href=\"#ArialMT-105\"/>\r\n     <use x=\"1317.107422\" xlink:href=\"#ArialMT-98\"/>\r\n     <use x=\"1372.722656\" xlink:href=\"#ArialMT-117\"/>\r\n     <use x=\"1428.337891\" xlink:href=\"#ArialMT-116\"/>\r\n     <use x=\"1456.121094\" xlink:href=\"#ArialMT-105\"/>\r\n     <use x=\"1478.337891\" xlink:href=\"#ArialMT-111\"/>\r\n     <use x=\"1533.953125\" xlink:href=\"#ArialMT-110\"/>\r\n    </g>\r\n   </g>\r\n  </g>\r\n </g>\r\n <defs>\r\n  <clipPath id=\"pbc0c3fbcc9\">\r\n   <rect height=\"298.98\" width=\"446.4\" x=\"50.503594\" y=\"21.935625\"/>\r\n  </clipPath>\r\n </defs>\r\n</svg>\r\n",
      "image/png": "[encoded data removed]"
     },
     "metadata": {}
    }
   ],
   "source": [
    "# Existing customers age distribution\n",
    "grouped_age = merged_transactions_demographics.groupby([\"age_by_decade\"])\n",
    "people_count = grouped_age[\"customer_id\"].nunique()\n",
    "people_count.plot.bar()\n",
    "plt.style.use(\"seaborn\")\n",
    "plt.title(\"Existing Customers Age Distribution\")\n",
    "plt.xlabel(\"Age by Decade\")\n",
    "plt.ylabel(\"Customer Count\")\n",
    "plt.savefig(\"output/existing_customers_age_distribution.png\")"
   ]
  },
  {
   "cell_type": "code",
   "execution_count": 40,
   "metadata": {},
   "outputs": [
    {
     "output_type": "display_data",
     "data": {
      "text/plain": "<Figure size 576x396 with 1 Axes>",
      "image/svg+xml": "<?xml version=\"1.0\" encoding=\"utf-8\" standalone=\"no\"?>\r\n<!DOCTYPE svg PUBLIC \"-//W3C//DTD SVG 1.1//EN\"\r\n  \"http://www.w3.org/Graphics/SVG/1.1/DTD/svg11.dtd\">\r\n<!-- Created with matplotlib (https://matplotlib.org/) -->\r\n<svg height=\"365.42625pt\" version=\"1.1\" viewBox=\"0 0 498.542656 365.42625\" width=\"498.542656pt\" xmlns=\"http://www.w3.org/2000/svg\" xmlns:xlink=\"http://www.w3.org/1999/xlink\">\r\n <defs>\r\n  <style type=\"text/css\">\r\n*{stroke-linecap:butt;stroke-linejoin:round;}\r\n  </style>\r\n </defs>\r\n <g id=\"figure_1\">\r\n  <g id=\"patch_1\">\r\n   <path d=\"M 0 365.42625 \r\nL 498.542656 365.42625 \r\nL 498.542656 0 \r\nL 0 0 \r\nz\r\n\" style=\"fill:#ffffff;\"/>\r\n  </g>\r\n  <g id=\"axes_1\">\r\n   <g id=\"patch_2\">\r\n    <path d=\"M 44.942656 320.915625 \r\nL 491.342656 320.915625 \r\nL 491.342656 21.935625 \r\nL 44.942656 21.935625 \r\nz\r\n\" style=\"fill:#eaeaf2;\"/>\r\n   </g>\r\n   <g id=\"matplotlib.axis_1\">\r\n    <g id=\"xtick_1\">\r\n     <g id=\"line2d_1\">\r\n      <path clip-path=\"url(#p21b4723ef0)\" d=\"M 72.842656 320.915625 \r\nL 72.842656 21.935625 \r\n\" style=\"fill:none;stroke:#ffffff;stroke-linecap:round;\"/>\r\n     </g>\r\n     <g id=\"line2d_2\"/>\r\n     <g id=\"text_1\">\r\n      <!-- 10s -->\r\n      <defs>\r\n       <path d=\"M 37.25 0 \r\nL 28.46875 0 \r\nL 28.46875 56 \r\nQ 25.296875 52.984375 20.140625 49.953125 \r\nQ 14.984375 46.921875 10.890625 45.40625 \r\nL 10.890625 53.90625 \r\nQ 18.265625 57.375 23.78125 62.296875 \r\nQ 29.296875 67.234375 31.59375 71.875 \r\nL 37.25 71.875 \r\nz\r\n\" id=\"ArialMT-49\"/>\r\n       <path d=\"M 4.15625 35.296875 \r\nQ 4.15625 48 6.765625 55.734375 \r\nQ 9.375 63.484375 14.515625 67.671875 \r\nQ 19.671875 71.875 27.484375 71.875 \r\nQ 33.25 71.875 37.59375 69.546875 \r\nQ 41.9375 67.234375 44.765625 62.859375 \r\nQ 47.609375 58.5 49.21875 52.21875 \r\nQ 50.828125 45.953125 50.828125 35.296875 \r\nQ 50.828125 22.703125 48.234375 14.96875 \r\nQ 45.65625 7.234375 40.5 3 \r\nQ 35.359375 -1.21875 27.484375 -1.21875 \r\nQ 17.140625 -1.21875 11.234375 6.203125 \r\nQ 4.15625 15.140625 4.15625 35.296875 \r\nz\r\nM 13.1875 35.296875 \r\nQ 13.1875 17.671875 17.3125 11.828125 \r\nQ 21.4375 6 27.484375 6 \r\nQ 33.546875 6 37.671875 11.859375 \r\nQ 41.796875 17.71875 41.796875 35.296875 \r\nQ 41.796875 52.984375 37.671875 58.78125 \r\nQ 33.546875 64.59375 27.390625 64.59375 \r\nQ 21.34375 64.59375 17.71875 59.46875 \r\nQ 13.1875 52.9375 13.1875 35.296875 \r\nz\r\n\" id=\"ArialMT-48\"/>\r\n       <path d=\"M 3.078125 15.484375 \r\nL 11.765625 16.84375 \r\nQ 12.5 11.625 15.84375 8.84375 \r\nQ 19.1875 6.0625 25.203125 6.0625 \r\nQ 31.25 6.0625 34.171875 8.515625 \r\nQ 37.109375 10.984375 37.109375 14.3125 \r\nQ 37.109375 17.28125 34.515625 19 \r\nQ 32.71875 20.171875 25.53125 21.96875 \r\nQ 15.875 24.421875 12.140625 26.203125 \r\nQ 8.40625 27.984375 6.46875 31.125 \r\nQ 4.546875 34.28125 4.546875 38.09375 \r\nQ 4.546875 41.546875 6.125 44.5 \r\nQ 7.71875 47.46875 10.453125 49.421875 \r\nQ 12.5 50.921875 16.03125 51.96875 \r\nQ 19.578125 53.03125 23.640625 53.03125 \r\nQ 29.734375 53.03125 34.34375 51.265625 \r\nQ 38.96875 49.515625 41.15625 46.5 \r\nQ 43.359375 43.5 44.1875 38.484375 \r\nL 35.59375 37.3125 \r\nQ 35.015625 41.3125 32.203125 43.546875 \r\nQ 29.390625 45.796875 24.265625 45.796875 \r\nQ 18.21875 45.796875 15.625 43.796875 \r\nQ 13.03125 41.796875 13.03125 39.109375 \r\nQ 13.03125 37.40625 14.109375 36.03125 \r\nQ 15.1875 34.625 17.484375 33.6875 \r\nQ 18.796875 33.203125 25.25 31.453125 \r\nQ 34.578125 28.953125 38.25 27.359375 \r\nQ 41.9375 25.78125 44.03125 22.75 \r\nQ 46.140625 19.734375 46.140625 15.234375 \r\nQ 46.140625 10.84375 43.578125 6.953125 \r\nQ 41.015625 3.078125 36.171875 0.953125 \r\nQ 31.34375 -1.171875 25.25 -1.171875 \r\nQ 15.140625 -1.171875 9.84375 3.03125 \r\nQ 4.546875 7.234375 3.078125 15.484375 \r\nz\r\n\" id=\"ArialMT-115\"/>\r\n      </defs>\r\n      <g style=\"fill:#262626;\" transform=\"translate(75.427813 344.0375)rotate(-90)scale(0.1 -0.1)\">\r\n       <use xlink:href=\"#ArialMT-49\"/>\r\n       <use x=\"55.615234\" xlink:href=\"#ArialMT-48\"/>\r\n       <use x=\"111.230469\" xlink:href=\"#ArialMT-115\"/>\r\n      </g>\r\n     </g>\r\n    </g>\r\n    <g id=\"xtick_2\">\r\n     <g id=\"line2d_3\">\r\n      <path clip-path=\"url(#p21b4723ef0)\" d=\"M 128.642656 320.915625 \r\nL 128.642656 21.935625 \r\n\" style=\"fill:none;stroke:#ffffff;stroke-linecap:round;\"/>\r\n     </g>\r\n     <g id=\"line2d_4\"/>\r\n     <g id=\"text_2\">\r\n      <!-- 20s -->\r\n      <defs>\r\n       <path d=\"M 50.34375 8.453125 \r\nL 50.34375 0 \r\nL 3.03125 0 \r\nQ 2.9375 3.171875 4.046875 6.109375 \r\nQ 5.859375 10.9375 9.828125 15.625 \r\nQ 13.8125 20.3125 21.34375 26.46875 \r\nQ 33.015625 36.03125 37.109375 41.625 \r\nQ 41.21875 47.21875 41.21875 52.203125 \r\nQ 41.21875 57.421875 37.46875 61 \r\nQ 33.734375 64.59375 27.734375 64.59375 \r\nQ 21.390625 64.59375 17.578125 60.78125 \r\nQ 13.765625 56.984375 13.71875 50.25 \r\nL 4.6875 51.171875 \r\nQ 5.609375 61.28125 11.65625 66.578125 \r\nQ 17.71875 71.875 27.9375 71.875 \r\nQ 38.234375 71.875 44.234375 66.15625 \r\nQ 50.25 60.453125 50.25 52 \r\nQ 50.25 47.703125 48.484375 43.546875 \r\nQ 46.734375 39.40625 42.65625 34.8125 \r\nQ 38.578125 30.21875 29.109375 22.21875 \r\nQ 21.1875 15.578125 18.9375 13.203125 \r\nQ 16.703125 10.84375 15.234375 8.453125 \r\nz\r\n\" id=\"ArialMT-50\"/>\r\n      </defs>\r\n      <g style=\"fill:#262626;\" transform=\"translate(131.227813 344.0375)rotate(-90)scale(0.1 -0.1)\">\r\n       <use xlink:href=\"#ArialMT-50\"/>\r\n       <use x=\"55.615234\" xlink:href=\"#ArialMT-48\"/>\r\n       <use x=\"111.230469\" xlink:href=\"#ArialMT-115\"/>\r\n      </g>\r\n     </g>\r\n    </g>\r\n    <g id=\"xtick_3\">\r\n     <g id=\"line2d_5\">\r\n      <path clip-path=\"url(#p21b4723ef0)\" d=\"M 184.442656 320.915625 \r\nL 184.442656 21.935625 \r\n\" style=\"fill:none;stroke:#ffffff;stroke-linecap:round;\"/>\r\n     </g>\r\n     <g id=\"line2d_6\"/>\r\n     <g id=\"text_3\">\r\n      <!-- 30s -->\r\n      <defs>\r\n       <path d=\"M 4.203125 18.890625 \r\nL 12.984375 20.0625 \r\nQ 14.5 12.59375 18.140625 9.296875 \r\nQ 21.78125 6 27 6 \r\nQ 33.203125 6 37.46875 10.296875 \r\nQ 41.75 14.59375 41.75 20.953125 \r\nQ 41.75 27 37.796875 30.921875 \r\nQ 33.84375 34.859375 27.734375 34.859375 \r\nQ 25.25 34.859375 21.53125 33.890625 \r\nL 22.515625 41.609375 \r\nQ 23.390625 41.5 23.921875 41.5 \r\nQ 29.546875 41.5 34.03125 44.421875 \r\nQ 38.53125 47.359375 38.53125 53.46875 \r\nQ 38.53125 58.296875 35.25 61.46875 \r\nQ 31.984375 64.65625 26.8125 64.65625 \r\nQ 21.6875 64.65625 18.265625 61.421875 \r\nQ 14.84375 58.203125 13.875 51.765625 \r\nL 5.078125 53.328125 \r\nQ 6.6875 62.15625 12.390625 67.015625 \r\nQ 18.109375 71.875 26.609375 71.875 \r\nQ 32.46875 71.875 37.390625 69.359375 \r\nQ 42.328125 66.84375 44.9375 62.5 \r\nQ 47.5625 58.15625 47.5625 53.265625 \r\nQ 47.5625 48.640625 45.0625 44.828125 \r\nQ 42.578125 41.015625 37.703125 38.765625 \r\nQ 44.046875 37.3125 47.5625 32.6875 \r\nQ 51.078125 28.078125 51.078125 21.140625 \r\nQ 51.078125 11.765625 44.234375 5.25 \r\nQ 37.40625 -1.265625 26.953125 -1.265625 \r\nQ 17.53125 -1.265625 11.296875 4.34375 \r\nQ 5.078125 9.96875 4.203125 18.890625 \r\nz\r\n\" id=\"ArialMT-51\"/>\r\n      </defs>\r\n      <g style=\"fill:#262626;\" transform=\"translate(187.027813 344.0375)rotate(-90)scale(0.1 -0.1)\">\r\n       <use xlink:href=\"#ArialMT-51\"/>\r\n       <use x=\"55.615234\" xlink:href=\"#ArialMT-48\"/>\r\n       <use x=\"111.230469\" xlink:href=\"#ArialMT-115\"/>\r\n      </g>\r\n     </g>\r\n    </g>\r\n    <g id=\"xtick_4\">\r\n     <g id=\"line2d_7\">\r\n      <path clip-path=\"url(#p21b4723ef0)\" d=\"M 240.242656 320.915625 \r\nL 240.242656 21.935625 \r\n\" style=\"fill:none;stroke:#ffffff;stroke-linecap:round;\"/>\r\n     </g>\r\n     <g id=\"line2d_8\"/>\r\n     <g id=\"text_4\">\r\n      <!-- 40s -->\r\n      <defs>\r\n       <path d=\"M 32.328125 0 \r\nL 32.328125 17.140625 \r\nL 1.265625 17.140625 \r\nL 1.265625 25.203125 \r\nL 33.9375 71.578125 \r\nL 41.109375 71.578125 \r\nL 41.109375 25.203125 \r\nL 50.78125 25.203125 \r\nL 50.78125 17.140625 \r\nL 41.109375 17.140625 \r\nL 41.109375 0 \r\nz\r\nM 32.328125 25.203125 \r\nL 32.328125 57.46875 \r\nL 9.90625 25.203125 \r\nz\r\n\" id=\"ArialMT-52\"/>\r\n      </defs>\r\n      <g style=\"fill:#262626;\" transform=\"translate(242.827812 344.0375)rotate(-90)scale(0.1 -0.1)\">\r\n       <use xlink:href=\"#ArialMT-52\"/>\r\n       <use x=\"55.615234\" xlink:href=\"#ArialMT-48\"/>\r\n       <use x=\"111.230469\" xlink:href=\"#ArialMT-115\"/>\r\n      </g>\r\n     </g>\r\n    </g>\r\n    <g id=\"xtick_5\">\r\n     <g id=\"line2d_9\">\r\n      <path clip-path=\"url(#p21b4723ef0)\" d=\"M 296.042656 320.915625 \r\nL 296.042656 21.935625 \r\n\" style=\"fill:none;stroke:#ffffff;stroke-linecap:round;\"/>\r\n     </g>\r\n     <g id=\"line2d_10\"/>\r\n     <g id=\"text_5\">\r\n      <!-- 50s -->\r\n      <defs>\r\n       <path d=\"M 4.15625 18.75 \r\nL 13.375 19.53125 \r\nQ 14.40625 12.796875 18.140625 9.390625 \r\nQ 21.875 6 27.15625 6 \r\nQ 33.5 6 37.890625 10.78125 \r\nQ 42.28125 15.578125 42.28125 23.484375 \r\nQ 42.28125 31 38.0625 35.34375 \r\nQ 33.84375 39.703125 27 39.703125 \r\nQ 22.75 39.703125 19.328125 37.765625 \r\nQ 15.921875 35.84375 13.96875 32.765625 \r\nL 5.71875 33.84375 \r\nL 12.640625 70.609375 \r\nL 48.25 70.609375 \r\nL 48.25 62.203125 \r\nL 19.671875 62.203125 \r\nL 15.828125 42.96875 \r\nQ 22.265625 47.46875 29.34375 47.46875 \r\nQ 38.71875 47.46875 45.15625 40.96875 \r\nQ 51.609375 34.46875 51.609375 24.265625 \r\nQ 51.609375 14.546875 45.953125 7.46875 \r\nQ 39.0625 -1.21875 27.15625 -1.21875 \r\nQ 17.390625 -1.21875 11.203125 4.25 \r\nQ 5.03125 9.71875 4.15625 18.75 \r\nz\r\n\" id=\"ArialMT-53\"/>\r\n      </defs>\r\n      <g style=\"fill:#262626;\" transform=\"translate(298.627813 344.0375)rotate(-90)scale(0.1 -0.1)\">\r\n       <use xlink:href=\"#ArialMT-53\"/>\r\n       <use x=\"55.615234\" xlink:href=\"#ArialMT-48\"/>\r\n       <use x=\"111.230469\" xlink:href=\"#ArialMT-115\"/>\r\n      </g>\r\n     </g>\r\n    </g>\r\n    <g id=\"xtick_6\">\r\n     <g id=\"line2d_11\">\r\n      <path clip-path=\"url(#p21b4723ef0)\" d=\"M 351.842656 320.915625 \r\nL 351.842656 21.935625 \r\n\" style=\"fill:none;stroke:#ffffff;stroke-linecap:round;\"/>\r\n     </g>\r\n     <g id=\"line2d_12\"/>\r\n     <g id=\"text_6\">\r\n      <!-- 60s -->\r\n      <defs>\r\n       <path d=\"M 49.75 54.046875 \r\nL 41.015625 53.375 \r\nQ 39.84375 58.546875 37.703125 60.890625 \r\nQ 34.125 64.65625 28.90625 64.65625 \r\nQ 24.703125 64.65625 21.53125 62.3125 \r\nQ 17.390625 59.28125 14.984375 53.46875 \r\nQ 12.59375 47.65625 12.5 36.921875 \r\nQ 15.671875 41.75 20.265625 44.09375 \r\nQ 24.859375 46.4375 29.890625 46.4375 \r\nQ 38.671875 46.4375 44.84375 39.96875 \r\nQ 51.03125 33.5 51.03125 23.25 \r\nQ 51.03125 16.5 48.125 10.71875 \r\nQ 45.21875 4.9375 40.140625 1.859375 \r\nQ 35.0625 -1.21875 28.609375 -1.21875 \r\nQ 17.625 -1.21875 10.6875 6.859375 \r\nQ 3.765625 14.9375 3.765625 33.5 \r\nQ 3.765625 54.25 11.421875 63.671875 \r\nQ 18.109375 71.875 29.4375 71.875 \r\nQ 37.890625 71.875 43.28125 67.140625 \r\nQ 48.6875 62.40625 49.75 54.046875 \r\nz\r\nM 13.875 23.1875 \r\nQ 13.875 18.65625 15.796875 14.5 \r\nQ 17.71875 10.359375 21.1875 8.171875 \r\nQ 24.65625 6 28.46875 6 \r\nQ 34.03125 6 38.03125 10.484375 \r\nQ 42.046875 14.984375 42.046875 22.703125 \r\nQ 42.046875 30.125 38.078125 34.390625 \r\nQ 34.125 38.671875 28.125 38.671875 \r\nQ 22.171875 38.671875 18.015625 34.390625 \r\nQ 13.875 30.125 13.875 23.1875 \r\nz\r\n\" id=\"ArialMT-54\"/>\r\n      </defs>\r\n      <g style=\"fill:#262626;\" transform=\"translate(354.427813 344.0375)rotate(-90)scale(0.1 -0.1)\">\r\n       <use xlink:href=\"#ArialMT-54\"/>\r\n       <use x=\"55.615234\" xlink:href=\"#ArialMT-48\"/>\r\n       <use x=\"111.230469\" xlink:href=\"#ArialMT-115\"/>\r\n      </g>\r\n     </g>\r\n    </g>\r\n    <g id=\"xtick_7\">\r\n     <g id=\"line2d_13\">\r\n      <path clip-path=\"url(#p21b4723ef0)\" d=\"M 407.642656 320.915625 \r\nL 407.642656 21.935625 \r\n\" style=\"fill:none;stroke:#ffffff;stroke-linecap:round;\"/>\r\n     </g>\r\n     <g id=\"line2d_14\"/>\r\n     <g id=\"text_7\">\r\n      <!-- 70s -->\r\n      <defs>\r\n       <path d=\"M 4.734375 62.203125 \r\nL 4.734375 70.65625 \r\nL 51.078125 70.65625 \r\nL 51.078125 63.8125 \r\nQ 44.234375 56.546875 37.515625 44.484375 \r\nQ 30.8125 32.421875 27.15625 19.671875 \r\nQ 24.515625 10.6875 23.78125 0 \r\nL 14.75 0 \r\nQ 14.890625 8.453125 18.0625 20.40625 \r\nQ 21.234375 32.375 27.171875 43.484375 \r\nQ 33.109375 54.59375 39.796875 62.203125 \r\nz\r\n\" id=\"ArialMT-55\"/>\r\n      </defs>\r\n      <g style=\"fill:#262626;\" transform=\"translate(410.227812 344.0375)rotate(-90)scale(0.1 -0.1)\">\r\n       <use xlink:href=\"#ArialMT-55\"/>\r\n       <use x=\"55.615234\" xlink:href=\"#ArialMT-48\"/>\r\n       <use x=\"111.230469\" xlink:href=\"#ArialMT-115\"/>\r\n      </g>\r\n     </g>\r\n    </g>\r\n    <g id=\"xtick_8\">\r\n     <g id=\"line2d_15\">\r\n      <path clip-path=\"url(#p21b4723ef0)\" d=\"M 463.442656 320.915625 \r\nL 463.442656 21.935625 \r\n\" style=\"fill:none;stroke:#ffffff;stroke-linecap:round;\"/>\r\n     </g>\r\n     <g id=\"line2d_16\"/>\r\n     <g id=\"text_8\">\r\n      <!-- 80s -->\r\n      <defs>\r\n       <path d=\"M 17.671875 38.8125 \r\nQ 12.203125 40.828125 9.5625 44.53125 \r\nQ 6.9375 48.25 6.9375 53.421875 \r\nQ 6.9375 61.234375 12.546875 66.546875 \r\nQ 18.171875 71.875 27.484375 71.875 \r\nQ 36.859375 71.875 42.578125 66.421875 \r\nQ 48.296875 60.984375 48.296875 53.171875 \r\nQ 48.296875 48.1875 45.671875 44.5 \r\nQ 43.0625 40.828125 37.75 38.8125 \r\nQ 44.34375 36.671875 47.78125 31.875 \r\nQ 51.21875 27.09375 51.21875 20.453125 \r\nQ 51.21875 11.28125 44.71875 5.03125 \r\nQ 38.234375 -1.21875 27.640625 -1.21875 \r\nQ 17.046875 -1.21875 10.546875 5.046875 \r\nQ 4.046875 11.328125 4.046875 20.703125 \r\nQ 4.046875 27.6875 7.59375 32.390625 \r\nQ 11.140625 37.109375 17.671875 38.8125 \r\nz\r\nM 15.921875 53.71875 \r\nQ 15.921875 48.640625 19.1875 45.40625 \r\nQ 22.46875 42.1875 27.6875 42.1875 \r\nQ 32.765625 42.1875 36.015625 45.375 \r\nQ 39.265625 48.578125 39.265625 53.21875 \r\nQ 39.265625 58.0625 35.90625 61.359375 \r\nQ 32.5625 64.65625 27.59375 64.65625 \r\nQ 22.5625 64.65625 19.234375 61.421875 \r\nQ 15.921875 58.203125 15.921875 53.71875 \r\nz\r\nM 13.09375 20.65625 \r\nQ 13.09375 16.890625 14.875 13.375 \r\nQ 16.65625 9.859375 20.171875 7.921875 \r\nQ 23.6875 6 27.734375 6 \r\nQ 34.03125 6 38.125 10.046875 \r\nQ 42.234375 14.109375 42.234375 20.359375 \r\nQ 42.234375 26.703125 38.015625 30.859375 \r\nQ 33.796875 35.015625 27.4375 35.015625 \r\nQ 21.234375 35.015625 17.15625 30.90625 \r\nQ 13.09375 26.8125 13.09375 20.65625 \r\nz\r\n\" id=\"ArialMT-56\"/>\r\n      </defs>\r\n      <g style=\"fill:#262626;\" transform=\"translate(466.027812 344.0375)rotate(-90)scale(0.1 -0.1)\">\r\n       <use xlink:href=\"#ArialMT-56\"/>\r\n       <use x=\"55.615234\" xlink:href=\"#ArialMT-48\"/>\r\n       <use x=\"111.230469\" xlink:href=\"#ArialMT-115\"/>\r\n      </g>\r\n     </g>\r\n    </g>\r\n    <g id=\"text_9\">\r\n     <!-- Age by Decade -->\r\n     <defs>\r\n      <path d=\"M -0.140625 0 \r\nL 27.34375 71.578125 \r\nL 37.546875 71.578125 \r\nL 66.84375 0 \r\nL 56.0625 0 \r\nL 47.703125 21.6875 \r\nL 17.78125 21.6875 \r\nL 9.90625 0 \r\nz\r\nM 20.515625 29.390625 \r\nL 44.78125 29.390625 \r\nL 37.3125 49.21875 \r\nQ 33.890625 58.25 32.234375 64.0625 \r\nQ 30.859375 57.171875 28.375 50.390625 \r\nz\r\n\" id=\"ArialMT-65\"/>\r\n      <path d=\"M 4.984375 -4.296875 \r\nL 13.53125 -5.5625 \r\nQ 14.0625 -9.515625 16.5 -11.328125 \r\nQ 19.78125 -13.765625 25.4375 -13.765625 \r\nQ 31.546875 -13.765625 34.859375 -11.328125 \r\nQ 38.1875 -8.890625 39.359375 -4.5 \r\nQ 40.046875 -1.8125 39.984375 6.78125 \r\nQ 34.234375 0 25.640625 0 \r\nQ 14.9375 0 9.078125 7.71875 \r\nQ 3.21875 15.4375 3.21875 26.21875 \r\nQ 3.21875 33.640625 5.90625 39.90625 \r\nQ 8.59375 46.1875 13.6875 49.609375 \r\nQ 18.796875 53.03125 25.6875 53.03125 \r\nQ 34.859375 53.03125 40.828125 45.609375 \r\nL 40.828125 51.859375 \r\nL 48.921875 51.859375 \r\nL 48.921875 7.03125 \r\nQ 48.921875 -5.078125 46.453125 -10.125 \r\nQ 44 -15.1875 38.640625 -18.109375 \r\nQ 33.296875 -21.046875 25.484375 -21.046875 \r\nQ 16.21875 -21.046875 10.5 -16.875 \r\nQ 4.78125 -12.703125 4.984375 -4.296875 \r\nz\r\nM 12.25 26.859375 \r\nQ 12.25 16.65625 16.296875 11.96875 \r\nQ 20.359375 7.28125 26.46875 7.28125 \r\nQ 32.515625 7.28125 36.609375 11.9375 \r\nQ 40.71875 16.609375 40.71875 26.5625 \r\nQ 40.71875 36.078125 36.5 40.90625 \r\nQ 32.28125 45.75 26.3125 45.75 \r\nQ 20.453125 45.75 16.34375 40.984375 \r\nQ 12.25 36.234375 12.25 26.859375 \r\nz\r\n\" id=\"ArialMT-103\"/>\r\n      <path d=\"M 42.09375 16.703125 \r\nL 51.171875 15.578125 \r\nQ 49.03125 7.625 43.21875 3.21875 \r\nQ 37.40625 -1.171875 28.375 -1.171875 \r\nQ 17 -1.171875 10.328125 5.828125 \r\nQ 3.65625 12.84375 3.65625 25.484375 \r\nQ 3.65625 38.578125 10.390625 45.796875 \r\nQ 17.140625 53.03125 27.875 53.03125 \r\nQ 38.28125 53.03125 44.875 45.953125 \r\nQ 51.46875 38.875 51.46875 26.03125 \r\nQ 51.46875 25.25 51.421875 23.6875 \r\nL 12.75 23.6875 \r\nQ 13.234375 15.140625 17.578125 10.59375 \r\nQ 21.921875 6.0625 28.421875 6.0625 \r\nQ 33.25 6.0625 36.671875 8.59375 \r\nQ 40.09375 11.140625 42.09375 16.703125 \r\nz\r\nM 13.234375 30.90625 \r\nL 42.1875 30.90625 \r\nQ 41.609375 37.453125 38.875 40.71875 \r\nQ 34.671875 45.796875 27.984375 45.796875 \r\nQ 21.921875 45.796875 17.796875 41.75 \r\nQ 13.671875 37.703125 13.234375 30.90625 \r\nz\r\n\" id=\"ArialMT-101\"/>\r\n      <path id=\"ArialMT-32\"/>\r\n      <path d=\"M 14.703125 0 \r\nL 6.546875 0 \r\nL 6.546875 71.578125 \r\nL 15.328125 71.578125 \r\nL 15.328125 46.046875 \r\nQ 20.90625 53.03125 29.546875 53.03125 \r\nQ 34.328125 53.03125 38.59375 51.09375 \r\nQ 42.875 49.171875 45.625 45.671875 \r\nQ 48.390625 42.1875 49.953125 37.25 \r\nQ 51.515625 32.328125 51.515625 26.703125 \r\nQ 51.515625 13.375 44.921875 6.09375 \r\nQ 38.328125 -1.171875 29.109375 -1.171875 \r\nQ 19.921875 -1.171875 14.703125 6.5 \r\nz\r\nM 14.59375 26.3125 \r\nQ 14.59375 17 17.140625 12.84375 \r\nQ 21.296875 6.0625 28.375 6.0625 \r\nQ 34.125 6.0625 38.328125 11.0625 \r\nQ 42.53125 16.0625 42.53125 25.984375 \r\nQ 42.53125 36.140625 38.5 40.96875 \r\nQ 34.46875 45.796875 28.765625 45.796875 \r\nQ 23 45.796875 18.796875 40.796875 \r\nQ 14.59375 35.796875 14.59375 26.3125 \r\nz\r\n\" id=\"ArialMT-98\"/>\r\n      <path d=\"M 6.203125 -19.96875 \r\nL 5.21875 -11.71875 \r\nQ 8.109375 -12.5 10.25 -12.5 \r\nQ 13.1875 -12.5 14.9375 -11.515625 \r\nQ 16.703125 -10.546875 17.828125 -8.796875 \r\nQ 18.65625 -7.46875 20.515625 -2.25 \r\nQ 20.75 -1.515625 21.296875 -0.09375 \r\nL 1.609375 51.859375 \r\nL 11.078125 51.859375 \r\nL 21.875 21.828125 \r\nQ 23.96875 16.109375 25.640625 9.8125 \r\nQ 27.15625 15.875 29.25 21.625 \r\nL 40.328125 51.859375 \r\nL 49.125 51.859375 \r\nL 29.390625 -0.875 \r\nQ 26.21875 -9.421875 24.46875 -12.640625 \r\nQ 22.125 -17 19.09375 -19.015625 \r\nQ 16.0625 -21.046875 11.859375 -21.046875 \r\nQ 9.328125 -21.046875 6.203125 -19.96875 \r\nz\r\n\" id=\"ArialMT-121\"/>\r\n      <path d=\"M 7.71875 0 \r\nL 7.71875 71.578125 \r\nL 32.375 71.578125 \r\nQ 40.71875 71.578125 45.125 70.5625 \r\nQ 51.265625 69.140625 55.609375 65.4375 \r\nQ 61.28125 60.640625 64.078125 53.1875 \r\nQ 66.890625 45.75 66.890625 36.1875 \r\nQ 66.890625 28.03125 64.984375 21.734375 \r\nQ 63.09375 15.4375 60.109375 11.296875 \r\nQ 57.125 7.171875 53.578125 4.796875 \r\nQ 50.046875 2.4375 45.046875 1.21875 \r\nQ 40.046875 0 33.546875 0 \r\nz\r\nM 17.1875 8.453125 \r\nL 32.46875 8.453125 \r\nQ 39.546875 8.453125 43.578125 9.765625 \r\nQ 47.609375 11.078125 50 13.484375 \r\nQ 53.375 16.84375 55.25 22.53125 \r\nQ 57.125 28.21875 57.125 36.328125 \r\nQ 57.125 47.5625 53.4375 53.59375 \r\nQ 49.75 59.625 44.484375 61.671875 \r\nQ 40.671875 63.140625 32.234375 63.140625 \r\nL 17.1875 63.140625 \r\nz\r\n\" id=\"ArialMT-68\"/>\r\n      <path d=\"M 40.4375 19 \r\nL 49.078125 17.875 \r\nQ 47.65625 8.9375 41.8125 3.875 \r\nQ 35.984375 -1.171875 27.484375 -1.171875 \r\nQ 16.84375 -1.171875 10.375 5.78125 \r\nQ 3.90625 12.75 3.90625 25.734375 \r\nQ 3.90625 34.125 6.6875 40.421875 \r\nQ 9.46875 46.734375 15.15625 49.875 \r\nQ 20.84375 53.03125 27.546875 53.03125 \r\nQ 35.984375 53.03125 41.359375 48.75 \r\nQ 46.734375 44.484375 48.25 36.625 \r\nL 39.703125 35.296875 \r\nQ 38.484375 40.53125 35.375 43.15625 \r\nQ 32.28125 45.796875 27.875 45.796875 \r\nQ 21.234375 45.796875 17.078125 41.03125 \r\nQ 12.9375 36.28125 12.9375 25.984375 \r\nQ 12.9375 15.53125 16.9375 10.796875 \r\nQ 20.953125 6.0625 27.390625 6.0625 \r\nQ 32.5625 6.0625 36.03125 9.234375 \r\nQ 39.5 12.40625 40.4375 19 \r\nz\r\n\" id=\"ArialMT-99\"/>\r\n      <path d=\"M 40.4375 6.390625 \r\nQ 35.546875 2.25 31.03125 0.53125 \r\nQ 26.515625 -1.171875 21.34375 -1.171875 \r\nQ 12.796875 -1.171875 8.203125 3 \r\nQ 3.609375 7.171875 3.609375 13.671875 \r\nQ 3.609375 17.484375 5.34375 20.625 \r\nQ 7.078125 23.78125 9.890625 25.6875 \r\nQ 12.703125 27.59375 16.21875 28.5625 \r\nQ 18.796875 29.25 24.03125 29.890625 \r\nQ 34.671875 31.15625 39.703125 32.90625 \r\nQ 39.75 34.71875 39.75 35.203125 \r\nQ 39.75 40.578125 37.25 42.78125 \r\nQ 33.890625 45.75 27.25 45.75 \r\nQ 21.046875 45.75 18.09375 43.578125 \r\nQ 15.140625 41.40625 13.71875 35.890625 \r\nL 5.125 37.0625 \r\nQ 6.296875 42.578125 8.984375 45.96875 \r\nQ 11.671875 49.359375 16.75 51.1875 \r\nQ 21.828125 53.03125 28.515625 53.03125 \r\nQ 35.15625 53.03125 39.296875 51.46875 \r\nQ 43.453125 49.90625 45.40625 47.53125 \r\nQ 47.359375 45.171875 48.140625 41.546875 \r\nQ 48.578125 39.3125 48.578125 33.453125 \r\nL 48.578125 21.734375 \r\nQ 48.578125 9.46875 49.140625 6.21875 \r\nQ 49.703125 2.984375 51.375 0 \r\nL 42.1875 0 \r\nQ 40.828125 2.734375 40.4375 6.390625 \r\nz\r\nM 39.703125 26.03125 \r\nQ 34.90625 24.078125 25.34375 22.703125 \r\nQ 19.921875 21.921875 17.671875 20.9375 \r\nQ 15.4375 19.96875 14.203125 18.09375 \r\nQ 12.984375 16.21875 12.984375 13.921875 \r\nQ 12.984375 10.40625 15.640625 8.0625 \r\nQ 18.3125 5.71875 23.4375 5.71875 \r\nQ 28.515625 5.71875 32.46875 7.9375 \r\nQ 36.421875 10.15625 38.28125 14.015625 \r\nQ 39.703125 17 39.703125 22.796875 \r\nz\r\n\" id=\"ArialMT-97\"/>\r\n      <path d=\"M 40.234375 0 \r\nL 40.234375 6.546875 \r\nQ 35.296875 -1.171875 25.734375 -1.171875 \r\nQ 19.53125 -1.171875 14.328125 2.25 \r\nQ 9.125 5.671875 6.265625 11.796875 \r\nQ 3.421875 17.921875 3.421875 25.875 \r\nQ 3.421875 33.640625 6 39.96875 \r\nQ 8.59375 46.296875 13.765625 49.65625 \r\nQ 18.953125 53.03125 25.34375 53.03125 \r\nQ 30.03125 53.03125 33.6875 51.046875 \r\nQ 37.359375 49.078125 39.65625 45.90625 \r\nL 39.65625 71.578125 \r\nL 48.390625 71.578125 \r\nL 48.390625 0 \r\nz\r\nM 12.453125 25.875 \r\nQ 12.453125 15.921875 16.640625 10.984375 \r\nQ 20.84375 6.0625 26.5625 6.0625 \r\nQ 32.328125 6.0625 36.34375 10.765625 \r\nQ 40.375 15.484375 40.375 25.140625 \r\nQ 40.375 35.796875 36.265625 40.765625 \r\nQ 32.171875 45.75 26.171875 45.75 \r\nQ 20.3125 45.75 16.375 40.96875 \r\nQ 12.453125 36.1875 12.453125 25.875 \r\nz\r\n\" id=\"ArialMT-100\"/>\r\n     </defs>\r\n     <g style=\"fill:#262626;\" transform=\"translate(230.536406 355.911094)scale(0.11 -0.11)\">\r\n      <use xlink:href=\"#ArialMT-65\"/>\r\n      <use x=\"66.699219\" xlink:href=\"#ArialMT-103\"/>\r\n      <use x=\"122.314453\" xlink:href=\"#ArialMT-101\"/>\r\n      <use x=\"177.929688\" xlink:href=\"#ArialMT-32\"/>\r\n      <use x=\"205.712891\" xlink:href=\"#ArialMT-98\"/>\r\n      <use x=\"261.328125\" xlink:href=\"#ArialMT-121\"/>\r\n      <use x=\"311.328125\" xlink:href=\"#ArialMT-32\"/>\r\n      <use x=\"339.111328\" xlink:href=\"#ArialMT-68\"/>\r\n      <use x=\"411.328125\" xlink:href=\"#ArialMT-101\"/>\r\n      <use x=\"466.943359\" xlink:href=\"#ArialMT-99\"/>\r\n      <use x=\"516.943359\" xlink:href=\"#ArialMT-97\"/>\r\n      <use x=\"572.558594\" xlink:href=\"#ArialMT-100\"/>\r\n      <use x=\"628.173828\" xlink:href=\"#ArialMT-101\"/>\r\n     </g>\r\n    </g>\r\n   </g>\r\n   <g id=\"matplotlib.axis_2\">\r\n    <g id=\"ytick_1\">\r\n     <g id=\"line2d_17\">\r\n      <path clip-path=\"url(#p21b4723ef0)\" d=\"M 44.942656 320.915625 \r\nL 491.342656 320.915625 \r\n\" style=\"fill:none;stroke:#ffffff;stroke-linecap:round;\"/>\r\n     </g>\r\n     <g id=\"line2d_18\"/>\r\n     <g id=\"text_10\">\r\n      <!-- 0 -->\r\n      <g style=\"fill:#262626;\" transform=\"translate(32.381719 324.494531)scale(0.1 -0.1)\">\r\n       <use xlink:href=\"#ArialMT-48\"/>\r\n      </g>\r\n     </g>\r\n    </g>\r\n    <g id=\"ytick_2\">\r\n     <g id=\"line2d_19\">\r\n      <path clip-path=\"url(#p21b4723ef0)\" d=\"M 44.942656 258.744695 \r\nL 491.342656 258.744695 \r\n\" style=\"fill:none;stroke:#ffffff;stroke-linecap:round;\"/>\r\n     </g>\r\n     <g id=\"line2d_20\"/>\r\n     <g id=\"text_11\">\r\n      <!-- 50 -->\r\n      <g style=\"fill:#262626;\" transform=\"translate(26.820781 262.323602)scale(0.1 -0.1)\">\r\n       <use xlink:href=\"#ArialMT-53\"/>\r\n       <use x=\"55.615234\" xlink:href=\"#ArialMT-48\"/>\r\n      </g>\r\n     </g>\r\n    </g>\r\n    <g id=\"ytick_3\">\r\n     <g id=\"line2d_21\">\r\n      <path clip-path=\"url(#p21b4723ef0)\" d=\"M 44.942656 196.573766 \r\nL 491.342656 196.573766 \r\n\" style=\"fill:none;stroke:#ffffff;stroke-linecap:round;\"/>\r\n     </g>\r\n     <g id=\"line2d_22\"/>\r\n     <g id=\"text_12\">\r\n      <!-- 100 -->\r\n      <g style=\"fill:#262626;\" transform=\"translate(21.259844 200.152672)scale(0.1 -0.1)\">\r\n       <use xlink:href=\"#ArialMT-49\"/>\r\n       <use x=\"55.615234\" xlink:href=\"#ArialMT-48\"/>\r\n       <use x=\"111.230469\" xlink:href=\"#ArialMT-48\"/>\r\n      </g>\r\n     </g>\r\n    </g>\r\n    <g id=\"ytick_4\">\r\n     <g id=\"line2d_23\">\r\n      <path clip-path=\"url(#p21b4723ef0)\" d=\"M 44.942656 134.402836 \r\nL 491.342656 134.402836 \r\n\" style=\"fill:none;stroke:#ffffff;stroke-linecap:round;\"/>\r\n     </g>\r\n     <g id=\"line2d_24\"/>\r\n     <g id=\"text_13\">\r\n      <!-- 150 -->\r\n      <g style=\"fill:#262626;\" transform=\"translate(21.259844 137.981743)scale(0.1 -0.1)\">\r\n       <use xlink:href=\"#ArialMT-49\"/>\r\n       <use x=\"55.615234\" xlink:href=\"#ArialMT-53\"/>\r\n       <use x=\"111.230469\" xlink:href=\"#ArialMT-48\"/>\r\n      </g>\r\n     </g>\r\n    </g>\r\n    <g id=\"ytick_5\">\r\n     <g id=\"line2d_25\">\r\n      <path clip-path=\"url(#p21b4723ef0)\" d=\"M 44.942656 72.231907 \r\nL 491.342656 72.231907 \r\n\" style=\"fill:none;stroke:#ffffff;stroke-linecap:round;\"/>\r\n     </g>\r\n     <g id=\"line2d_26\"/>\r\n     <g id=\"text_14\">\r\n      <!-- 200 -->\r\n      <g style=\"fill:#262626;\" transform=\"translate(21.259844 75.810813)scale(0.1 -0.1)\">\r\n       <use xlink:href=\"#ArialMT-50\"/>\r\n       <use x=\"55.615234\" xlink:href=\"#ArialMT-48\"/>\r\n       <use x=\"111.230469\" xlink:href=\"#ArialMT-48\"/>\r\n      </g>\r\n     </g>\r\n    </g>\r\n    <g id=\"text_15\">\r\n     <!-- Customer Count -->\r\n     <defs>\r\n      <path d=\"M 58.796875 25.09375 \r\nL 68.265625 22.703125 \r\nQ 65.28125 11.03125 57.546875 4.90625 \r\nQ 49.8125 -1.21875 38.625 -1.21875 \r\nQ 27.046875 -1.21875 19.796875 3.484375 \r\nQ 12.546875 8.203125 8.765625 17.140625 \r\nQ 4.984375 26.078125 4.984375 36.328125 \r\nQ 4.984375 47.515625 9.25 55.828125 \r\nQ 13.53125 64.15625 21.40625 68.46875 \r\nQ 29.296875 72.796875 38.765625 72.796875 \r\nQ 49.515625 72.796875 56.828125 67.328125 \r\nQ 64.15625 61.859375 67.046875 51.953125 \r\nL 57.71875 49.75 \r\nQ 55.21875 57.5625 50.484375 61.125 \r\nQ 45.75 64.703125 38.578125 64.703125 \r\nQ 30.328125 64.703125 24.78125 60.734375 \r\nQ 19.234375 56.78125 16.984375 50.109375 \r\nQ 14.75 43.453125 14.75 36.375 \r\nQ 14.75 27.25 17.40625 20.4375 \r\nQ 20.0625 13.625 25.671875 10.25 \r\nQ 31.296875 6.890625 37.84375 6.890625 \r\nQ 45.796875 6.890625 51.3125 11.46875 \r\nQ 56.84375 16.0625 58.796875 25.09375 \r\nz\r\n\" id=\"ArialMT-67\"/>\r\n      <path d=\"M 40.578125 0 \r\nL 40.578125 7.625 \r\nQ 34.515625 -1.171875 24.125 -1.171875 \r\nQ 19.53125 -1.171875 15.546875 0.578125 \r\nQ 11.578125 2.34375 9.640625 5 \r\nQ 7.71875 7.671875 6.9375 11.53125 \r\nQ 6.390625 14.109375 6.390625 19.734375 \r\nL 6.390625 51.859375 \r\nL 15.1875 51.859375 \r\nL 15.1875 23.09375 \r\nQ 15.1875 16.21875 15.71875 13.8125 \r\nQ 16.546875 10.359375 19.234375 8.375 \r\nQ 21.921875 6.390625 25.875 6.390625 \r\nQ 29.828125 6.390625 33.296875 8.421875 \r\nQ 36.765625 10.453125 38.203125 13.9375 \r\nQ 39.65625 17.4375 39.65625 24.078125 \r\nL 39.65625 51.859375 \r\nL 48.4375 51.859375 \r\nL 48.4375 0 \r\nz\r\n\" id=\"ArialMT-117\"/>\r\n      <path d=\"M 25.78125 7.859375 \r\nL 27.046875 0.09375 \r\nQ 23.34375 -0.6875 20.40625 -0.6875 \r\nQ 15.625 -0.6875 12.984375 0.828125 \r\nQ 10.359375 2.34375 9.28125 4.8125 \r\nQ 8.203125 7.28125 8.203125 15.1875 \r\nL 8.203125 45.015625 \r\nL 1.765625 45.015625 \r\nL 1.765625 51.859375 \r\nL 8.203125 51.859375 \r\nL 8.203125 64.703125 \r\nL 16.9375 69.96875 \r\nL 16.9375 51.859375 \r\nL 25.78125 51.859375 \r\nL 25.78125 45.015625 \r\nL 16.9375 45.015625 \r\nL 16.9375 14.703125 \r\nQ 16.9375 10.9375 17.40625 9.859375 \r\nQ 17.875 8.796875 18.921875 8.15625 \r\nQ 19.96875 7.515625 21.921875 7.515625 \r\nQ 23.390625 7.515625 25.78125 7.859375 \r\nz\r\n\" id=\"ArialMT-116\"/>\r\n      <path d=\"M 3.328125 25.921875 \r\nQ 3.328125 40.328125 11.328125 47.265625 \r\nQ 18.015625 53.03125 27.640625 53.03125 \r\nQ 38.328125 53.03125 45.109375 46.015625 \r\nQ 51.90625 39.015625 51.90625 26.65625 \r\nQ 51.90625 16.65625 48.90625 10.90625 \r\nQ 45.90625 5.171875 40.15625 2 \r\nQ 34.421875 -1.171875 27.640625 -1.171875 \r\nQ 16.75 -1.171875 10.03125 5.8125 \r\nQ 3.328125 12.796875 3.328125 25.921875 \r\nz\r\nM 12.359375 25.921875 \r\nQ 12.359375 15.96875 16.703125 11.015625 \r\nQ 21.046875 6.0625 27.640625 6.0625 \r\nQ 34.1875 6.0625 38.53125 11.03125 \r\nQ 42.875 16.015625 42.875 26.21875 \r\nQ 42.875 35.84375 38.5 40.796875 \r\nQ 34.125 45.75 27.640625 45.75 \r\nQ 21.046875 45.75 16.703125 40.8125 \r\nQ 12.359375 35.890625 12.359375 25.921875 \r\nz\r\n\" id=\"ArialMT-111\"/>\r\n      <path d=\"M 6.59375 0 \r\nL 6.59375 51.859375 \r\nL 14.453125 51.859375 \r\nL 14.453125 44.578125 \r\nQ 16.890625 48.390625 20.9375 50.703125 \r\nQ 25 53.03125 30.171875 53.03125 \r\nQ 35.9375 53.03125 39.625 50.640625 \r\nQ 43.3125 48.25 44.828125 43.953125 \r\nQ 50.984375 53.03125 60.84375 53.03125 \r\nQ 68.5625 53.03125 72.703125 48.75 \r\nQ 76.859375 44.484375 76.859375 35.59375 \r\nL 76.859375 0 \r\nL 68.109375 0 \r\nL 68.109375 32.671875 \r\nQ 68.109375 37.9375 67.25 40.25 \r\nQ 66.40625 42.578125 64.15625 43.984375 \r\nQ 61.921875 45.40625 58.890625 45.40625 \r\nQ 53.421875 45.40625 49.796875 41.765625 \r\nQ 46.1875 38.140625 46.1875 30.125 \r\nL 46.1875 0 \r\nL 37.40625 0 \r\nL 37.40625 33.6875 \r\nQ 37.40625 39.546875 35.25 42.46875 \r\nQ 33.109375 45.40625 28.21875 45.40625 \r\nQ 24.515625 45.40625 21.359375 43.453125 \r\nQ 18.21875 41.5 16.796875 37.734375 \r\nQ 15.375 33.984375 15.375 26.90625 \r\nL 15.375 0 \r\nz\r\n\" id=\"ArialMT-109\"/>\r\n      <path d=\"M 6.5 0 \r\nL 6.5 51.859375 \r\nL 14.40625 51.859375 \r\nL 14.40625 44 \r\nQ 17.4375 49.515625 20 51.265625 \r\nQ 22.5625 53.03125 25.640625 53.03125 \r\nQ 30.078125 53.03125 34.671875 50.203125 \r\nL 31.640625 42.046875 \r\nQ 28.421875 43.953125 25.203125 43.953125 \r\nQ 22.3125 43.953125 20.015625 42.21875 \r\nQ 17.71875 40.484375 16.75 37.40625 \r\nQ 15.28125 32.71875 15.28125 27.15625 \r\nL 15.28125 0 \r\nz\r\n\" id=\"ArialMT-114\"/>\r\n      <path d=\"M 6.59375 0 \r\nL 6.59375 51.859375 \r\nL 14.5 51.859375 \r\nL 14.5 44.484375 \r\nQ 20.21875 53.03125 31 53.03125 \r\nQ 35.6875 53.03125 39.625 51.34375 \r\nQ 43.5625 49.65625 45.515625 46.921875 \r\nQ 47.46875 44.1875 48.25 40.4375 \r\nQ 48.734375 37.984375 48.734375 31.890625 \r\nL 48.734375 0 \r\nL 39.9375 0 \r\nL 39.9375 31.546875 \r\nQ 39.9375 36.921875 38.90625 39.578125 \r\nQ 37.890625 42.234375 35.28125 43.8125 \r\nQ 32.671875 45.40625 29.15625 45.40625 \r\nQ 23.53125 45.40625 19.453125 41.84375 \r\nQ 15.375 38.28125 15.375 28.328125 \r\nL 15.375 0 \r\nz\r\n\" id=\"ArialMT-110\"/>\r\n     </defs>\r\n     <g style=\"fill:#262626;\" transform=\"translate(15.073594 211.467344)rotate(-90)scale(0.11 -0.11)\">\r\n      <use xlink:href=\"#ArialMT-67\"/>\r\n      <use x=\"72.216797\" xlink:href=\"#ArialMT-117\"/>\r\n      <use x=\"127.832031\" xlink:href=\"#ArialMT-115\"/>\r\n      <use x=\"177.832031\" xlink:href=\"#ArialMT-116\"/>\r\n      <use x=\"205.615234\" xlink:href=\"#ArialMT-111\"/>\r\n      <use x=\"261.230469\" xlink:href=\"#ArialMT-109\"/>\r\n      <use x=\"344.53125\" xlink:href=\"#ArialMT-101\"/>\r\n      <use x=\"400.146484\" xlink:href=\"#ArialMT-114\"/>\r\n      <use x=\"433.447266\" xlink:href=\"#ArialMT-32\"/>\r\n      <use x=\"461.230469\" xlink:href=\"#ArialMT-67\"/>\r\n      <use x=\"533.447266\" xlink:href=\"#ArialMT-111\"/>\r\n      <use x=\"589.0625\" xlink:href=\"#ArialMT-117\"/>\r\n      <use x=\"644.677734\" xlink:href=\"#ArialMT-110\"/>\r\n      <use x=\"700.292969\" xlink:href=\"#ArialMT-116\"/>\r\n     </g>\r\n    </g>\r\n   </g>\r\n   <g id=\"patch_3\">\r\n    <path clip-path=\"url(#p21b4723ef0)\" d=\"M 58.892656 320.915625 \r\nL 86.792656 320.915625 \r\nL 86.792656 304.751183 \r\nL 58.892656 304.751183 \r\nz\r\n\" style=\"fill:#4c72b0;\"/>\r\n   </g>\r\n   <g id=\"patch_4\">\r\n    <path clip-path=\"url(#p21b4723ef0)\" d=\"M 114.692656 320.915625 \r\nL 142.592656 320.915625 \r\nL 142.592656 112.021302 \r\nL 114.692656 112.021302 \r\nz\r\n\" style=\"fill:#4c72b0;\"/>\r\n   </g>\r\n   <g id=\"patch_5\">\r\n    <path clip-path=\"url(#p21b4723ef0)\" d=\"M 170.492656 320.915625 \r\nL 198.392656 320.915625 \r\nL 198.392656 192.84351 \r\nL 170.492656 192.84351 \r\nz\r\n\" style=\"fill:#4c72b0;\"/>\r\n   </g>\r\n   <g id=\"patch_6\">\r\n    <path clip-path=\"url(#p21b4723ef0)\" d=\"M 226.292656 320.915625 \r\nL 254.192656 320.915625 \r\nL 254.192656 36.172768 \r\nL 226.292656 36.172768 \r\nz\r\n\" style=\"fill:#4c72b0;\"/>\r\n   </g>\r\n   <g id=\"patch_7\">\r\n    <path clip-path=\"url(#p21b4723ef0)\" d=\"M 282.092656 320.915625 \r\nL 309.992656 320.915625 \r\nL 309.992656 103.317372 \r\nL 282.092656 103.317372 \r\nz\r\n\" style=\"fill:#4c72b0;\"/>\r\n   </g>\r\n   <g id=\"patch_8\">\r\n    <path clip-path=\"url(#p21b4723ef0)\" d=\"M 337.892656 320.915625 \r\nL 365.792656 320.915625 \r\nL 365.792656 109.534465 \r\nL 337.892656 109.534465 \r\nz\r\n\" style=\"fill:#4c72b0;\"/>\r\n   </g>\r\n   <g id=\"patch_9\">\r\n    <path clip-path=\"url(#p21b4723ef0)\" d=\"M 393.692656 320.915625 \r\nL 421.592656 320.915625 \r\nL 421.592656 209.007952 \r\nL 393.692656 209.007952 \r\nz\r\n\" style=\"fill:#4c72b0;\"/>\r\n   </g>\r\n   <g id=\"patch_10\">\r\n    <path clip-path=\"url(#p21b4723ef0)\" d=\"M 449.492656 320.915625 \r\nL 477.392656 320.915625 \r\nL 477.392656 277.395974 \r\nL 449.492656 277.395974 \r\nz\r\n\" style=\"fill:#4c72b0;\"/>\r\n   </g>\r\n   <g id=\"patch_11\">\r\n    <path d=\"M 44.942656 320.915625 \r\nL 44.942656 21.935625 \r\n\" style=\"fill:none;\"/>\r\n   </g>\r\n   <g id=\"patch_12\">\r\n    <path d=\"M 491.342656 320.915625 \r\nL 491.342656 21.935625 \r\n\" style=\"fill:none;\"/>\r\n   </g>\r\n   <g id=\"patch_13\">\r\n    <path d=\"M 44.942656 320.915625 \r\nL 491.342656 320.915625 \r\n\" style=\"fill:none;\"/>\r\n   </g>\r\n   <g id=\"patch_14\">\r\n    <path d=\"M 44.942656 21.935625 \r\nL 491.342656 21.935625 \r\n\" style=\"fill:none;\"/>\r\n   </g>\r\n   <g id=\"text_16\">\r\n    <!-- Potential Customers Age Distribution -->\r\n    <defs>\r\n     <path d=\"M 7.71875 0 \r\nL 7.71875 71.578125 \r\nL 34.71875 71.578125 \r\nQ 41.84375 71.578125 45.609375 70.90625 \r\nQ 50.875 70.015625 54.4375 67.546875 \r\nQ 58.015625 65.09375 60.1875 60.640625 \r\nQ 62.359375 56.203125 62.359375 50.875 \r\nQ 62.359375 41.75 56.546875 35.421875 \r\nQ 50.734375 29.109375 35.546875 29.109375 \r\nL 17.1875 29.109375 \r\nL 17.1875 0 \r\nz\r\nM 17.1875 37.546875 \r\nL 35.6875 37.546875 \r\nQ 44.875 37.546875 48.734375 40.96875 \r\nQ 52.59375 44.390625 52.59375 50.59375 \r\nQ 52.59375 55.078125 50.3125 58.265625 \r\nQ 48.046875 61.46875 44.34375 62.5 \r\nQ 41.9375 63.140625 35.5 63.140625 \r\nL 17.1875 63.140625 \r\nz\r\n\" id=\"ArialMT-80\"/>\r\n     <path d=\"M 6.640625 61.46875 \r\nL 6.640625 71.578125 \r\nL 15.4375 71.578125 \r\nL 15.4375 61.46875 \r\nz\r\nM 6.640625 0 \r\nL 6.640625 51.859375 \r\nL 15.4375 51.859375 \r\nL 15.4375 0 \r\nz\r\n\" id=\"ArialMT-105\"/>\r\n     <path d=\"M 6.390625 0 \r\nL 6.390625 71.578125 \r\nL 15.1875 71.578125 \r\nL 15.1875 0 \r\nz\r\n\" id=\"ArialMT-108\"/>\r\n    </defs>\r\n    <g style=\"fill:#262626;\" transform=\"translate(170.432656 15.935625)scale(0.12 -0.12)\">\r\n     <use xlink:href=\"#ArialMT-80\"/>\r\n     <use x=\"66.699219\" xlink:href=\"#ArialMT-111\"/>\r\n     <use x=\"122.314453\" xlink:href=\"#ArialMT-116\"/>\r\n     <use x=\"150.097656\" xlink:href=\"#ArialMT-101\"/>\r\n     <use x=\"205.712891\" xlink:href=\"#ArialMT-110\"/>\r\n     <use x=\"261.328125\" xlink:href=\"#ArialMT-116\"/>\r\n     <use x=\"289.111328\" xlink:href=\"#ArialMT-105\"/>\r\n     <use x=\"311.328125\" xlink:href=\"#ArialMT-97\"/>\r\n     <use x=\"366.943359\" xlink:href=\"#ArialMT-108\"/>\r\n     <use x=\"389.160156\" xlink:href=\"#ArialMT-32\"/>\r\n     <use x=\"416.943359\" xlink:href=\"#ArialMT-67\"/>\r\n     <use x=\"489.160156\" xlink:href=\"#ArialMT-117\"/>\r\n     <use x=\"544.775391\" xlink:href=\"#ArialMT-115\"/>\r\n     <use x=\"594.775391\" xlink:href=\"#ArialMT-116\"/>\r\n     <use x=\"622.558594\" xlink:href=\"#ArialMT-111\"/>\r\n     <use x=\"678.173828\" xlink:href=\"#ArialMT-109\"/>\r\n     <use x=\"761.474609\" xlink:href=\"#ArialMT-101\"/>\r\n     <use x=\"817.089844\" xlink:href=\"#ArialMT-114\"/>\r\n     <use x=\"850.390625\" xlink:href=\"#ArialMT-115\"/>\r\n     <use x=\"900.390625\" xlink:href=\"#ArialMT-32\"/>\r\n     <use x=\"922.673828\" xlink:href=\"#ArialMT-65\"/>\r\n     <use x=\"989.373047\" xlink:href=\"#ArialMT-103\"/>\r\n     <use x=\"1044.988281\" xlink:href=\"#ArialMT-101\"/>\r\n     <use x=\"1100.603516\" xlink:href=\"#ArialMT-32\"/>\r\n     <use x=\"1128.386719\" xlink:href=\"#ArialMT-68\"/>\r\n     <use x=\"1200.603516\" xlink:href=\"#ArialMT-105\"/>\r\n     <use x=\"1222.820312\" xlink:href=\"#ArialMT-115\"/>\r\n     <use x=\"1272.820312\" xlink:href=\"#ArialMT-116\"/>\r\n     <use x=\"1300.603516\" xlink:href=\"#ArialMT-114\"/>\r\n     <use x=\"1333.904297\" xlink:href=\"#ArialMT-105\"/>\r\n     <use x=\"1356.121094\" xlink:href=\"#ArialMT-98\"/>\r\n     <use x=\"1411.736328\" xlink:href=\"#ArialMT-117\"/>\r\n     <use x=\"1467.351562\" xlink:href=\"#ArialMT-116\"/>\r\n     <use x=\"1495.134766\" xlink:href=\"#ArialMT-105\"/>\r\n     <use x=\"1517.351562\" xlink:href=\"#ArialMT-111\"/>\r\n     <use x=\"1572.966797\" xlink:href=\"#ArialMT-110\"/>\r\n    </g>\r\n   </g>\r\n  </g>\r\n </g>\r\n <defs>\r\n  <clipPath id=\"p21b4723ef0\">\r\n   <rect height=\"298.98\" width=\"446.4\" x=\"44.942656\" y=\"21.935625\"/>\r\n  </clipPath>\r\n </defs>\r\n</svg>\r\n",
      "image/png": "[encoded data removed]"
     },
     "metadata": {}
    }
   ],
   "source": [
    "# Potential customers age distribution\n",
    "grouped_age = new_customer_list_xls.groupby([\"age_by_decade\"])\n",
    "people_count = grouped_age[\"first_name\"].count()\n",
    "people_count.plot.bar()\n",
    "plt.title(\"Potential Customers Age Distribution\")\n",
    "plt.xlabel(\"Age by Decade\")\n",
    "plt.ylabel(\"Customer Count\")\n",
    "plt.savefig(\"output/potential_customers_age_distribution.png\")"
   ]
  },
  {
   "cell_type": "code",
   "execution_count": null,
   "metadata": {},
   "outputs": [],
   "source": [
    "# Bike related purchases for the past 3 years by gender (existing customers)\n",
    "grouped_gender = merged_transactions_demographics.groupby(\"gender\")\n",
    "three_years_transactions_count = grouped_gender[\"past_3_years_bike_related_purchases\"].sum()\n",
    "three_years_transactions_count.plot.bar(title=\"Bike related purchases for the past 3 years by gender (by count)\")\n",
    "plt.xlabel(\"Gender\")\n",
    "plt.ylabel(\"Purchases Count\")"
   ]
  },
  {
   "cell_type": "code",
   "execution_count": null,
   "metadata": {},
   "outputs": [],
   "source": [
    "three_years_transactions_percentage = (three_years_transactions_count/three_years_transactions_count * 100)\n",
    "three_years_transactions_percentage.plot.bar(title=\"Bike related purchases for the past 3 years by gender (by percentage)\")\n",
    "plt.xlabel(\"Gender\")\n",
    "plt.ylabel(\"Percentage of Purchases\")"
   ]
  },
  {
   "cell_type": "code",
   "execution_count": null,
   "metadata": {},
   "outputs": [],
   "source": [
    "# Job Industry Distribution\n",
    "grouped_job_categories = merged_transactions_address.groupby([\"job_industry_category\"])\n",
    "job_category_count = grouped_job_categories[\"customer_id\"].count()\n",
    "job_category_count.plot.pie(title=\"Job Industry Distribution (existing customers)\", autopct='%1.1f%%', shadow=True)\n",
    "plt.ylabel(\"\")\n",
    "plt.axis(\"equal\")"
   ]
  },
  {
   "cell_type": "code",
   "execution_count": null,
   "metadata": {},
   "outputs": [],
   "source": [
    "# Job Industry Distribution\n",
    "grouped_job_categories = new_customer_list_xls.groupby([\"job_industry_category\"])\n",
    "job_category_count = grouped_job_categories[\"first_name\"].count()\n",
    "job_category_count.plot.pie(title=\"Job Industry Distribution (potential customers)\", autopct='%1.1f%%', shadow=True)\n",
    "plt.ylabel(\"\")\n",
    "plt.axis(\"equal\")"
   ]
  },
  {
   "cell_type": "code",
   "execution_count": null,
   "metadata": {},
   "outputs": [],
   "source": [
    "# Wealth segmentation by age category - stacked bar chart (existing customers)\n",
    "grouped_age = cleaned_customer_demographic_xls.groupby([\"age_by_decade\"])\n",
    "wealth_segment = grouped_age[\"wealth_segment\"].value_counts().unstack().plot(kind='bar', stacked=True)\n",
    "plt.title(\"Wealth Segmentation by Age Cetegories\")\n",
    "plt.xlabel(\"Age by Decade\")\n",
    "plt.ylabel(\"Count\")"
   ]
  },
  {
   "cell_type": "code",
   "execution_count": null,
   "metadata": {},
   "outputs": [],
   "source": [
    "# Wealth segmentation by age category - stacked bar chart (potential customers)\n",
    "grouped_age = new_customer_list_xls.groupby([\"age_by_decade\"])\n",
    "wealth_segment = grouped_age[\"wealth_segment\"].value_counts().unstack().plot(kind='bar', stacked=True)\n",
    "plt.title(\"Wealth Segmentation by Age Cetegories\")\n",
    "plt.xlabel(\"Age by Decade\")\n",
    "plt.ylabel(\"Count\")"
   ]
  },
  {
   "cell_type": "code",
   "execution_count": null,
   "metadata": {},
   "outputs": [],
   "source": [
    "# Number of cars owned or not owned by state - grouped bar chart\n",
    "# https://matplotlib.org/3.1.1/gallery/lines_bars_and_markers/barchart.html#sphx-glr-gallery-lines-bars-and-markers-barchart-py\n",
    "grouped_state = merged_transactions_address.groupby([\"state\"])\n",
    "owns_car = grouped_state[\"owns_car\"].value_counts().plot.bar()\n",
    "plt.title(\"Number of Cars Owned or Not Owned by State\")\n",
    "plt.xlabel(\"State\")\n",
    "plt.ylabel(\"Count\")"
   ]
  },
  {
   "source": [
    "## Model Development\n",
    "### Customer Segmentation using RFM analysis\n",
    "Steps of RFM(Recency, Frequency, Monetary):\n",
    "\n",
    "1. Calculate the Recency, Frequency, Monetary values for each Customer\n",
    "\n",
    "2. Add segment bin values to RFM table using quartile\n",
    "\n",
    "3. Sort the customer RFM score in ascending order\n",
    "\n",
    "Correlation"
   ],
   "cell_type": "markdown",
   "metadata": {}
  },
  {
   "cell_type": "code",
   "execution_count": null,
   "metadata": {},
   "outputs": [],
   "source": [
    "cleaned_transactions_xls.head()"
   ]
  },
  {
   "cell_type": "code",
   "execution_count": null,
   "metadata": {},
   "outputs": [],
   "source": [
    "# Define present date\n",
    "latest_date = cleaned_transactions_xls[\"transaction_date\"].max()\n",
    "print(latest_date)\n",
    "\n",
    "present = dt.datetime(2017,12,30)\n",
    "present"
   ]
  },
  {
   "cell_type": "code",
   "execution_count": null,
   "metadata": {},
   "outputs": [],
   "source": [
    "# Calculate Recency, Frequency and Monetary\n",
    "rfm = cleaned_transactions_xls.groupby(\"customer_id\").agg({\"transaction_date\": lambda date: (present - date.max()).days, \n",
    "                                                            \"transaction_id\": lambda num: len(num),\n",
    "                                                            \"list_price\": lambda price: price.sum()})\n",
    "rfm.columns"
   ]
  },
  {
   "cell_type": "code",
   "execution_count": null,
   "metadata": {},
   "outputs": [],
   "source": [
    "# Change column names\n",
    "rfm.columns=[\"recency\",\"frequency\",\"monetary\"]\n",
    "rfm[\"recency\"] = rfm[\"recency\"].astype(int)\n",
    "rfm.head()"
   ]
  },
  {
   "source": [
    "### Computing Quantile of RFM values\n",
    "Customers with the lowest recency, highest frequency and monetary amounts considered as top customers."
   ],
   "cell_type": "markdown",
   "metadata": {}
  },
  {
   "cell_type": "code",
   "execution_count": null,
   "metadata": {},
   "outputs": [],
   "source": [
    "# Using qcut() to bin data based on sample quantiles\n",
    "rfm['r_quartile'] = pd.qcut(rfm['recency'], 4, ['1','2','3','4'])\n",
    "rfm['f_quartile'] = pd.qcut(rfm['frequency'], 4, ['4','3','2','1'])\n",
    "rfm['m_quartile'] = pd.qcut(rfm['monetary'], 4, ['4','3','2','1'])\n",
    "rfm.head()"
   ]
  },
  {
   "source": [
    "### RFM Result Interpretation\n",
    "Combine all three quartiles(r_quartile,f_quartile,m_quartile) in a single column, this rank will help to segment the customers well group."
   ],
   "cell_type": "markdown",
   "metadata": {}
  },
  {
   "cell_type": "code",
   "execution_count": null,
   "metadata": {},
   "outputs": [],
   "source": [
    "rfm[\"RFM_Score\"] = rfm.r_quartile.astype(str)+ rfm.f_quartile.astype(str) + rfm.m_quartile.astype(str)\n",
    "rfm.head()"
   ]
  },
  {
   "cell_type": "code",
   "execution_count": null,
   "metadata": {},
   "outputs": [],
   "source": [
    "# Filter out Top/Best customers\n",
    "rfm[rfm[\"RFM_Score\"]==\"111\"].sort_values('monetary', ascending=False).head()"
   ]
  },
  {
   "cell_type": "code",
   "execution_count": null,
   "metadata": {},
   "outputs": [],
   "source": []
  }
 ]
}
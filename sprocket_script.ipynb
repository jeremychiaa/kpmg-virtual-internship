{
 "metadata": {
  "language_info": {
   "codemirror_mode": {
    "name": "ipython",
    "version": 3
   },
   "file_extension": ".py",
   "mimetype": "text/x-python",
   "name": "python",
   "nbconvert_exporter": "python",
   "pygments_lexer": "ipython3",
   "version": "3.6.10-final"
  },
  "orig_nbformat": 2,
  "kernelspec": {
   "name": "Python 3.6.10 64-bit ('PythonData': conda)",
   "display_name": "Python 3.6.10 64-bit ('PythonData': conda)",
   "metadata": {
    "interpreter": {
     "hash": "4511098e18df60c01b7d3969427a2c87e82d8a62973ae543cdaefaf6447f8e43"
    }
   }
  }
 },
 "nbformat": 4,
 "nbformat_minor": 2,
 "cells": [
  {
   "cell_type": "code",
   "execution_count": 1,
   "metadata": {},
   "outputs": [],
   "source": [
    "# Import dependencies\n",
    "import datetime as dt\n",
    "import pandas as pd\n",
    "import numpy as np\n",
    "import matplotlib.pyplot as plt\n",
    "import seaborn as sns"
   ]
  },
  {
   "cell_type": "code",
   "execution_count": 2,
   "metadata": {},
   "outputs": [],
   "source": [
    "# Read into excel file\n",
    "xls = pd.ExcelFile(\"./Resources/KPMG_VI_New_raw_data_update_final.xlsx\")\n",
    "transactions_xls = pd.read_excel(xls, \"Transactions\", header=1)\n",
    "new_customer_list_xls = pd.read_excel(xls, \"NewCustomerList\", header=1)\n",
    "customer_demographic_xls = pd.read_excel(xls, \"CustomerDemographic\", header=1)\n",
    "customer_address_xls = pd.read_excel(xls, \"CustomerAddress\", header=1)"
   ]
  },
  {
   "source": [
    "## Data Cleaning"
   ],
   "cell_type": "markdown",
   "metadata": {}
  },
  {
   "cell_type": "code",
   "execution_count": 3,
   "metadata": {},
   "outputs": [],
   "source": [
    "# Create function to drop all customer_ids above 3500\n",
    "def consistent_id(excel_sheet):\n",
    "    excel_sheet = excel_sheet.loc[excel_sheet[\"customer_id\"] <= 3500]\n",
    "    return excel_sheet"
   ]
  },
  {
   "cell_type": "code",
   "execution_count": 4,
   "metadata": {},
   "outputs": [],
   "source": [
    "# Apply range of below 3500 to all sheets\n",
    "cleaned_transactions_xls = consistent_id(transactions_xls)\n",
    "cleaned_customer_demographic_xls = consistent_id(customer_demographic_xls)\n",
    "cleaned_customer_address_xls = consistent_id(customer_address_xls)"
   ]
  },
  {
   "source": [
    "### Transactions"
   ],
   "cell_type": "markdown",
   "metadata": {}
  },
  {
   "cell_type": "code",
   "execution_count": 5,
   "metadata": {},
   "outputs": [
    {
     "output_type": "execute_result",
     "data": {
      "text/plain": [
       "   transaction_id  product_id  customer_id transaction_date  online_order  \\\n",
       "0               1           2         2950       2017-02-25           0.0   \n",
       "1               2           3         3120       2017-05-21           1.0   \n",
       "2               3          37          402       2017-10-16           0.0   \n",
       "3               4          88         3135       2017-08-31           0.0   \n",
       "4               5          78          787       2017-10-01           1.0   \n",
       "\n",
       "  order_status           brand product_line product_class product_size  \\\n",
       "0     Approved           Solex     Standard        medium       medium   \n",
       "1     Approved   Trek Bicycles     Standard        medium        large   \n",
       "2     Approved      OHM Cycles     Standard           low       medium   \n",
       "3     Approved  Norco Bicycles     Standard        medium       medium   \n",
       "4     Approved  Giant Bicycles     Standard        medium        large   \n",
       "\n",
       "   list_price  standard_cost  product_first_sold_date  \n",
       "0       71.49          53.62                  41245.0  \n",
       "1     2091.47         388.92                  41701.0  \n",
       "2     1793.43         248.82                  36361.0  \n",
       "3     1198.46         381.10                  36145.0  \n",
       "4     1765.30         709.48                  42226.0  "
      ],
      "text/html": "<div>\n<style scoped>\n    .dataframe tbody tr th:only-of-type {\n        vertical-align: middle;\n    }\n\n    .dataframe tbody tr th {\n        vertical-align: top;\n    }\n\n    .dataframe thead th {\n        text-align: right;\n    }\n</style>\n<table border=\"1\" class=\"dataframe\">\n  <thead>\n    <tr style=\"text-align: right;\">\n      <th></th>\n      <th>transaction_id</th>\n      <th>product_id</th>\n      <th>customer_id</th>\n      <th>transaction_date</th>\n      <th>online_order</th>\n      <th>order_status</th>\n      <th>brand</th>\n      <th>product_line</th>\n      <th>product_class</th>\n      <th>product_size</th>\n      <th>list_price</th>\n      <th>standard_cost</th>\n      <th>product_first_sold_date</th>\n    </tr>\n  </thead>\n  <tbody>\n    <tr>\n      <th>0</th>\n      <td>1</td>\n      <td>2</td>\n      <td>2950</td>\n      <td>2017-02-25</td>\n      <td>0.0</td>\n      <td>Approved</td>\n      <td>Solex</td>\n      <td>Standard</td>\n      <td>medium</td>\n      <td>medium</td>\n      <td>71.49</td>\n      <td>53.62</td>\n      <td>41245.0</td>\n    </tr>\n    <tr>\n      <th>1</th>\n      <td>2</td>\n      <td>3</td>\n      <td>3120</td>\n      <td>2017-05-21</td>\n      <td>1.0</td>\n      <td>Approved</td>\n      <td>Trek Bicycles</td>\n      <td>Standard</td>\n      <td>medium</td>\n      <td>large</td>\n      <td>2091.47</td>\n      <td>388.92</td>\n      <td>41701.0</td>\n    </tr>\n    <tr>\n      <th>2</th>\n      <td>3</td>\n      <td>37</td>\n      <td>402</td>\n      <td>2017-10-16</td>\n      <td>0.0</td>\n      <td>Approved</td>\n      <td>OHM Cycles</td>\n      <td>Standard</td>\n      <td>low</td>\n      <td>medium</td>\n      <td>1793.43</td>\n      <td>248.82</td>\n      <td>36361.0</td>\n    </tr>\n    <tr>\n      <th>3</th>\n      <td>4</td>\n      <td>88</td>\n      <td>3135</td>\n      <td>2017-08-31</td>\n      <td>0.0</td>\n      <td>Approved</td>\n      <td>Norco Bicycles</td>\n      <td>Standard</td>\n      <td>medium</td>\n      <td>medium</td>\n      <td>1198.46</td>\n      <td>381.10</td>\n      <td>36145.0</td>\n    </tr>\n    <tr>\n      <th>4</th>\n      <td>5</td>\n      <td>78</td>\n      <td>787</td>\n      <td>2017-10-01</td>\n      <td>1.0</td>\n      <td>Approved</td>\n      <td>Giant Bicycles</td>\n      <td>Standard</td>\n      <td>medium</td>\n      <td>large</td>\n      <td>1765.30</td>\n      <td>709.48</td>\n      <td>42226.0</td>\n    </tr>\n  </tbody>\n</table>\n</div>"
     },
     "metadata": {},
     "execution_count": 5
    }
   ],
   "source": [
    "cleaned_transactions_xls.head()"
   ]
  },
  {
   "cell_type": "code",
   "execution_count": 6,
   "metadata": {},
   "outputs": [],
   "source": [
    "# Convert online order column to boolean\n",
    "cleaned_transactions_xls[\"online_order\"] = cleaned_transactions_xls[\"online_order\"].astype(bool)"
   ]
  },
  {
   "cell_type": "code",
   "execution_count": 7,
   "metadata": {},
   "outputs": [],
   "source": [
    "# Drop all null values for transactions\n",
    "cleaned_transactions_xls = cleaned_transactions_xls.dropna()"
   ]
  },
  {
   "cell_type": "code",
   "execution_count": 8,
   "metadata": {},
   "outputs": [
    {
     "output_type": "execute_result",
     "data": {
      "text/plain": [
       "   transaction_id  product_id  customer_id transaction_date  online_order  \\\n",
       "0               1           2         2950       2017-02-25         False   \n",
       "1               2           3         3120       2017-05-21          True   \n",
       "2               3          37          402       2017-10-16         False   \n",
       "3               4          88         3135       2017-08-31         False   \n",
       "4               5          78          787       2017-10-01          True   \n",
       "\n",
       "  order_status           brand product_line product_class product_size  \\\n",
       "0     Approved           Solex     Standard        medium       medium   \n",
       "1     Approved   Trek Bicycles     Standard        medium        large   \n",
       "2     Approved      OHM Cycles     Standard           low       medium   \n",
       "3     Approved  Norco Bicycles     Standard        medium       medium   \n",
       "4     Approved  Giant Bicycles     Standard        medium        large   \n",
       "\n",
       "   list_price  standard_cost  product_first_sold_date  \n",
       "0       71.49          53.62                  41245.0  \n",
       "1     2091.47         388.92                  41701.0  \n",
       "2     1793.43         248.82                  36361.0  \n",
       "3     1198.46         381.10                  36145.0  \n",
       "4     1765.30         709.48                  42226.0  "
      ],
      "text/html": "<div>\n<style scoped>\n    .dataframe tbody tr th:only-of-type {\n        vertical-align: middle;\n    }\n\n    .dataframe tbody tr th {\n        vertical-align: top;\n    }\n\n    .dataframe thead th {\n        text-align: right;\n    }\n</style>\n<table border=\"1\" class=\"dataframe\">\n  <thead>\n    <tr style=\"text-align: right;\">\n      <th></th>\n      <th>transaction_id</th>\n      <th>product_id</th>\n      <th>customer_id</th>\n      <th>transaction_date</th>\n      <th>online_order</th>\n      <th>order_status</th>\n      <th>brand</th>\n      <th>product_line</th>\n      <th>product_class</th>\n      <th>product_size</th>\n      <th>list_price</th>\n      <th>standard_cost</th>\n      <th>product_first_sold_date</th>\n    </tr>\n  </thead>\n  <tbody>\n    <tr>\n      <th>0</th>\n      <td>1</td>\n      <td>2</td>\n      <td>2950</td>\n      <td>2017-02-25</td>\n      <td>False</td>\n      <td>Approved</td>\n      <td>Solex</td>\n      <td>Standard</td>\n      <td>medium</td>\n      <td>medium</td>\n      <td>71.49</td>\n      <td>53.62</td>\n      <td>41245.0</td>\n    </tr>\n    <tr>\n      <th>1</th>\n      <td>2</td>\n      <td>3</td>\n      <td>3120</td>\n      <td>2017-05-21</td>\n      <td>True</td>\n      <td>Approved</td>\n      <td>Trek Bicycles</td>\n      <td>Standard</td>\n      <td>medium</td>\n      <td>large</td>\n      <td>2091.47</td>\n      <td>388.92</td>\n      <td>41701.0</td>\n    </tr>\n    <tr>\n      <th>2</th>\n      <td>3</td>\n      <td>37</td>\n      <td>402</td>\n      <td>2017-10-16</td>\n      <td>False</td>\n      <td>Approved</td>\n      <td>OHM Cycles</td>\n      <td>Standard</td>\n      <td>low</td>\n      <td>medium</td>\n      <td>1793.43</td>\n      <td>248.82</td>\n      <td>36361.0</td>\n    </tr>\n    <tr>\n      <th>3</th>\n      <td>4</td>\n      <td>88</td>\n      <td>3135</td>\n      <td>2017-08-31</td>\n      <td>False</td>\n      <td>Approved</td>\n      <td>Norco Bicycles</td>\n      <td>Standard</td>\n      <td>medium</td>\n      <td>medium</td>\n      <td>1198.46</td>\n      <td>381.10</td>\n      <td>36145.0</td>\n    </tr>\n    <tr>\n      <th>4</th>\n      <td>5</td>\n      <td>78</td>\n      <td>787</td>\n      <td>2017-10-01</td>\n      <td>True</td>\n      <td>Approved</td>\n      <td>Giant Bicycles</td>\n      <td>Standard</td>\n      <td>medium</td>\n      <td>large</td>\n      <td>1765.30</td>\n      <td>709.48</td>\n      <td>42226.0</td>\n    </tr>\n  </tbody>\n</table>\n</div>"
     },
     "metadata": {},
     "execution_count": 8
    }
   ],
   "source": [
    "# Display cleaned dataframe\n",
    "cleaned_transactions_xls.head()"
   ]
  },
  {
   "source": [
    "### Customer Demographics"
   ],
   "cell_type": "markdown",
   "metadata": {}
  },
  {
   "cell_type": "code",
   "execution_count": 9,
   "metadata": {},
   "outputs": [],
   "source": [
    "# Drop null values only for DOB and job title columns of customer demographics\n",
    "cleaned_customer_demographic_xls = cleaned_customer_demographic_xls.dropna(subset=[\"DOB\", \"job_title\"])"
   ]
  },
  {
   "cell_type": "code",
   "execution_count": 10,
   "metadata": {},
   "outputs": [],
   "source": [
    "# Drop default column of meta data\n",
    "cleaned_customer_demographic_xls = cleaned_customer_demographic_xls.drop(columns=\"default\")"
   ]
  },
  {
   "cell_type": "code",
   "execution_count": 11,
   "metadata": {},
   "outputs": [
    {
     "output_type": "execute_result",
     "data": {
      "text/plain": [
       "customer_id                            3004\n",
       "first_name                             3004\n",
       "last_name                              2908\n",
       "gender                                 3004\n",
       "past_3_years_bike_related_purchases    3004\n",
       "DOB                                    3004\n",
       "job_title                              3004\n",
       "job_industry_category                  2531\n",
       "wealth_segment                         3004\n",
       "deceased_indicator                     3004\n",
       "owns_car                               3004\n",
       "tenure                                 3004\n",
       "dtype: int64"
      ]
     },
     "metadata": {},
     "execution_count": 11
    }
   ],
   "source": [
    "# Check remaining null values\n",
    "# Remain nulls for last_name and job_industry_category as they do not affect future analysis\n",
    "cleaned_customer_demographic_xls.count()"
   ]
  },
  {
   "cell_type": "code",
   "execution_count": 12,
   "metadata": {},
   "outputs": [
    {
     "output_type": "execute_result",
     "data": {
      "text/plain": [
       "Timestamp('1843-12-21 00:00:00')"
      ]
     },
     "metadata": {},
     "execution_count": 12
    }
   ],
   "source": [
    "# Find outlier of DOB column\n",
    "cleaned_customer_demographic_xls[\"DOB\"].min()"
   ]
  },
  {
   "cell_type": "code",
   "execution_count": 13,
   "metadata": {},
   "outputs": [],
   "source": [
    "# Drop outlier\n",
    "cleaned_customer_demographic_xls = cleaned_customer_demographic_xls[cleaned_customer_demographic_xls.DOB != \"1843-12-21 00:00:00\"]"
   ]
  },
  {
   "cell_type": "code",
   "execution_count": 14,
   "metadata": {},
   "outputs": [],
   "source": [
    "# Add age column\n",
    "now = pd.Timestamp(\"now\")\n",
    "cleaned_customer_demographic_xls[\"age\"] = (now - cleaned_customer_demographic_xls[\"DOB\"]).astype(\"<m8[Y]\")"
   ]
  },
  {
   "cell_type": "code",
   "execution_count": 51,
   "metadata": {},
   "outputs": [
    {
     "output_type": "execute_result",
     "data": {
      "text/plain": [
       "Female    1534\n",
       "Male      1469\n",
       "Name: gender, dtype: int64"
      ]
     },
     "metadata": {},
     "execution_count": 51
    }
   ],
   "source": [
    "# Check for gender unique values\n",
    "cleaned_customer_demographic_xls[\"gender\"].value_counts()"
   ]
  },
  {
   "cell_type": "code",
   "execution_count": 50,
   "metadata": {},
   "outputs": [],
   "source": [
    "# Replace inconsistent values in gender column\n",
    "cleaned_customer_demographic_xls[\"gender\"] = cleaned_customer_demographic_xls[\"gender\"].replace([\"Femal\", \"F\", \"M\"], [\"Female\", \"Female\", \"Male\"])"
   ]
  },
  {
   "cell_type": "code",
   "execution_count": 15,
   "metadata": {},
   "outputs": [
    {
     "output_type": "execute_result",
     "data": {
      "text/plain": [
       "['customer_id',\n",
       " 'first_name',\n",
       " 'last_name',\n",
       " 'gender',\n",
       " 'past_3_years_bike_related_purchases',\n",
       " 'DOB',\n",
       " 'job_title',\n",
       " 'job_industry_category',\n",
       " 'wealth_segment',\n",
       " 'deceased_indicator',\n",
       " 'owns_car',\n",
       " 'tenure',\n",
       " 'age']"
      ]
     },
     "metadata": {},
     "execution_count": 15
    }
   ],
   "source": [
    "# List all available columns\n",
    "cd_cols = list(cleaned_customer_demographic_xls.columns.values)\n",
    "cd_cols"
   ]
  },
  {
   "cell_type": "code",
   "execution_count": 16,
   "metadata": {},
   "outputs": [
    {
     "output_type": "execute_result",
     "data": {
      "text/plain": [
       "[['customer_id',\n",
       "  'first_name',\n",
       "  'last_name',\n",
       "  'gender',\n",
       "  'past_3_years_bike_related_purchases',\n",
       "  'DOB',\n",
       "  'age',\n",
       "  'job_title',\n",
       "  'job_industry_category',\n",
       "  'wealth_segment',\n",
       "  'deceased_indicator',\n",
       "  'owns_car',\n",
       "  'tenure']]"
      ]
     },
     "metadata": {},
     "execution_count": 16
    }
   ],
   "source": [
    "# Rearrange columns\n",
    "cleaned_customer_demographic_xls = cleaned_customer_demographic_xls\n",
    "[['customer_id',\n",
    " 'first_name',\n",
    " 'last_name',\n",
    " 'gender',\n",
    " 'past_3_years_bike_related_purchases',\n",
    " 'DOB',\n",
    " 'age',\n",
    " 'job_title',\n",
    " 'job_industry_category',\n",
    " 'wealth_segment',\n",
    " 'deceased_indicator',\n",
    " 'owns_car',\n",
    " 'tenure']]"
   ]
  },
  {
   "cell_type": "code",
   "execution_count": 17,
   "metadata": {},
   "outputs": [
    {
     "output_type": "execute_result",
     "data": {
      "text/plain": [
       "   customer_id      first_name  last_name  gender  \\\n",
       "0            1         Laraine  Medendorp       F   \n",
       "1            2             Eli    Bockman    Male   \n",
       "2            3           Arlin     Dearle    Male   \n",
       "4            5  Sheila-kathryn     Calton  Female   \n",
       "7            8             Rod      Inder    Male   \n",
       "\n",
       "   past_3_years_bike_related_purchases        DOB               job_title  \\\n",
       "0                                   93 1953-10-12     Executive Secretary   \n",
       "1                                   81 1980-12-16  Administrative Officer   \n",
       "2                                   61 1954-01-20      Recruiting Manager   \n",
       "4                                   56 1977-05-13           Senior Editor   \n",
       "7                                   31 1962-03-30         Media Manager I   \n",
       "\n",
       "  job_industry_category     wealth_segment deceased_indicator owns_car  \\\n",
       "0                Health      Mass Customer                  N      Yes   \n",
       "1    Financial Services      Mass Customer                  N      Yes   \n",
       "2              Property      Mass Customer                  N      Yes   \n",
       "4                   NaN  Affluent Customer                  N      Yes   \n",
       "7                   NaN      Mass Customer                  N       No   \n",
       "\n",
       "   tenure   age  \n",
       "0    11.0  67.0  \n",
       "1    16.0  39.0  \n",
       "2    15.0  66.0  \n",
       "4     8.0  43.0  \n",
       "7     7.0  58.0  "
      ],
      "text/html": "<div>\n<style scoped>\n    .dataframe tbody tr th:only-of-type {\n        vertical-align: middle;\n    }\n\n    .dataframe tbody tr th {\n        vertical-align: top;\n    }\n\n    .dataframe thead th {\n        text-align: right;\n    }\n</style>\n<table border=\"1\" class=\"dataframe\">\n  <thead>\n    <tr style=\"text-align: right;\">\n      <th></th>\n      <th>customer_id</th>\n      <th>first_name</th>\n      <th>last_name</th>\n      <th>gender</th>\n      <th>past_3_years_bike_related_purchases</th>\n      <th>DOB</th>\n      <th>job_title</th>\n      <th>job_industry_category</th>\n      <th>wealth_segment</th>\n      <th>deceased_indicator</th>\n      <th>owns_car</th>\n      <th>tenure</th>\n      <th>age</th>\n    </tr>\n  </thead>\n  <tbody>\n    <tr>\n      <th>0</th>\n      <td>1</td>\n      <td>Laraine</td>\n      <td>Medendorp</td>\n      <td>F</td>\n      <td>93</td>\n      <td>1953-10-12</td>\n      <td>Executive Secretary</td>\n      <td>Health</td>\n      <td>Mass Customer</td>\n      <td>N</td>\n      <td>Yes</td>\n      <td>11.0</td>\n      <td>67.0</td>\n    </tr>\n    <tr>\n      <th>1</th>\n      <td>2</td>\n      <td>Eli</td>\n      <td>Bockman</td>\n      <td>Male</td>\n      <td>81</td>\n      <td>1980-12-16</td>\n      <td>Administrative Officer</td>\n      <td>Financial Services</td>\n      <td>Mass Customer</td>\n      <td>N</td>\n      <td>Yes</td>\n      <td>16.0</td>\n      <td>39.0</td>\n    </tr>\n    <tr>\n      <th>2</th>\n      <td>3</td>\n      <td>Arlin</td>\n      <td>Dearle</td>\n      <td>Male</td>\n      <td>61</td>\n      <td>1954-01-20</td>\n      <td>Recruiting Manager</td>\n      <td>Property</td>\n      <td>Mass Customer</td>\n      <td>N</td>\n      <td>Yes</td>\n      <td>15.0</td>\n      <td>66.0</td>\n    </tr>\n    <tr>\n      <th>4</th>\n      <td>5</td>\n      <td>Sheila-kathryn</td>\n      <td>Calton</td>\n      <td>Female</td>\n      <td>56</td>\n      <td>1977-05-13</td>\n      <td>Senior Editor</td>\n      <td>NaN</td>\n      <td>Affluent Customer</td>\n      <td>N</td>\n      <td>Yes</td>\n      <td>8.0</td>\n      <td>43.0</td>\n    </tr>\n    <tr>\n      <th>7</th>\n      <td>8</td>\n      <td>Rod</td>\n      <td>Inder</td>\n      <td>Male</td>\n      <td>31</td>\n      <td>1962-03-30</td>\n      <td>Media Manager I</td>\n      <td>NaN</td>\n      <td>Mass Customer</td>\n      <td>N</td>\n      <td>No</td>\n      <td>7.0</td>\n      <td>58.0</td>\n    </tr>\n  </tbody>\n</table>\n</div>"
     },
     "metadata": {},
     "execution_count": 17
    }
   ],
   "source": [
    "# Display cleaned dataframe\n",
    "cleaned_customer_demographic_xls.head()"
   ]
  },
  {
   "source": [
    "### Customer Address"
   ],
   "cell_type": "markdown",
   "metadata": {}
  },
  {
   "cell_type": "code",
   "execution_count": 18,
   "metadata": {},
   "outputs": [
    {
     "output_type": "execute_result",
     "data": {
      "text/plain": [
       "customer_id           3496\n",
       "address               3496\n",
       "postcode              3496\n",
       "state                 3496\n",
       "country               3496\n",
       "property_valuation    3496\n",
       "dtype: int64"
      ]
     },
     "metadata": {},
     "execution_count": 18
    }
   ],
   "source": [
    "# Check for null values\n",
    "cleaned_customer_address_xls.count()"
   ]
  },
  {
   "cell_type": "code",
   "execution_count": 19,
   "metadata": {},
   "outputs": [
    {
     "output_type": "execute_result",
     "data": {
      "text/plain": [
       "NSW                1783\n",
       "VIC                 801\n",
       "QLD                 744\n",
       "New South Wales      86\n",
       "Victoria             82\n",
       "Name: state, dtype: int64"
      ]
     },
     "metadata": {},
     "execution_count": 19
    }
   ],
   "source": [
    "# Check for values that need to be replaced\n",
    "cleaned_customer_address_xls[\"state\"].value_counts()"
   ]
  },
  {
   "cell_type": "code",
   "execution_count": 20,
   "metadata": {},
   "outputs": [],
   "source": [
    "# Replace inconsistent values in state column\n",
    "cleaned_customer_address_xls[\"state\"] = cleaned_customer_address_xls[\"state\"].replace([\"New South Wales\", \"Victoria\"], [\"NSW\", \"VIC\"])"
   ]
  },
  {
   "cell_type": "code",
   "execution_count": 21,
   "metadata": {},
   "outputs": [
    {
     "output_type": "execute_result",
     "data": {
      "text/plain": [
       "NSW    1869\n",
       "VIC     883\n",
       "QLD     744\n",
       "Name: state, dtype: int64"
      ]
     },
     "metadata": {},
     "execution_count": 21
    }
   ],
   "source": [
    "# Check if values were successfully replaced\n",
    "cleaned_customer_address_xls[\"state\"].value_counts()"
   ]
  },
  {
   "cell_type": "code",
   "execution_count": 22,
   "metadata": {},
   "outputs": [
    {
     "output_type": "execute_result",
     "data": {
      "text/plain": [
       "   customer_id              address  postcode state    country  \\\n",
       "0            1   060 Morning Avenue      2016   NSW  Australia   \n",
       "1            2  6 Meadow Vale Court      2153   NSW  Australia   \n",
       "2            4   0 Holy Cross Court      4211   QLD  Australia   \n",
       "3            5  17979 Del Mar Point      2448   NSW  Australia   \n",
       "4            6     9 Oakridge Court      3216   VIC  Australia   \n",
       "\n",
       "   property_valuation  \n",
       "0                  10  \n",
       "1                  10  \n",
       "2                   9  \n",
       "3                   4  \n",
       "4                   9  "
      ],
      "text/html": "<div>\n<style scoped>\n    .dataframe tbody tr th:only-of-type {\n        vertical-align: middle;\n    }\n\n    .dataframe tbody tr th {\n        vertical-align: top;\n    }\n\n    .dataframe thead th {\n        text-align: right;\n    }\n</style>\n<table border=\"1\" class=\"dataframe\">\n  <thead>\n    <tr style=\"text-align: right;\">\n      <th></th>\n      <th>customer_id</th>\n      <th>address</th>\n      <th>postcode</th>\n      <th>state</th>\n      <th>country</th>\n      <th>property_valuation</th>\n    </tr>\n  </thead>\n  <tbody>\n    <tr>\n      <th>0</th>\n      <td>1</td>\n      <td>060 Morning Avenue</td>\n      <td>2016</td>\n      <td>NSW</td>\n      <td>Australia</td>\n      <td>10</td>\n    </tr>\n    <tr>\n      <th>1</th>\n      <td>2</td>\n      <td>6 Meadow Vale Court</td>\n      <td>2153</td>\n      <td>NSW</td>\n      <td>Australia</td>\n      <td>10</td>\n    </tr>\n    <tr>\n      <th>2</th>\n      <td>4</td>\n      <td>0 Holy Cross Court</td>\n      <td>4211</td>\n      <td>QLD</td>\n      <td>Australia</td>\n      <td>9</td>\n    </tr>\n    <tr>\n      <th>3</th>\n      <td>5</td>\n      <td>17979 Del Mar Point</td>\n      <td>2448</td>\n      <td>NSW</td>\n      <td>Australia</td>\n      <td>4</td>\n    </tr>\n    <tr>\n      <th>4</th>\n      <td>6</td>\n      <td>9 Oakridge Court</td>\n      <td>3216</td>\n      <td>VIC</td>\n      <td>Australia</td>\n      <td>9</td>\n    </tr>\n  </tbody>\n</table>\n</div>"
     },
     "metadata": {},
     "execution_count": 22
    }
   ],
   "source": [
    "# Display cleaned dataframe\n",
    "cleaned_customer_address_xls.head()"
   ]
  },
  {
   "source": [
    "### New customer list"
   ],
   "cell_type": "markdown",
   "metadata": {}
  },
  {
   "cell_type": "code",
   "execution_count": 23,
   "metadata": {},
   "outputs": [],
   "source": [
    "# Add age column to new customers list\n",
    "new_customer_list_xls[\"age\"] = (now - new_customer_list_xls[\"DOB\"]).astype(\"<m8[Y]\")"
   ]
  },
  {
   "cell_type": "code",
   "execution_count": 24,
   "metadata": {},
   "outputs": [
    {
     "output_type": "execute_result",
     "data": {
      "text/plain": [
       "  first_name  last_name  gender  past_3_years_bike_related_purchases  \\\n",
       "0    Chickie    Brister    Male                                   86   \n",
       "1      Morly     Genery    Male                                   69   \n",
       "2    Ardelis  Forrester  Female                                   10   \n",
       "3     Lucine      Stutt  Female                                   64   \n",
       "4    Melinda     Hadlee  Female                                   34   \n",
       "\n",
       "         DOB                   job_title job_industry_category  \\\n",
       "0 1957-07-12             General Manager         Manufacturing   \n",
       "1 1970-03-22         Structural Engineer              Property   \n",
       "2 1974-08-28      Senior Cost Accountant    Financial Services   \n",
       "3 1979-01-28  Account Representative III         Manufacturing   \n",
       "4 1965-09-21           Financial Analyst    Financial Services   \n",
       "\n",
       "      wealth_segment deceased_indicator owns_car  ...    country  \\\n",
       "0      Mass Customer                  N      Yes  ...  Australia   \n",
       "1      Mass Customer                  N       No  ...  Australia   \n",
       "2  Affluent Customer                  N       No  ...  Australia   \n",
       "3  Affluent Customer                  N      Yes  ...  Australia   \n",
       "4  Affluent Customer                  N       No  ...  Australia   \n",
       "\n",
       "  property_valuation  Unnamed: 16 Unnamed: 17 Unnamed: 18  Unnamed: 19  \\\n",
       "0                  6         0.56      0.7000      0.8750     0.743750   \n",
       "1                 11         0.89      0.8900      1.1125     0.945625   \n",
       "2                  5         1.01      1.0100      1.0100     1.010000   \n",
       "3                  1         0.87      1.0875      1.0875     1.087500   \n",
       "4                  9         0.52      0.5200      0.6500     0.650000   \n",
       "\n",
       "   Unnamed: 20  Rank     Value   age  \n",
       "0            1     1  1.718750  63.0  \n",
       "1            1     1  1.718750  50.0  \n",
       "2            1     1  1.718750  46.0  \n",
       "3            4     4  1.703125  41.0  \n",
       "4            4     4  1.703125  55.0  \n",
       "\n",
       "[5 rows x 24 columns]"
      ],
      "text/html": "<div>\n<style scoped>\n    .dataframe tbody tr th:only-of-type {\n        vertical-align: middle;\n    }\n\n    .dataframe tbody tr th {\n        vertical-align: top;\n    }\n\n    .dataframe thead th {\n        text-align: right;\n    }\n</style>\n<table border=\"1\" class=\"dataframe\">\n  <thead>\n    <tr style=\"text-align: right;\">\n      <th></th>\n      <th>first_name</th>\n      <th>last_name</th>\n      <th>gender</th>\n      <th>past_3_years_bike_related_purchases</th>\n      <th>DOB</th>\n      <th>job_title</th>\n      <th>job_industry_category</th>\n      <th>wealth_segment</th>\n      <th>deceased_indicator</th>\n      <th>owns_car</th>\n      <th>...</th>\n      <th>country</th>\n      <th>property_valuation</th>\n      <th>Unnamed: 16</th>\n      <th>Unnamed: 17</th>\n      <th>Unnamed: 18</th>\n      <th>Unnamed: 19</th>\n      <th>Unnamed: 20</th>\n      <th>Rank</th>\n      <th>Value</th>\n      <th>age</th>\n    </tr>\n  </thead>\n  <tbody>\n    <tr>\n      <th>0</th>\n      <td>Chickie</td>\n      <td>Brister</td>\n      <td>Male</td>\n      <td>86</td>\n      <td>1957-07-12</td>\n      <td>General Manager</td>\n      <td>Manufacturing</td>\n      <td>Mass Customer</td>\n      <td>N</td>\n      <td>Yes</td>\n      <td>...</td>\n      <td>Australia</td>\n      <td>6</td>\n      <td>0.56</td>\n      <td>0.7000</td>\n      <td>0.8750</td>\n      <td>0.743750</td>\n      <td>1</td>\n      <td>1</td>\n      <td>1.718750</td>\n      <td>63.0</td>\n    </tr>\n    <tr>\n      <th>1</th>\n      <td>Morly</td>\n      <td>Genery</td>\n      <td>Male</td>\n      <td>69</td>\n      <td>1970-03-22</td>\n      <td>Structural Engineer</td>\n      <td>Property</td>\n      <td>Mass Customer</td>\n      <td>N</td>\n      <td>No</td>\n      <td>...</td>\n      <td>Australia</td>\n      <td>11</td>\n      <td>0.89</td>\n      <td>0.8900</td>\n      <td>1.1125</td>\n      <td>0.945625</td>\n      <td>1</td>\n      <td>1</td>\n      <td>1.718750</td>\n      <td>50.0</td>\n    </tr>\n    <tr>\n      <th>2</th>\n      <td>Ardelis</td>\n      <td>Forrester</td>\n      <td>Female</td>\n      <td>10</td>\n      <td>1974-08-28</td>\n      <td>Senior Cost Accountant</td>\n      <td>Financial Services</td>\n      <td>Affluent Customer</td>\n      <td>N</td>\n      <td>No</td>\n      <td>...</td>\n      <td>Australia</td>\n      <td>5</td>\n      <td>1.01</td>\n      <td>1.0100</td>\n      <td>1.0100</td>\n      <td>1.010000</td>\n      <td>1</td>\n      <td>1</td>\n      <td>1.718750</td>\n      <td>46.0</td>\n    </tr>\n    <tr>\n      <th>3</th>\n      <td>Lucine</td>\n      <td>Stutt</td>\n      <td>Female</td>\n      <td>64</td>\n      <td>1979-01-28</td>\n      <td>Account Representative III</td>\n      <td>Manufacturing</td>\n      <td>Affluent Customer</td>\n      <td>N</td>\n      <td>Yes</td>\n      <td>...</td>\n      <td>Australia</td>\n      <td>1</td>\n      <td>0.87</td>\n      <td>1.0875</td>\n      <td>1.0875</td>\n      <td>1.087500</td>\n      <td>4</td>\n      <td>4</td>\n      <td>1.703125</td>\n      <td>41.0</td>\n    </tr>\n    <tr>\n      <th>4</th>\n      <td>Melinda</td>\n      <td>Hadlee</td>\n      <td>Female</td>\n      <td>34</td>\n      <td>1965-09-21</td>\n      <td>Financial Analyst</td>\n      <td>Financial Services</td>\n      <td>Affluent Customer</td>\n      <td>N</td>\n      <td>No</td>\n      <td>...</td>\n      <td>Australia</td>\n      <td>9</td>\n      <td>0.52</td>\n      <td>0.5200</td>\n      <td>0.6500</td>\n      <td>0.650000</td>\n      <td>4</td>\n      <td>4</td>\n      <td>1.703125</td>\n      <td>55.0</td>\n    </tr>\n  </tbody>\n</table>\n<p>5 rows × 24 columns</p>\n</div>"
     },
     "metadata": {},
     "execution_count": 24
    }
   ],
   "source": [
    "new_customer_list_xls.head()"
   ]
  },
  {
   "cell_type": "code",
   "execution_count": 25,
   "metadata": {},
   "outputs": [
    {
     "output_type": "execute_result",
     "data": {
      "text/plain": [
       "['first_name',\n",
       " 'last_name',\n",
       " 'gender',\n",
       " 'past_3_years_bike_related_purchases',\n",
       " 'DOB',\n",
       " 'job_title',\n",
       " 'job_industry_category',\n",
       " 'wealth_segment',\n",
       " 'deceased_indicator',\n",
       " 'owns_car',\n",
       " 'tenure',\n",
       " 'address',\n",
       " 'postcode',\n",
       " 'state',\n",
       " 'country',\n",
       " 'property_valuation',\n",
       " 'Unnamed: 16',\n",
       " 'Unnamed: 17',\n",
       " 'Unnamed: 18',\n",
       " 'Unnamed: 19',\n",
       " 'Unnamed: 20',\n",
       " 'Rank',\n",
       " 'Value',\n",
       " 'age']"
      ]
     },
     "metadata": {},
     "execution_count": 25
    }
   ],
   "source": [
    "# List all available columns in dataframe\n",
    "cl_cols = list(new_customer_list_xls.columns.values)\n",
    "cl_cols"
   ]
  },
  {
   "cell_type": "code",
   "execution_count": 26,
   "metadata": {},
   "outputs": [],
   "source": [
    "# Rearrange columns\n",
    "new_customer_list_xls = new_customer_list_xls[['first_name',\n",
    " 'last_name',\n",
    " 'gender',\n",
    " 'past_3_years_bike_related_purchases',\n",
    " 'DOB',\n",
    " 'age',\n",
    " 'job_title',\n",
    " 'job_industry_category',\n",
    " 'wealth_segment',\n",
    " 'deceased_indicator',\n",
    " 'owns_car',\n",
    " 'tenure',\n",
    " 'address',\n",
    " 'postcode',\n",
    " 'state',\n",
    " 'country',\n",
    " 'property_valuation',\n",
    " 'Unnamed: 16',\n",
    " 'Unnamed: 17',\n",
    " 'Unnamed: 18',\n",
    " 'Unnamed: 19',\n",
    " 'Unnamed: 20',\n",
    " 'Rank',\n",
    " 'Value']]"
   ]
  },
  {
   "cell_type": "code",
   "execution_count": 27,
   "metadata": {},
   "outputs": [
    {
     "output_type": "execute_result",
     "data": {
      "text/plain": [
       "  first_name  last_name  gender  past_3_years_bike_related_purchases  \\\n",
       "0    Chickie    Brister    Male                                   86   \n",
       "1      Morly     Genery    Male                                   69   \n",
       "2    Ardelis  Forrester  Female                                   10   \n",
       "3     Lucine      Stutt  Female                                   64   \n",
       "4    Melinda     Hadlee  Female                                   34   \n",
       "\n",
       "         DOB   age                   job_title job_industry_category  \\\n",
       "0 1957-07-12  63.0             General Manager         Manufacturing   \n",
       "1 1970-03-22  50.0         Structural Engineer              Property   \n",
       "2 1974-08-28  46.0      Senior Cost Accountant    Financial Services   \n",
       "3 1979-01-28  41.0  Account Representative III         Manufacturing   \n",
       "4 1965-09-21  55.0           Financial Analyst    Financial Services   \n",
       "\n",
       "      wealth_segment deceased_indicator  ... state    country  \\\n",
       "0      Mass Customer                  N  ...   QLD  Australia   \n",
       "1      Mass Customer                  N  ...   NSW  Australia   \n",
       "2  Affluent Customer                  N  ...   VIC  Australia   \n",
       "3  Affluent Customer                  N  ...   QLD  Australia   \n",
       "4  Affluent Customer                  N  ...   NSW  Australia   \n",
       "\n",
       "  property_valuation  Unnamed: 16 Unnamed: 17 Unnamed: 18  Unnamed: 19  \\\n",
       "0                  6         0.56      0.7000      0.8750     0.743750   \n",
       "1                 11         0.89      0.8900      1.1125     0.945625   \n",
       "2                  5         1.01      1.0100      1.0100     1.010000   \n",
       "3                  1         0.87      1.0875      1.0875     1.087500   \n",
       "4                  9         0.52      0.5200      0.6500     0.650000   \n",
       "\n",
       "   Unnamed: 20  Rank     Value  \n",
       "0            1     1  1.718750  \n",
       "1            1     1  1.718750  \n",
       "2            1     1  1.718750  \n",
       "3            4     4  1.703125  \n",
       "4            4     4  1.703125  \n",
       "\n",
       "[5 rows x 24 columns]"
      ],
      "text/html": "<div>\n<style scoped>\n    .dataframe tbody tr th:only-of-type {\n        vertical-align: middle;\n    }\n\n    .dataframe tbody tr th {\n        vertical-align: top;\n    }\n\n    .dataframe thead th {\n        text-align: right;\n    }\n</style>\n<table border=\"1\" class=\"dataframe\">\n  <thead>\n    <tr style=\"text-align: right;\">\n      <th></th>\n      <th>first_name</th>\n      <th>last_name</th>\n      <th>gender</th>\n      <th>past_3_years_bike_related_purchases</th>\n      <th>DOB</th>\n      <th>age</th>\n      <th>job_title</th>\n      <th>job_industry_category</th>\n      <th>wealth_segment</th>\n      <th>deceased_indicator</th>\n      <th>...</th>\n      <th>state</th>\n      <th>country</th>\n      <th>property_valuation</th>\n      <th>Unnamed: 16</th>\n      <th>Unnamed: 17</th>\n      <th>Unnamed: 18</th>\n      <th>Unnamed: 19</th>\n      <th>Unnamed: 20</th>\n      <th>Rank</th>\n      <th>Value</th>\n    </tr>\n  </thead>\n  <tbody>\n    <tr>\n      <th>0</th>\n      <td>Chickie</td>\n      <td>Brister</td>\n      <td>Male</td>\n      <td>86</td>\n      <td>1957-07-12</td>\n      <td>63.0</td>\n      <td>General Manager</td>\n      <td>Manufacturing</td>\n      <td>Mass Customer</td>\n      <td>N</td>\n      <td>...</td>\n      <td>QLD</td>\n      <td>Australia</td>\n      <td>6</td>\n      <td>0.56</td>\n      <td>0.7000</td>\n      <td>0.8750</td>\n      <td>0.743750</td>\n      <td>1</td>\n      <td>1</td>\n      <td>1.718750</td>\n    </tr>\n    <tr>\n      <th>1</th>\n      <td>Morly</td>\n      <td>Genery</td>\n      <td>Male</td>\n      <td>69</td>\n      <td>1970-03-22</td>\n      <td>50.0</td>\n      <td>Structural Engineer</td>\n      <td>Property</td>\n      <td>Mass Customer</td>\n      <td>N</td>\n      <td>...</td>\n      <td>NSW</td>\n      <td>Australia</td>\n      <td>11</td>\n      <td>0.89</td>\n      <td>0.8900</td>\n      <td>1.1125</td>\n      <td>0.945625</td>\n      <td>1</td>\n      <td>1</td>\n      <td>1.718750</td>\n    </tr>\n    <tr>\n      <th>2</th>\n      <td>Ardelis</td>\n      <td>Forrester</td>\n      <td>Female</td>\n      <td>10</td>\n      <td>1974-08-28</td>\n      <td>46.0</td>\n      <td>Senior Cost Accountant</td>\n      <td>Financial Services</td>\n      <td>Affluent Customer</td>\n      <td>N</td>\n      <td>...</td>\n      <td>VIC</td>\n      <td>Australia</td>\n      <td>5</td>\n      <td>1.01</td>\n      <td>1.0100</td>\n      <td>1.0100</td>\n      <td>1.010000</td>\n      <td>1</td>\n      <td>1</td>\n      <td>1.718750</td>\n    </tr>\n    <tr>\n      <th>3</th>\n      <td>Lucine</td>\n      <td>Stutt</td>\n      <td>Female</td>\n      <td>64</td>\n      <td>1979-01-28</td>\n      <td>41.0</td>\n      <td>Account Representative III</td>\n      <td>Manufacturing</td>\n      <td>Affluent Customer</td>\n      <td>N</td>\n      <td>...</td>\n      <td>QLD</td>\n      <td>Australia</td>\n      <td>1</td>\n      <td>0.87</td>\n      <td>1.0875</td>\n      <td>1.0875</td>\n      <td>1.087500</td>\n      <td>4</td>\n      <td>4</td>\n      <td>1.703125</td>\n    </tr>\n    <tr>\n      <th>4</th>\n      <td>Melinda</td>\n      <td>Hadlee</td>\n      <td>Female</td>\n      <td>34</td>\n      <td>1965-09-21</td>\n      <td>55.0</td>\n      <td>Financial Analyst</td>\n      <td>Financial Services</td>\n      <td>Affluent Customer</td>\n      <td>N</td>\n      <td>...</td>\n      <td>NSW</td>\n      <td>Australia</td>\n      <td>9</td>\n      <td>0.52</td>\n      <td>0.5200</td>\n      <td>0.6500</td>\n      <td>0.650000</td>\n      <td>4</td>\n      <td>4</td>\n      <td>1.703125</td>\n    </tr>\n  </tbody>\n</table>\n<p>5 rows × 24 columns</p>\n</div>"
     },
     "metadata": {},
     "execution_count": 27
    }
   ],
   "source": [
    "# Display final dataframe\n",
    "new_customer_list_xls.head()"
   ]
  },
  {
   "source": [
    "## Exploratory Data Analysis"
   ],
   "cell_type": "markdown",
   "metadata": {}
  },
  {
   "cell_type": "code",
   "execution_count": 52,
   "metadata": {},
   "outputs": [
    {
     "output_type": "execute_result",
     "data": {
      "text/plain": [
       "       customer_id first_name  last_name  gender  \\\n",
       "0                1    Laraine  Medendorp  Female   \n",
       "1                1    Laraine  Medendorp  Female   \n",
       "2                1    Laraine  Medendorp  Female   \n",
       "3                1    Laraine  Medendorp  Female   \n",
       "4                1    Laraine  Medendorp  Female   \n",
       "...            ...        ...        ...     ...   \n",
       "17023         3496      Danya   Burnyeat    Male   \n",
       "17024         3496      Danya   Burnyeat    Male   \n",
       "17025         3497       Thia      O'Day  Female   \n",
       "17026         3497       Thia      O'Day  Female   \n",
       "17027         3497       Thia      O'Day  Female   \n",
       "\n",
       "       past_3_years_bike_related_purchases        DOB  \\\n",
       "0                                       93 1953-10-12   \n",
       "1                                       93 1953-10-12   \n",
       "2                                       93 1953-10-12   \n",
       "3                                       93 1953-10-12   \n",
       "4                                       93 1953-10-12   \n",
       "...                                    ...        ...   \n",
       "17023                                   99 1986-04-25   \n",
       "17024                                   99 1986-04-25   \n",
       "17025                                   73 1986-05-03   \n",
       "17026                                   73 1986-05-03   \n",
       "17027                                   73 1986-05-03   \n",
       "\n",
       "                         job_title job_industry_category     wealth_segment  \\\n",
       "0              Executive Secretary                Health      Mass Customer   \n",
       "1              Executive Secretary                Health      Mass Customer   \n",
       "2              Executive Secretary                Health      Mass Customer   \n",
       "3              Executive Secretary                Health      Mass Customer   \n",
       "4              Executive Secretary                Health      Mass Customer   \n",
       "...                            ...                   ...                ...   \n",
       "17023                       Editor         Manufacturing      Mass Customer   \n",
       "17024                       Editor         Manufacturing      Mass Customer   \n",
       "17025  Administrative Assistant IV         Manufacturing  Affluent Customer   \n",
       "17026  Administrative Assistant IV         Manufacturing  Affluent Customer   \n",
       "17027  Administrative Assistant IV         Manufacturing  Affluent Customer   \n",
       "\n",
       "      deceased_indicator  ... transaction_date  online_order  order_status  \\\n",
       "0                      N  ...       2017-12-23         False      Approved   \n",
       "1                      N  ...       2017-04-06          True      Approved   \n",
       "2                      N  ...       2017-05-11          True      Approved   \n",
       "3                      N  ...       2017-01-05         False      Approved   \n",
       "4                      N  ...       2017-02-21         False      Approved   \n",
       "...                  ...  ...              ...           ...           ...   \n",
       "17023                  N  ...       2017-03-07         False      Approved   \n",
       "17024                  N  ...       2017-04-02          True      Approved   \n",
       "17025                  N  ...       2017-11-08          True      Approved   \n",
       "17026                  N  ...       2017-09-01          True      Approved   \n",
       "17027                  N  ...       2017-09-12         False      Approved   \n",
       "\n",
       "                brand  product_line product_class  product_size list_price  \\\n",
       "0          OHM Cycles      Standard        medium        medium     235.63   \n",
       "1               Solex      Standard        medium        medium    1577.53   \n",
       "2       Trek Bicycles          Road           low         small    1720.70   \n",
       "3      Norco Bicycles      Standard        medium        medium     360.40   \n",
       "4               Solex      Standard        medium        medium      71.49   \n",
       "...               ...           ...           ...           ...        ...   \n",
       "17023   Trek Bicycles      Mountain           low        medium     574.64   \n",
       "17024  Norco Bicycles      Standard          high         small    1661.92   \n",
       "17025  Giant Bicycles      Standard        medium        medium    1403.50   \n",
       "17026           Solex      Standard        medium        medium     575.27   \n",
       "17027  Giant Bicycles      Standard        medium         large    1765.30   \n",
       "\n",
       "      standard_cost product_first_sold_date  \n",
       "0            125.07                 38482.0  \n",
       "1            826.51                 39526.0  \n",
       "2           1531.42                 37823.0  \n",
       "3            270.30                 37873.0  \n",
       "4             53.62                 38573.0  \n",
       "...             ...                     ...  \n",
       "17023        459.71                 37659.0  \n",
       "17024       1479.11                 40303.0  \n",
       "17025        954.82                 42688.0  \n",
       "17026        431.45                 35160.0  \n",
       "17027        709.48                 38193.0  \n",
       "\n",
       "[17028 rows x 25 columns]"
      ],
      "text/html": "<div>\n<style scoped>\n    .dataframe tbody tr th:only-of-type {\n        vertical-align: middle;\n    }\n\n    .dataframe tbody tr th {\n        vertical-align: top;\n    }\n\n    .dataframe thead th {\n        text-align: right;\n    }\n</style>\n<table border=\"1\" class=\"dataframe\">\n  <thead>\n    <tr style=\"text-align: right;\">\n      <th></th>\n      <th>customer_id</th>\n      <th>first_name</th>\n      <th>last_name</th>\n      <th>gender</th>\n      <th>past_3_years_bike_related_purchases</th>\n      <th>DOB</th>\n      <th>job_title</th>\n      <th>job_industry_category</th>\n      <th>wealth_segment</th>\n      <th>deceased_indicator</th>\n      <th>...</th>\n      <th>transaction_date</th>\n      <th>online_order</th>\n      <th>order_status</th>\n      <th>brand</th>\n      <th>product_line</th>\n      <th>product_class</th>\n      <th>product_size</th>\n      <th>list_price</th>\n      <th>standard_cost</th>\n      <th>product_first_sold_date</th>\n    </tr>\n  </thead>\n  <tbody>\n    <tr>\n      <th>0</th>\n      <td>1</td>\n      <td>Laraine</td>\n      <td>Medendorp</td>\n      <td>Female</td>\n      <td>93</td>\n      <td>1953-10-12</td>\n      <td>Executive Secretary</td>\n      <td>Health</td>\n      <td>Mass Customer</td>\n      <td>N</td>\n      <td>...</td>\n      <td>2017-12-23</td>\n      <td>False</td>\n      <td>Approved</td>\n      <td>OHM Cycles</td>\n      <td>Standard</td>\n      <td>medium</td>\n      <td>medium</td>\n      <td>235.63</td>\n      <td>125.07</td>\n      <td>38482.0</td>\n    </tr>\n    <tr>\n      <th>1</th>\n      <td>1</td>\n      <td>Laraine</td>\n      <td>Medendorp</td>\n      <td>Female</td>\n      <td>93</td>\n      <td>1953-10-12</td>\n      <td>Executive Secretary</td>\n      <td>Health</td>\n      <td>Mass Customer</td>\n      <td>N</td>\n      <td>...</td>\n      <td>2017-04-06</td>\n      <td>True</td>\n      <td>Approved</td>\n      <td>Solex</td>\n      <td>Standard</td>\n      <td>medium</td>\n      <td>medium</td>\n      <td>1577.53</td>\n      <td>826.51</td>\n      <td>39526.0</td>\n    </tr>\n    <tr>\n      <th>2</th>\n      <td>1</td>\n      <td>Laraine</td>\n      <td>Medendorp</td>\n      <td>Female</td>\n      <td>93</td>\n      <td>1953-10-12</td>\n      <td>Executive Secretary</td>\n      <td>Health</td>\n      <td>Mass Customer</td>\n      <td>N</td>\n      <td>...</td>\n      <td>2017-05-11</td>\n      <td>True</td>\n      <td>Approved</td>\n      <td>Trek Bicycles</td>\n      <td>Road</td>\n      <td>low</td>\n      <td>small</td>\n      <td>1720.70</td>\n      <td>1531.42</td>\n      <td>37823.0</td>\n    </tr>\n    <tr>\n      <th>3</th>\n      <td>1</td>\n      <td>Laraine</td>\n      <td>Medendorp</td>\n      <td>Female</td>\n      <td>93</td>\n      <td>1953-10-12</td>\n      <td>Executive Secretary</td>\n      <td>Health</td>\n      <td>Mass Customer</td>\n      <td>N</td>\n      <td>...</td>\n      <td>2017-01-05</td>\n      <td>False</td>\n      <td>Approved</td>\n      <td>Norco Bicycles</td>\n      <td>Standard</td>\n      <td>medium</td>\n      <td>medium</td>\n      <td>360.40</td>\n      <td>270.30</td>\n      <td>37873.0</td>\n    </tr>\n    <tr>\n      <th>4</th>\n      <td>1</td>\n      <td>Laraine</td>\n      <td>Medendorp</td>\n      <td>Female</td>\n      <td>93</td>\n      <td>1953-10-12</td>\n      <td>Executive Secretary</td>\n      <td>Health</td>\n      <td>Mass Customer</td>\n      <td>N</td>\n      <td>...</td>\n      <td>2017-02-21</td>\n      <td>False</td>\n      <td>Approved</td>\n      <td>Solex</td>\n      <td>Standard</td>\n      <td>medium</td>\n      <td>medium</td>\n      <td>71.49</td>\n      <td>53.62</td>\n      <td>38573.0</td>\n    </tr>\n    <tr>\n      <th>...</th>\n      <td>...</td>\n      <td>...</td>\n      <td>...</td>\n      <td>...</td>\n      <td>...</td>\n      <td>...</td>\n      <td>...</td>\n      <td>...</td>\n      <td>...</td>\n      <td>...</td>\n      <td>...</td>\n      <td>...</td>\n      <td>...</td>\n      <td>...</td>\n      <td>...</td>\n      <td>...</td>\n      <td>...</td>\n      <td>...</td>\n      <td>...</td>\n      <td>...</td>\n      <td>...</td>\n    </tr>\n    <tr>\n      <th>17023</th>\n      <td>3496</td>\n      <td>Danya</td>\n      <td>Burnyeat</td>\n      <td>Male</td>\n      <td>99</td>\n      <td>1986-04-25</td>\n      <td>Editor</td>\n      <td>Manufacturing</td>\n      <td>Mass Customer</td>\n      <td>N</td>\n      <td>...</td>\n      <td>2017-03-07</td>\n      <td>False</td>\n      <td>Approved</td>\n      <td>Trek Bicycles</td>\n      <td>Mountain</td>\n      <td>low</td>\n      <td>medium</td>\n      <td>574.64</td>\n      <td>459.71</td>\n      <td>37659.0</td>\n    </tr>\n    <tr>\n      <th>17024</th>\n      <td>3496</td>\n      <td>Danya</td>\n      <td>Burnyeat</td>\n      <td>Male</td>\n      <td>99</td>\n      <td>1986-04-25</td>\n      <td>Editor</td>\n      <td>Manufacturing</td>\n      <td>Mass Customer</td>\n      <td>N</td>\n      <td>...</td>\n      <td>2017-04-02</td>\n      <td>True</td>\n      <td>Approved</td>\n      <td>Norco Bicycles</td>\n      <td>Standard</td>\n      <td>high</td>\n      <td>small</td>\n      <td>1661.92</td>\n      <td>1479.11</td>\n      <td>40303.0</td>\n    </tr>\n    <tr>\n      <th>17025</th>\n      <td>3497</td>\n      <td>Thia</td>\n      <td>O'Day</td>\n      <td>Female</td>\n      <td>73</td>\n      <td>1986-05-03</td>\n      <td>Administrative Assistant IV</td>\n      <td>Manufacturing</td>\n      <td>Affluent Customer</td>\n      <td>N</td>\n      <td>...</td>\n      <td>2017-11-08</td>\n      <td>True</td>\n      <td>Approved</td>\n      <td>Giant Bicycles</td>\n      <td>Standard</td>\n      <td>medium</td>\n      <td>medium</td>\n      <td>1403.50</td>\n      <td>954.82</td>\n      <td>42688.0</td>\n    </tr>\n    <tr>\n      <th>17026</th>\n      <td>3497</td>\n      <td>Thia</td>\n      <td>O'Day</td>\n      <td>Female</td>\n      <td>73</td>\n      <td>1986-05-03</td>\n      <td>Administrative Assistant IV</td>\n      <td>Manufacturing</td>\n      <td>Affluent Customer</td>\n      <td>N</td>\n      <td>...</td>\n      <td>2017-09-01</td>\n      <td>True</td>\n      <td>Approved</td>\n      <td>Solex</td>\n      <td>Standard</td>\n      <td>medium</td>\n      <td>medium</td>\n      <td>575.27</td>\n      <td>431.45</td>\n      <td>35160.0</td>\n    </tr>\n    <tr>\n      <th>17027</th>\n      <td>3497</td>\n      <td>Thia</td>\n      <td>O'Day</td>\n      <td>Female</td>\n      <td>73</td>\n      <td>1986-05-03</td>\n      <td>Administrative Assistant IV</td>\n      <td>Manufacturing</td>\n      <td>Affluent Customer</td>\n      <td>N</td>\n      <td>...</td>\n      <td>2017-09-12</td>\n      <td>False</td>\n      <td>Approved</td>\n      <td>Giant Bicycles</td>\n      <td>Standard</td>\n      <td>medium</td>\n      <td>large</td>\n      <td>1765.30</td>\n      <td>709.48</td>\n      <td>38193.0</td>\n    </tr>\n  </tbody>\n</table>\n<p>17028 rows × 25 columns</p>\n</div>"
     },
     "metadata": {},
     "execution_count": 52
    }
   ],
   "source": [
    "# Merge customer demographics and transactions dataframes\n",
    "merged_transactions_demographics = pd.merge(cleaned_customer_demographic_xls, cleaned_transactions_xls, on=\"customer_id\", how=\"inner\")\n",
    "merged_transactions_demographics"
   ]
  },
  {
   "cell_type": "code",
   "execution_count": 53,
   "metadata": {},
   "outputs": [
    {
     "output_type": "execute_result",
     "data": {
      "text/plain": [
       "customer_id                            17028\n",
       "first_name                             17028\n",
       "last_name                              16490\n",
       "gender                                 17028\n",
       "past_3_years_bike_related_purchases    17028\n",
       "DOB                                    17028\n",
       "job_title                              17028\n",
       "job_industry_category                  14315\n",
       "wealth_segment                         17028\n",
       "deceased_indicator                     17028\n",
       "owns_car                               17028\n",
       "tenure                                 17028\n",
       "age                                    17028\n",
       "transaction_id                         17028\n",
       "product_id                             17028\n",
       "transaction_date                       17028\n",
       "online_order                           17028\n",
       "order_status                           17028\n",
       "brand                                  17028\n",
       "product_line                           17028\n",
       "product_class                          17028\n",
       "product_size                           17028\n",
       "list_price                             17028\n",
       "standard_cost                          17028\n",
       "product_first_sold_date                17028\n",
       "dtype: int64"
      ]
     },
     "metadata": {},
     "execution_count": 53
    }
   ],
   "source": [
    "merged_transactions_demographics.count()"
   ]
  },
  {
   "cell_type": "code",
   "execution_count": 54,
   "metadata": {},
   "outputs": [
    {
     "output_type": "execute_result",
     "data": {
      "text/plain": [
       "       customer_id                   address  postcode state    country  \\\n",
       "0                1        060 Morning Avenue      2016   NSW  Australia   \n",
       "1                1        060 Morning Avenue      2016   NSW  Australia   \n",
       "2                1        060 Morning Avenue      2016   NSW  Australia   \n",
       "3                1        060 Morning Avenue      2016   NSW  Australia   \n",
       "4                1        060 Morning Avenue      2016   NSW  Australia   \n",
       "...            ...                       ...       ...   ...        ...   \n",
       "19768         3500  9491 Green Ridge Terrace      2100   NSW  Australia   \n",
       "19769         3500  9491 Green Ridge Terrace      2100   NSW  Australia   \n",
       "19770         3500  9491 Green Ridge Terrace      2100   NSW  Australia   \n",
       "19771         3500  9491 Green Ridge Terrace      2100   NSW  Australia   \n",
       "19772         3500  9491 Green Ridge Terrace      2100   NSW  Australia   \n",
       "\n",
       "       property_valuation  transaction_id  product_id transaction_date  \\\n",
       "0                      10              94          86       2017-12-23   \n",
       "1                      10            3765          38       2017-04-06   \n",
       "2                      10            5157          47       2017-05-11   \n",
       "3                      10            9785          72       2017-01-05   \n",
       "4                      10           13424           2       2017-02-21   \n",
       "...                   ...             ...         ...              ...   \n",
       "19768                  10            6309          69       2017-01-09   \n",
       "19769                  10            8416          74       2017-02-16   \n",
       "19770                  10            8562          33       2017-08-08   \n",
       "19771                  10           14870          22       2017-01-11   \n",
       "19772                  10           19836          40       2017-03-14   \n",
       "\n",
       "       online_order order_status           brand product_line product_class  \\\n",
       "0             False     Approved      OHM Cycles     Standard        medium   \n",
       "1              True     Approved           Solex     Standard        medium   \n",
       "2              True     Approved   Trek Bicycles         Road           low   \n",
       "3             False     Approved  Norco Bicycles     Standard        medium   \n",
       "4             False     Approved           Solex     Standard        medium   \n",
       "...             ...          ...             ...          ...           ...   \n",
       "19768          True     Approved  Giant Bicycles         Road        medium   \n",
       "19769         False     Approved        WeareA2B     Standard        medium   \n",
       "19770         False     Approved  Giant Bicycles     Standard        medium   \n",
       "19771         False     Approved        WeareA2B     Standard        medium   \n",
       "19772          True     Approved      OHM Cycles     Standard          high   \n",
       "\n",
       "      product_size  list_price  standard_cost  product_first_sold_date  \n",
       "0           medium      235.63         125.07                  38482.0  \n",
       "1           medium     1577.53         826.51                  39526.0  \n",
       "2            small     1720.70        1531.42                  37823.0  \n",
       "3           medium      360.40         270.30                  37873.0  \n",
       "4           medium       71.49          53.62                  38573.0  \n",
       "...            ...         ...            ...                      ...  \n",
       "19768       medium      792.90         594.68                  33879.0  \n",
       "19769       medium     1228.07         400.91                  36668.0  \n",
       "19770        small     1311.44        1167.18                  33888.0  \n",
       "19771       medium       60.34          45.26                  34165.0  \n",
       "19772       medium     1458.17         874.90                  38750.0  \n",
       "\n",
       "[19773 rows x 18 columns]"
      ],
      "text/html": "<div>\n<style scoped>\n    .dataframe tbody tr th:only-of-type {\n        vertical-align: middle;\n    }\n\n    .dataframe tbody tr th {\n        vertical-align: top;\n    }\n\n    .dataframe thead th {\n        text-align: right;\n    }\n</style>\n<table border=\"1\" class=\"dataframe\">\n  <thead>\n    <tr style=\"text-align: right;\">\n      <th></th>\n      <th>customer_id</th>\n      <th>address</th>\n      <th>postcode</th>\n      <th>state</th>\n      <th>country</th>\n      <th>property_valuation</th>\n      <th>transaction_id</th>\n      <th>product_id</th>\n      <th>transaction_date</th>\n      <th>online_order</th>\n      <th>order_status</th>\n      <th>brand</th>\n      <th>product_line</th>\n      <th>product_class</th>\n      <th>product_size</th>\n      <th>list_price</th>\n      <th>standard_cost</th>\n      <th>product_first_sold_date</th>\n    </tr>\n  </thead>\n  <tbody>\n    <tr>\n      <th>0</th>\n      <td>1</td>\n      <td>060 Morning Avenue</td>\n      <td>2016</td>\n      <td>NSW</td>\n      <td>Australia</td>\n      <td>10</td>\n      <td>94</td>\n      <td>86</td>\n      <td>2017-12-23</td>\n      <td>False</td>\n      <td>Approved</td>\n      <td>OHM Cycles</td>\n      <td>Standard</td>\n      <td>medium</td>\n      <td>medium</td>\n      <td>235.63</td>\n      <td>125.07</td>\n      <td>38482.0</td>\n    </tr>\n    <tr>\n      <th>1</th>\n      <td>1</td>\n      <td>060 Morning Avenue</td>\n      <td>2016</td>\n      <td>NSW</td>\n      <td>Australia</td>\n      <td>10</td>\n      <td>3765</td>\n      <td>38</td>\n      <td>2017-04-06</td>\n      <td>True</td>\n      <td>Approved</td>\n      <td>Solex</td>\n      <td>Standard</td>\n      <td>medium</td>\n      <td>medium</td>\n      <td>1577.53</td>\n      <td>826.51</td>\n      <td>39526.0</td>\n    </tr>\n    <tr>\n      <th>2</th>\n      <td>1</td>\n      <td>060 Morning Avenue</td>\n      <td>2016</td>\n      <td>NSW</td>\n      <td>Australia</td>\n      <td>10</td>\n      <td>5157</td>\n      <td>47</td>\n      <td>2017-05-11</td>\n      <td>True</td>\n      <td>Approved</td>\n      <td>Trek Bicycles</td>\n      <td>Road</td>\n      <td>low</td>\n      <td>small</td>\n      <td>1720.70</td>\n      <td>1531.42</td>\n      <td>37823.0</td>\n    </tr>\n    <tr>\n      <th>3</th>\n      <td>1</td>\n      <td>060 Morning Avenue</td>\n      <td>2016</td>\n      <td>NSW</td>\n      <td>Australia</td>\n      <td>10</td>\n      <td>9785</td>\n      <td>72</td>\n      <td>2017-01-05</td>\n      <td>False</td>\n      <td>Approved</td>\n      <td>Norco Bicycles</td>\n      <td>Standard</td>\n      <td>medium</td>\n      <td>medium</td>\n      <td>360.40</td>\n      <td>270.30</td>\n      <td>37873.0</td>\n    </tr>\n    <tr>\n      <th>4</th>\n      <td>1</td>\n      <td>060 Morning Avenue</td>\n      <td>2016</td>\n      <td>NSW</td>\n      <td>Australia</td>\n      <td>10</td>\n      <td>13424</td>\n      <td>2</td>\n      <td>2017-02-21</td>\n      <td>False</td>\n      <td>Approved</td>\n      <td>Solex</td>\n      <td>Standard</td>\n      <td>medium</td>\n      <td>medium</td>\n      <td>71.49</td>\n      <td>53.62</td>\n      <td>38573.0</td>\n    </tr>\n    <tr>\n      <th>...</th>\n      <td>...</td>\n      <td>...</td>\n      <td>...</td>\n      <td>...</td>\n      <td>...</td>\n      <td>...</td>\n      <td>...</td>\n      <td>...</td>\n      <td>...</td>\n      <td>...</td>\n      <td>...</td>\n      <td>...</td>\n      <td>...</td>\n      <td>...</td>\n      <td>...</td>\n      <td>...</td>\n      <td>...</td>\n      <td>...</td>\n    </tr>\n    <tr>\n      <th>19768</th>\n      <td>3500</td>\n      <td>9491 Green Ridge Terrace</td>\n      <td>2100</td>\n      <td>NSW</td>\n      <td>Australia</td>\n      <td>10</td>\n      <td>6309</td>\n      <td>69</td>\n      <td>2017-01-09</td>\n      <td>True</td>\n      <td>Approved</td>\n      <td>Giant Bicycles</td>\n      <td>Road</td>\n      <td>medium</td>\n      <td>medium</td>\n      <td>792.90</td>\n      <td>594.68</td>\n      <td>33879.0</td>\n    </tr>\n    <tr>\n      <th>19769</th>\n      <td>3500</td>\n      <td>9491 Green Ridge Terrace</td>\n      <td>2100</td>\n      <td>NSW</td>\n      <td>Australia</td>\n      <td>10</td>\n      <td>8416</td>\n      <td>74</td>\n      <td>2017-02-16</td>\n      <td>False</td>\n      <td>Approved</td>\n      <td>WeareA2B</td>\n      <td>Standard</td>\n      <td>medium</td>\n      <td>medium</td>\n      <td>1228.07</td>\n      <td>400.91</td>\n      <td>36668.0</td>\n    </tr>\n    <tr>\n      <th>19770</th>\n      <td>3500</td>\n      <td>9491 Green Ridge Terrace</td>\n      <td>2100</td>\n      <td>NSW</td>\n      <td>Australia</td>\n      <td>10</td>\n      <td>8562</td>\n      <td>33</td>\n      <td>2017-08-08</td>\n      <td>False</td>\n      <td>Approved</td>\n      <td>Giant Bicycles</td>\n      <td>Standard</td>\n      <td>medium</td>\n      <td>small</td>\n      <td>1311.44</td>\n      <td>1167.18</td>\n      <td>33888.0</td>\n    </tr>\n    <tr>\n      <th>19771</th>\n      <td>3500</td>\n      <td>9491 Green Ridge Terrace</td>\n      <td>2100</td>\n      <td>NSW</td>\n      <td>Australia</td>\n      <td>10</td>\n      <td>14870</td>\n      <td>22</td>\n      <td>2017-01-11</td>\n      <td>False</td>\n      <td>Approved</td>\n      <td>WeareA2B</td>\n      <td>Standard</td>\n      <td>medium</td>\n      <td>medium</td>\n      <td>60.34</td>\n      <td>45.26</td>\n      <td>34165.0</td>\n    </tr>\n    <tr>\n      <th>19772</th>\n      <td>3500</td>\n      <td>9491 Green Ridge Terrace</td>\n      <td>2100</td>\n      <td>NSW</td>\n      <td>Australia</td>\n      <td>10</td>\n      <td>19836</td>\n      <td>40</td>\n      <td>2017-03-14</td>\n      <td>True</td>\n      <td>Approved</td>\n      <td>OHM Cycles</td>\n      <td>Standard</td>\n      <td>high</td>\n      <td>medium</td>\n      <td>1458.17</td>\n      <td>874.90</td>\n      <td>38750.0</td>\n    </tr>\n  </tbody>\n</table>\n<p>19773 rows × 18 columns</p>\n</div>"
     },
     "metadata": {},
     "execution_count": 54
    }
   ],
   "source": [
    "# Merge customer address and transactions dataframes\n",
    "merged_transactions_address = pd.merge(cleaned_customer_address_xls, cleaned_transactions_xls, on=\"customer_id\", how=\"inner\")\n",
    "merged_transactions_address"
   ]
  },
  {
   "cell_type": "code",
   "execution_count": 55,
   "metadata": {},
   "outputs": [
    {
     "output_type": "execute_result",
     "data": {
      "text/plain": [
       "customer_id                19773\n",
       "address                    19773\n",
       "postcode                   19773\n",
       "state                      19773\n",
       "country                    19773\n",
       "property_valuation         19773\n",
       "transaction_id             19773\n",
       "product_id                 19773\n",
       "transaction_date           19773\n",
       "online_order               19773\n",
       "order_status               19773\n",
       "brand                      19773\n",
       "product_line               19773\n",
       "product_class              19773\n",
       "product_size               19773\n",
       "list_price                 19773\n",
       "standard_cost              19773\n",
       "product_first_sold_date    19773\n",
       "dtype: int64"
      ]
     },
     "metadata": {},
     "execution_count": 55
    }
   ],
   "source": [
    "merged_transactions_address.count()"
   ]
  },
  {
   "source": [
    "### Exploring demographic data\n",
    "gender vs transactions count - bar chart\n",
    "\n",
    "age vs transactions count - bin age into age ranges before visualising - bar chart\n",
    "\n",
    "job industry category vs transactions count - pie chart (categorical data)\n",
    "\n",
    "wealth segment vs transactions count - bar chart\n",
    "\n",
    "owns car vs transactions count - pie chart"
   ],
   "cell_type": "markdown",
   "metadata": {}
  },
  {
   "source": [
    "### Exploring address data\n",
    "state vs transactions count - pie chart\n",
    "\n",
    "property valuation vs transactions count - scatter plot\n",
    "\n",
    "online order vs transactions count - pie chart"
   ],
   "cell_type": "markdown",
   "metadata": {}
  },
  {
   "cell_type": "code",
   "execution_count": null,
   "metadata": {},
   "outputs": [],
   "source": []
  }
 ]
}
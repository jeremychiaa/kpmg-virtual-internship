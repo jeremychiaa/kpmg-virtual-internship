{
 "metadata": {
  "language_info": {
   "codemirror_mode": {
    "name": "ipython",
    "version": 3
   },
   "file_extension": ".py",
   "mimetype": "text/x-python",
   "name": "python",
   "nbconvert_exporter": "python",
   "pygments_lexer": "ipython3",
   "version": "3.6.10-final"
  },
  "orig_nbformat": 2,
  "kernelspec": {
   "name": "Python 3.6.10 64-bit ('PythonData': conda)",
   "display_name": "Python 3.6.10 64-bit ('PythonData': conda)",
   "metadata": {
    "interpreter": {
     "hash": "4511098e18df60c01b7d3969427a2c87e82d8a62973ae543cdaefaf6447f8e43"
    }
   }
  }
 },
 "nbformat": 4,
 "nbformat_minor": 2,
 "cells": [
  {
   "cell_type": "code",
   "execution_count": 1,
   "metadata": {},
   "outputs": [],
   "source": [
    "# Import dependencies\n",
    "from datetime import datetime\n",
    "from datetime import date\n",
    "import pandas as pd\n",
    "import numpy as np\n",
    "import matplotlib.pyplot as plt"
   ]
  },
  {
   "cell_type": "code",
   "execution_count": 2,
   "metadata": {},
   "outputs": [],
   "source": [
    "# Read into excel file\n",
    "xls = pd.ExcelFile(\"./Resources/KPMG_VI_New_raw_data_update_final.xlsx\")\n",
    "transactions_xls = pd.read_excel(xls, \"Transactions\")\n",
    "new_customer_list_xls = pd.read_excel(xls, \"NewCustomerList\")\n",
    "customer_demographic_xls = pd.read_excel(xls, \"CustomerDemographic\")\n",
    "customer_address_xls = pd.read_excel(xls, \"CustomerAddress\")"
   ]
  },
  {
   "cell_type": "code",
   "execution_count": 5,
   "metadata": {},
   "outputs": [
    {
     "output_type": "execute_result",
     "data": {
      "text/plain": "0    customer_id      first_name  last_name  gender  \\\n1              1         Laraine  Medendorp       F   \n2              2             Eli    Bockman    Male   \n3              3           Arlin     Dearle    Male   \n4              4          Talbot        NaN    Male   \n5              5  Sheila-kathryn     Calton  Female   \n...          ...             ...        ...     ...   \n3996        3996         Rosalia   Halgarth  Female   \n3997        3997          Blanch     Nisuis  Female   \n3998        3998          Sarene    Woolley       U   \n3999        3999       Patrizius        NaN    Male   \n4000        4000           Kippy    Oldland    Male   \n\n0    past_3_years_bike_related_purchases                  DOB  \\\n1                                     93  1953-10-12 00:00:00   \n2                                     81  1980-12-16 00:00:00   \n3                                     61  1954-01-20 00:00:00   \n4                                     33  1961-10-03 00:00:00   \n5                                     56  1977-05-13 00:00:00   \n...                                  ...                  ...   \n3996                                   8  1975-08-09 00:00:00   \n3997                                  87  2001-07-13 00:00:00   \n3998                                  60                  NaN   \n3999                                  11  1973-10-24 00:00:00   \n4000                                  76  1991-11-05 00:00:00   \n\n0                  job_title job_industry_category     wealth_segment  \\\n1        Executive Secretary                Health      Mass Customer   \n2     Administrative Officer    Financial Services      Mass Customer   \n3         Recruiting Manager              Property      Mass Customer   \n4                        NaN                    IT      Mass Customer   \n5              Senior Editor                   NaN  Affluent Customer   \n...                      ...                   ...                ...   \n3996   VP Product Management                Health      Mass Customer   \n3997         Statistician II         Manufacturing     High Net Worth   \n3998       Assistant Manager                    IT     High Net Worth   \n3999                     NaN         Manufacturing  Affluent Customer   \n4000    Software Engineer IV                   NaN  Affluent Customer   \n\n0    deceased_indicator                                            default  \\\n1                     N                                                 &quot;&#39;   \n2                     N                       &lt;script&gt;alert(&#39;hi&#39;)&lt;/script&gt;   \n3                     N                                2018-02-01 00:00:00   \n4                     N  () { _; } &gt;_[$($())] { touch /tmp/blns.shellsh...   \n5                     N                                                NIL   \n...                 ...                                                ...   \n3996                  N                                               -100   \n3997                  N                                           â¦testâ§   \n3998                  N                                                NaN   \n3999                  N                             Â¡â¢Â£Â¢âÂ§Â¶â¢ÂªÂºââ    \n4000                  N                                                0/0   \n\n0    owns_car tenure  \n1         Yes     11  \n2         Yes     16  \n3         Yes     15  \n4          No      7  \n5         Yes      8  \n...       ...    ...  \n3996       No     19  \n3997      Yes      1  \n3998       No    NaN  \n3999      Yes     10  \n4000       No     11  \n\n[4000 rows x 13 columns]",
      "text/html": "<div>\n<style scoped>\n    .dataframe tbody tr th:only-of-type {\n        vertical-align: middle;\n    }\n\n    .dataframe tbody tr th {\n        vertical-align: top;\n    }\n\n    .dataframe thead th {\n        text-align: right;\n    }\n</style>\n<table border=\"1\" class=\"dataframe\">\n  <thead>\n    <tr style=\"text-align: right;\">\n      <th></th>\n      <th>customer_id</th>\n      <th>first_name</th>\n      <th>last_name</th>\n      <th>gender</th>\n      <th>past_3_years_bike_related_purchases</th>\n      <th>DOB</th>\n      <th>job_title</th>\n      <th>job_industry_category</th>\n      <th>wealth_segment</th>\n      <th>deceased_indicator</th>\n      <th>default</th>\n      <th>owns_car</th>\n      <th>tenure</th>\n    </tr>\n  </thead>\n  <tbody>\n    <tr>\n      <th>1</th>\n      <td>1</td>\n      <td>Laraine</td>\n      <td>Medendorp</td>\n      <td>F</td>\n      <td>93</td>\n      <td>1953-10-12 00:00:00</td>\n      <td>Executive Secretary</td>\n      <td>Health</td>\n      <td>Mass Customer</td>\n      <td>N</td>\n      <td>\"'</td>\n      <td>Yes</td>\n      <td>11</td>\n    </tr>\n    <tr>\n      <th>2</th>\n      <td>2</td>\n      <td>Eli</td>\n      <td>Bockman</td>\n      <td>Male</td>\n      <td>81</td>\n      <td>1980-12-16 00:00:00</td>\n      <td>Administrative Officer</td>\n      <td>Financial Services</td>\n      <td>Mass Customer</td>\n      <td>N</td>\n      <td>&lt;script&gt;alert('hi')&lt;/script&gt;</td>\n      <td>Yes</td>\n      <td>16</td>\n    </tr>\n    <tr>\n      <th>3</th>\n      <td>3</td>\n      <td>Arlin</td>\n      <td>Dearle</td>\n      <td>Male</td>\n      <td>61</td>\n      <td>1954-01-20 00:00:00</td>\n      <td>Recruiting Manager</td>\n      <td>Property</td>\n      <td>Mass Customer</td>\n      <td>N</td>\n      <td>2018-02-01 00:00:00</td>\n      <td>Yes</td>\n      <td>15</td>\n    </tr>\n    <tr>\n      <th>4</th>\n      <td>4</td>\n      <td>Talbot</td>\n      <td>NaN</td>\n      <td>Male</td>\n      <td>33</td>\n      <td>1961-10-03 00:00:00</td>\n      <td>NaN</td>\n      <td>IT</td>\n      <td>Mass Customer</td>\n      <td>N</td>\n      <td>() { _; } &gt;_[$($())] { touch /tmp/blns.shellsh...</td>\n      <td>No</td>\n      <td>7</td>\n    </tr>\n    <tr>\n      <th>5</th>\n      <td>5</td>\n      <td>Sheila-kathryn</td>\n      <td>Calton</td>\n      <td>Female</td>\n      <td>56</td>\n      <td>1977-05-13 00:00:00</td>\n      <td>Senior Editor</td>\n      <td>NaN</td>\n      <td>Affluent Customer</td>\n      <td>N</td>\n      <td>NIL</td>\n      <td>Yes</td>\n      <td>8</td>\n    </tr>\n    <tr>\n      <th>...</th>\n      <td>...</td>\n      <td>...</td>\n      <td>...</td>\n      <td>...</td>\n      <td>...</td>\n      <td>...</td>\n      <td>...</td>\n      <td>...</td>\n      <td>...</td>\n      <td>...</td>\n      <td>...</td>\n      <td>...</td>\n      <td>...</td>\n    </tr>\n    <tr>\n      <th>3996</th>\n      <td>3996</td>\n      <td>Rosalia</td>\n      <td>Halgarth</td>\n      <td>Female</td>\n      <td>8</td>\n      <td>1975-08-09 00:00:00</td>\n      <td>VP Product Management</td>\n      <td>Health</td>\n      <td>Mass Customer</td>\n      <td>N</td>\n      <td>-100</td>\n      <td>No</td>\n      <td>19</td>\n    </tr>\n    <tr>\n      <th>3997</th>\n      <td>3997</td>\n      <td>Blanch</td>\n      <td>Nisuis</td>\n      <td>Female</td>\n      <td>87</td>\n      <td>2001-07-13 00:00:00</td>\n      <td>Statistician II</td>\n      <td>Manufacturing</td>\n      <td>High Net Worth</td>\n      <td>N</td>\n      <td>â¦testâ§</td>\n      <td>Yes</td>\n      <td>1</td>\n    </tr>\n    <tr>\n      <th>3998</th>\n      <td>3998</td>\n      <td>Sarene</td>\n      <td>Woolley</td>\n      <td>U</td>\n      <td>60</td>\n      <td>NaN</td>\n      <td>Assistant Manager</td>\n      <td>IT</td>\n      <td>High Net Worth</td>\n      <td>N</td>\n      <td>NaN</td>\n      <td>No</td>\n      <td>NaN</td>\n    </tr>\n    <tr>\n      <th>3999</th>\n      <td>3999</td>\n      <td>Patrizius</td>\n      <td>NaN</td>\n      <td>Male</td>\n      <td>11</td>\n      <td>1973-10-24 00:00:00</td>\n      <td>NaN</td>\n      <td>Manufacturing</td>\n      <td>Affluent Customer</td>\n      <td>N</td>\n      <td>Â¡â¢Â£Â¢âÂ§Â¶â¢ÂªÂºââ</td>\n      <td>Yes</td>\n      <td>10</td>\n    </tr>\n    <tr>\n      <th>4000</th>\n      <td>4000</td>\n      <td>Kippy</td>\n      <td>Oldland</td>\n      <td>Male</td>\n      <td>76</td>\n      <td>1991-11-05 00:00:00</td>\n      <td>Software Engineer IV</td>\n      <td>NaN</td>\n      <td>Affluent Customer</td>\n      <td>N</td>\n      <td>0/0</td>\n      <td>No</td>\n      <td>11</td>\n    </tr>\n  </tbody>\n</table>\n<p>4000 rows × 13 columns</p>\n</div>"
     },
     "metadata": {},
     "execution_count": 5
    }
   ],
   "source": [
    "# Set first row as header\n",
    "customer_demographic_xls.columns = customer_demographic_xls.iloc[0]\n",
    "\n",
    "# Drop unwanted row\n",
    "customer_demographic_xls = customer_demographic_xls.drop(0)\n",
    "\n",
    "# Set customer_id as index\n",
    "#customer_demographic_xls = customer_demographic_xls.set_index(\"customer_id\")\n",
    "\n",
    "# View customer demographic dataframe\n",
    "customer_demographic_xls"
   ]
  },
  {
   "cell_type": "code",
   "execution_count": null,
   "metadata": {},
   "outputs": [],
   "source": [
    "# Check for null values\n",
    "customer_demographic_xls.count()"
   ]
  },
  {
   "cell_type": "code",
   "execution_count": null,
   "metadata": {},
   "outputs": [],
   "source": [
    "# Drop null values\n",
    "customer_demographic_xls = customer_demographic_xls.dropna()"
   ]
  },
  {
   "cell_type": "code",
   "execution_count": null,
   "metadata": {},
   "outputs": [],
   "source": [
    "customer_demographic_xls.count()"
   ]
  },
  {
   "cell_type": "code",
   "execution_count": null,
   "metadata": {},
   "outputs": [],
   "source": [
    "customer_demographic_xls = customer_demographic_xls.reset_index()"
   ]
  },
  {
   "cell_type": "code",
   "execution_count": null,
   "metadata": {},
   "outputs": [],
   "source": [
    "customer_demographic_xls"
   ]
  },
  {
   "cell_type": "code",
   "execution_count": null,
   "metadata": {},
   "outputs": [],
   "source": [
    "customer_demographic_xls[\"gender\"].value_counts()"
   ]
  },
  {
   "cell_type": "code",
   "execution_count": null,
   "metadata": {},
   "outputs": [],
   "source": [
    "# Replace \"Femal\" and \"F\" with \"Female\" for value consistency\n",
    "customer_demographic_xls[\"gender\"] = customer_demographic_xls[\"gender\"].replace([\"F\", \"Femal\"], \"Female\")"
   ]
  },
  {
   "cell_type": "code",
   "execution_count": null,
   "metadata": {},
   "outputs": [],
   "source": [
    "customer_demographic_xls[\"gender\"].value_counts()"
   ]
  },
  {
   "cell_type": "code",
   "execution_count": null,
   "metadata": {},
   "outputs": [],
   "source": [
    "customer_demographic_xls.drop(columns=\"default\")"
   ]
  },
  {
   "cell_type": "code",
   "execution_count": null,
   "metadata": {},
   "outputs": [],
   "source": [
    "# Adding an age column to know each customer's ages\n",
    "def calculate_age(born):\n",
    "    born = datetime.strptime(born, \"%Y.%m.%d\").date()\n",
    "    today = date.today()\n",
    "    return today.year - born.year - ((today.month, today.day) -  (born.month, born.day))\n",
    "\n",
    "customer_demographic_xls[\"age\"] = customer_demographic_xls[\"DOB\"].apply(calculate_age)"
   ]
  },
  {
   "cell_type": "code",
   "execution_count": null,
   "metadata": {},
   "outputs": [],
   "source": []
  }
 ]
}
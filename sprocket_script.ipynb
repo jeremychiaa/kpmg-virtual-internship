{
 "metadata": {
  "language_info": {
   "codemirror_mode": {
    "name": "ipython",
    "version": 3
   },
   "file_extension": ".py",
   "mimetype": "text/x-python",
   "name": "python",
   "nbconvert_exporter": "python",
   "pygments_lexer": "ipython3",
   "version": "3.6.10-final"
  },
  "orig_nbformat": 2,
  "kernelspec": {
   "name": "Python 3.6.10 64-bit ('PythonData': conda)",
   "display_name": "Python 3.6.10 64-bit ('PythonData': conda)",
   "metadata": {
    "interpreter": {
     "hash": "4511098e18df60c01b7d3969427a2c87e82d8a62973ae543cdaefaf6447f8e43"
    }
   }
  }
 },
 "nbformat": 4,
 "nbformat_minor": 2,
 "cells": [
  {
   "cell_type": "code",
   "execution_count": 6,
   "metadata": {},
   "outputs": [],
   "source": [
    "# Import dependencies\n",
    "from datetime import datetime\n",
    "from datetime import date\n",
    "import pandas as pd\n",
    "import numpy as np\n",
    "import matplotlib.pyplot as plt\n",
    "import seaborn as sns"
   ]
  },
  {
   "cell_type": "code",
   "execution_count": 15,
   "metadata": {},
   "outputs": [],
   "source": [
    "# Read into excel file\n",
    "xls = pd.ExcelFile(\"./Resources/KPMG_VI_New_raw_data_update_final.xlsx\")\n",
    "transactions_xls = pd.read_excel(xls, \"Transactions\", header=1)\n",
    "new_customer_list_xls = pd.read_excel(xls, \"NewCustomerList\", header=1)\n",
    "customer_demographic_xls = pd.read_excel(xls, \"CustomerDemographic\", header=1)\n",
    "customer_address_xls = pd.read_excel(xls, \"CustomerAddress\", header=1)"
   ]
  },
  {
   "cell_type": "code",
   "execution_count": 27,
   "metadata": {},
   "outputs": [],
   "source": [
    "# Create function to drop all customer_ids above 3500\n",
    "def consistent_id(excel_sheet):\n",
    "    excel_sheet = excel_sheet.loc[excel_sheet[\"customer_id\"] <= 3500]\n",
    "    return excel_sheet"
   ]
  },
  {
   "cell_type": "code",
   "execution_count": 28,
   "metadata": {},
   "outputs": [
    {
     "output_type": "execute_result",
     "data": {
      "text/plain": "      transaction_id  product_id customer_id transaction_date  online_order  \\\n0                  1           2           1       2017-02-25           0.0   \n1                  2           3           2       2017-05-21           1.0   \n2                  3          37           3       2017-10-16           0.0   \n3                  4          88           4       2017-08-31           0.0   \n4                  5          78           5       2017-10-01           1.0   \n...              ...         ...         ...              ...           ...   \n3495            3496          34        3496       2017-09-08           1.0   \n3496            3497          12        3497       2017-08-16           0.0   \n3497            3498          19        3498       2017-07-22           1.0   \n3498            3499          62        3499       2017-09-02           0.0   \n3499            3500          54        3500       2017-12-05           0.0   \n\n     order_status           brand product_line product_class product_size  \\\n0        Approved           Solex     Standard        medium       medium   \n1        Approved   Trek Bicycles     Standard        medium        large   \n2        Approved      OHM Cycles     Standard           low       medium   \n3        Approved  Norco Bicycles     Standard        medium       medium   \n4        Approved  Giant Bicycles     Standard        medium        large   \n...           ...             ...          ...           ...          ...   \n3495     Approved        WeareA2B     Standard        medium       medium   \n3496     Approved        WeareA2B     Standard        medium       medium   \n3497     Approved      OHM Cycles         Road          high        large   \n3498     Approved           Solex     Standard        medium       medium   \n3499     Approved        WeareA2B     Standard        medium       medium   \n\n      list_price  standard_cost  product_first_sold_date  \n0          71.49          53.62                  41245.0  \n1        2091.47         388.92                  41701.0  \n2        1793.43         248.82                  36361.0  \n3        1198.46         381.10                  36145.0  \n4        1765.30         709.48                  42226.0  \n...          ...            ...                      ...  \n3495     1231.15         161.60                  35378.0  \n3496     1231.15         161.60                  38216.0  \n3497       12.01           7.21                  34115.0  \n3498      478.16         298.72                  34143.0  \n3499     1292.84          13.44                  39915.0  \n\n[3500 rows x 13 columns]",
      "text/html": "<div>\n<style scoped>\n    .dataframe tbody tr th:only-of-type {\n        vertical-align: middle;\n    }\n\n    .dataframe tbody tr th {\n        vertical-align: top;\n    }\n\n    .dataframe thead th {\n        text-align: right;\n    }\n</style>\n<table border=\"1\" class=\"dataframe\">\n  <thead>\n    <tr style=\"text-align: right;\">\n      <th></th>\n      <th>transaction_id</th>\n      <th>product_id</th>\n      <th>customer_id</th>\n      <th>transaction_date</th>\n      <th>online_order</th>\n      <th>order_status</th>\n      <th>brand</th>\n      <th>product_line</th>\n      <th>product_class</th>\n      <th>product_size</th>\n      <th>list_price</th>\n      <th>standard_cost</th>\n      <th>product_first_sold_date</th>\n    </tr>\n  </thead>\n  <tbody>\n    <tr>\n      <th>0</th>\n      <td>1</td>\n      <td>2</td>\n      <td>1</td>\n      <td>2017-02-25</td>\n      <td>0.0</td>\n      <td>Approved</td>\n      <td>Solex</td>\n      <td>Standard</td>\n      <td>medium</td>\n      <td>medium</td>\n      <td>71.49</td>\n      <td>53.62</td>\n      <td>41245.0</td>\n    </tr>\n    <tr>\n      <th>1</th>\n      <td>2</td>\n      <td>3</td>\n      <td>2</td>\n      <td>2017-05-21</td>\n      <td>1.0</td>\n      <td>Approved</td>\n      <td>Trek Bicycles</td>\n      <td>Standard</td>\n      <td>medium</td>\n      <td>large</td>\n      <td>2091.47</td>\n      <td>388.92</td>\n      <td>41701.0</td>\n    </tr>\n    <tr>\n      <th>2</th>\n      <td>3</td>\n      <td>37</td>\n      <td>3</td>\n      <td>2017-10-16</td>\n      <td>0.0</td>\n      <td>Approved</td>\n      <td>OHM Cycles</td>\n      <td>Standard</td>\n      <td>low</td>\n      <td>medium</td>\n      <td>1793.43</td>\n      <td>248.82</td>\n      <td>36361.0</td>\n    </tr>\n    <tr>\n      <th>3</th>\n      <td>4</td>\n      <td>88</td>\n      <td>4</td>\n      <td>2017-08-31</td>\n      <td>0.0</td>\n      <td>Approved</td>\n      <td>Norco Bicycles</td>\n      <td>Standard</td>\n      <td>medium</td>\n      <td>medium</td>\n      <td>1198.46</td>\n      <td>381.10</td>\n      <td>36145.0</td>\n    </tr>\n    <tr>\n      <th>4</th>\n      <td>5</td>\n      <td>78</td>\n      <td>5</td>\n      <td>2017-10-01</td>\n      <td>1.0</td>\n      <td>Approved</td>\n      <td>Giant Bicycles</td>\n      <td>Standard</td>\n      <td>medium</td>\n      <td>large</td>\n      <td>1765.30</td>\n      <td>709.48</td>\n      <td>42226.0</td>\n    </tr>\n    <tr>\n      <th>...</th>\n      <td>...</td>\n      <td>...</td>\n      <td>...</td>\n      <td>...</td>\n      <td>...</td>\n      <td>...</td>\n      <td>...</td>\n      <td>...</td>\n      <td>...</td>\n      <td>...</td>\n      <td>...</td>\n      <td>...</td>\n      <td>...</td>\n    </tr>\n    <tr>\n      <th>3495</th>\n      <td>3496</td>\n      <td>34</td>\n      <td>3496</td>\n      <td>2017-09-08</td>\n      <td>1.0</td>\n      <td>Approved</td>\n      <td>WeareA2B</td>\n      <td>Standard</td>\n      <td>medium</td>\n      <td>medium</td>\n      <td>1231.15</td>\n      <td>161.60</td>\n      <td>35378.0</td>\n    </tr>\n    <tr>\n      <th>3496</th>\n      <td>3497</td>\n      <td>12</td>\n      <td>3497</td>\n      <td>2017-08-16</td>\n      <td>0.0</td>\n      <td>Approved</td>\n      <td>WeareA2B</td>\n      <td>Standard</td>\n      <td>medium</td>\n      <td>medium</td>\n      <td>1231.15</td>\n      <td>161.60</td>\n      <td>38216.0</td>\n    </tr>\n    <tr>\n      <th>3497</th>\n      <td>3498</td>\n      <td>19</td>\n      <td>3498</td>\n      <td>2017-07-22</td>\n      <td>1.0</td>\n      <td>Approved</td>\n      <td>OHM Cycles</td>\n      <td>Road</td>\n      <td>high</td>\n      <td>large</td>\n      <td>12.01</td>\n      <td>7.21</td>\n      <td>34115.0</td>\n    </tr>\n    <tr>\n      <th>3498</th>\n      <td>3499</td>\n      <td>62</td>\n      <td>3499</td>\n      <td>2017-09-02</td>\n      <td>0.0</td>\n      <td>Approved</td>\n      <td>Solex</td>\n      <td>Standard</td>\n      <td>medium</td>\n      <td>medium</td>\n      <td>478.16</td>\n      <td>298.72</td>\n      <td>34143.0</td>\n    </tr>\n    <tr>\n      <th>3499</th>\n      <td>3500</td>\n      <td>54</td>\n      <td>3500</td>\n      <td>2017-12-05</td>\n      <td>0.0</td>\n      <td>Approved</td>\n      <td>WeareA2B</td>\n      <td>Standard</td>\n      <td>medium</td>\n      <td>medium</td>\n      <td>1292.84</td>\n      <td>13.44</td>\n      <td>39915.0</td>\n    </tr>\n  </tbody>\n</table>\n<p>3500 rows × 13 columns</p>\n</div>"
     },
     "metadata": {},
     "execution_count": 28
    }
   ],
   "source": [
    "consistent_id(transactions_xls)"
   ]
  },
  {
   "cell_type": "code",
   "execution_count": 29,
   "metadata": {},
   "outputs": [
    {
     "output_type": "execute_result",
     "data": {
      "text/plain": "     customer_id      first_name     last_name  gender  \\\n0              1         Laraine     Medendorp       F   \n1              2             Eli       Bockman    Male   \n2              3           Arlin        Dearle    Male   \n3              4          Talbot           NaN    Male   \n4              5  Sheila-kathryn        Calton  Female   \n...          ...             ...           ...     ...   \n3495        3496           Danya      Burnyeat    Male   \n3496        3497            Thia         O&#39;Day  Female   \n3497        3498            Lois       Abrahim  Female   \n3498        3499         Shelton  Tewkesberrie    Male   \n3499        3500            Josy       Fleeman  Female   \n\n      past_3_years_bike_related_purchases        DOB  \\\n0                                      93 1953-10-12   \n1                                      81 1980-12-16   \n2                                      61 1954-01-20   \n3                                      33 1961-10-03   \n4                                      56 1977-05-13   \n...                                   ...        ...   \n3495                                   99 1986-04-25   \n3496                                   73 1986-05-03   \n3497                                   28 1995-11-02   \n3498                                   29 1979-06-17   \n3499                                   71 1967-07-21   \n\n                        job_title job_industry_category     wealth_segment  \\\n0             Executive Secretary                Health      Mass Customer   \n1          Administrative Officer    Financial Services      Mass Customer   \n2              Recruiting Manager              Property      Mass Customer   \n3                             NaN                    IT      Mass Customer   \n4                   Senior Editor                   NaN  Affluent Customer   \n...                           ...                   ...                ...   \n3495                       Editor         Manufacturing      Mass Customer   \n3496  Administrative Assistant IV         Manufacturing  Affluent Customer   \n3497                          NaN         Manufacturing      Mass Customer   \n3498                          NaN         Manufacturing      Mass Customer   \n3499                          NaN         Entertainment  Affluent Customer   \n\n     deceased_indicator                                            default  \\\n0                     N                                                 &quot;&#39;   \n1                     N                       &lt;script&gt;alert(&#39;hi&#39;)&lt;/script&gt;   \n2                     N                                2018-02-01 00:00:00   \n3                     N  () { _; } &gt;_[$($())] { touch /tmp/blns.shellsh...   \n4                     N                                                NIL   \n...                 ...                                                ...   \n3495                  N                                         âªâªtestâª   \n3496                  N                                  ãã¼ãã£ã¼ã¸è¡ããªãã   \n3497                  N                                                NaN   \n3498                  N                                                  á   \n3499                  N                             Â¡â¢Â£Â¢âÂ§Â¶â¢ÂªÂºââ    \n\n     owns_car  tenure  \n0         Yes    11.0  \n1         Yes    16.0  \n2         Yes    15.0  \n3          No     7.0  \n4         Yes     8.0  \n...       ...     ...  \n3495      Yes    19.0  \n3496      Yes    18.0  \n3497       No     5.0  \n3498      Yes     7.0  \n3499       No    17.0  \n\n[3500 rows x 13 columns]",
      "text/html": "<div>\n<style scoped>\n    .dataframe tbody tr th:only-of-type {\n        vertical-align: middle;\n    }\n\n    .dataframe tbody tr th {\n        vertical-align: top;\n    }\n\n    .dataframe thead th {\n        text-align: right;\n    }\n</style>\n<table border=\"1\" class=\"dataframe\">\n  <thead>\n    <tr style=\"text-align: right;\">\n      <th></th>\n      <th>customer_id</th>\n      <th>first_name</th>\n      <th>last_name</th>\n      <th>gender</th>\n      <th>past_3_years_bike_related_purchases</th>\n      <th>DOB</th>\n      <th>job_title</th>\n      <th>job_industry_category</th>\n      <th>wealth_segment</th>\n      <th>deceased_indicator</th>\n      <th>default</th>\n      <th>owns_car</th>\n      <th>tenure</th>\n    </tr>\n  </thead>\n  <tbody>\n    <tr>\n      <th>0</th>\n      <td>1</td>\n      <td>Laraine</td>\n      <td>Medendorp</td>\n      <td>F</td>\n      <td>93</td>\n      <td>1953-10-12</td>\n      <td>Executive Secretary</td>\n      <td>Health</td>\n      <td>Mass Customer</td>\n      <td>N</td>\n      <td>\"'</td>\n      <td>Yes</td>\n      <td>11.0</td>\n    </tr>\n    <tr>\n      <th>1</th>\n      <td>2</td>\n      <td>Eli</td>\n      <td>Bockman</td>\n      <td>Male</td>\n      <td>81</td>\n      <td>1980-12-16</td>\n      <td>Administrative Officer</td>\n      <td>Financial Services</td>\n      <td>Mass Customer</td>\n      <td>N</td>\n      <td>&lt;script&gt;alert('hi')&lt;/script&gt;</td>\n      <td>Yes</td>\n      <td>16.0</td>\n    </tr>\n    <tr>\n      <th>2</th>\n      <td>3</td>\n      <td>Arlin</td>\n      <td>Dearle</td>\n      <td>Male</td>\n      <td>61</td>\n      <td>1954-01-20</td>\n      <td>Recruiting Manager</td>\n      <td>Property</td>\n      <td>Mass Customer</td>\n      <td>N</td>\n      <td>2018-02-01 00:00:00</td>\n      <td>Yes</td>\n      <td>15.0</td>\n    </tr>\n    <tr>\n      <th>3</th>\n      <td>4</td>\n      <td>Talbot</td>\n      <td>NaN</td>\n      <td>Male</td>\n      <td>33</td>\n      <td>1961-10-03</td>\n      <td>NaN</td>\n      <td>IT</td>\n      <td>Mass Customer</td>\n      <td>N</td>\n      <td>() { _; } &gt;_[$($())] { touch /tmp/blns.shellsh...</td>\n      <td>No</td>\n      <td>7.0</td>\n    </tr>\n    <tr>\n      <th>4</th>\n      <td>5</td>\n      <td>Sheila-kathryn</td>\n      <td>Calton</td>\n      <td>Female</td>\n      <td>56</td>\n      <td>1977-05-13</td>\n      <td>Senior Editor</td>\n      <td>NaN</td>\n      <td>Affluent Customer</td>\n      <td>N</td>\n      <td>NIL</td>\n      <td>Yes</td>\n      <td>8.0</td>\n    </tr>\n    <tr>\n      <th>...</th>\n      <td>...</td>\n      <td>...</td>\n      <td>...</td>\n      <td>...</td>\n      <td>...</td>\n      <td>...</td>\n      <td>...</td>\n      <td>...</td>\n      <td>...</td>\n      <td>...</td>\n      <td>...</td>\n      <td>...</td>\n      <td>...</td>\n    </tr>\n    <tr>\n      <th>3495</th>\n      <td>3496</td>\n      <td>Danya</td>\n      <td>Burnyeat</td>\n      <td>Male</td>\n      <td>99</td>\n      <td>1986-04-25</td>\n      <td>Editor</td>\n      <td>Manufacturing</td>\n      <td>Mass Customer</td>\n      <td>N</td>\n      <td>âªâªtestâª</td>\n      <td>Yes</td>\n      <td>19.0</td>\n    </tr>\n    <tr>\n      <th>3496</th>\n      <td>3497</td>\n      <td>Thia</td>\n      <td>O'Day</td>\n      <td>Female</td>\n      <td>73</td>\n      <td>1986-05-03</td>\n      <td>Administrative Assistant IV</td>\n      <td>Manufacturing</td>\n      <td>Affluent Customer</td>\n      <td>N</td>\n      <td>ãã¼ãã£ã¼ã¸è¡ããªãã</td>\n      <td>Yes</td>\n      <td>18.0</td>\n    </tr>\n    <tr>\n      <th>3497</th>\n      <td>3498</td>\n      <td>Lois</td>\n      <td>Abrahim</td>\n      <td>Female</td>\n      <td>28</td>\n      <td>1995-11-02</td>\n      <td>NaN</td>\n      <td>Manufacturing</td>\n      <td>Mass Customer</td>\n      <td>N</td>\n      <td>NaN</td>\n      <td>No</td>\n      <td>5.0</td>\n    </tr>\n    <tr>\n      <th>3498</th>\n      <td>3499</td>\n      <td>Shelton</td>\n      <td>Tewkesberrie</td>\n      <td>Male</td>\n      <td>29</td>\n      <td>1979-06-17</td>\n      <td>NaN</td>\n      <td>Manufacturing</td>\n      <td>Mass Customer</td>\n      <td>N</td>\n      <td>á</td>\n      <td>Yes</td>\n      <td>7.0</td>\n    </tr>\n    <tr>\n      <th>3499</th>\n      <td>3500</td>\n      <td>Josy</td>\n      <td>Fleeman</td>\n      <td>Female</td>\n      <td>71</td>\n      <td>1967-07-21</td>\n      <td>NaN</td>\n      <td>Entertainment</td>\n      <td>Affluent Customer</td>\n      <td>N</td>\n      <td>Â¡â¢Â£Â¢âÂ§Â¶â¢ÂªÂºââ</td>\n      <td>No</td>\n      <td>17.0</td>\n    </tr>\n  </tbody>\n</table>\n<p>3500 rows × 13 columns</p>\n</div>"
     },
     "metadata": {},
     "execution_count": 29
    }
   ],
   "source": [
    "consistent_id(customer_demographic_xls)"
   ]
  },
  {
   "cell_type": "code",
   "execution_count": 30,
   "metadata": {},
   "outputs": [
    {
     "output_type": "execute_result",
     "data": {
      "text/plain": "     customer_id                   address  postcode            state  \\\n0              1        060 Morning Avenue      2016  New South Wales   \n1              2       6 Meadow Vale Court      2153  New South Wales   \n2              4        0 Holy Cross Court      4211              QLD   \n3              5       17979 Del Mar Point      2448  New South Wales   \n4              6          9 Oakridge Court      3216              VIC   \n...          ...                       ...       ...              ...   \n3491        3496       2565 Caliangt Point      2171              NSW   \n3492        3497       96 Delladonna Trail      3976              VIC   \n3493        3498              3 Nova Point      3012              VIC   \n3494        3499       310 Stephen Terrace      4073              QLD   \n3495        3500  9491 Green Ridge Terrace      2100              NSW   \n\n        country  property_valuation  \n0     Australia                  10  \n1     Australia                  10  \n2     Australia                   9  \n3     Australia                   4  \n4     Australia                   9  \n...         ...                 ...  \n3491  Australia                   9  \n3492  Australia                   5  \n3493  Australia                   4  \n3494  Australia                   9  \n3495  Australia                  10  \n\n[3496 rows x 6 columns]",
      "text/html": "<div>\n<style scoped>\n    .dataframe tbody tr th:only-of-type {\n        vertical-align: middle;\n    }\n\n    .dataframe tbody tr th {\n        vertical-align: top;\n    }\n\n    .dataframe thead th {\n        text-align: right;\n    }\n</style>\n<table border=\"1\" class=\"dataframe\">\n  <thead>\n    <tr style=\"text-align: right;\">\n      <th></th>\n      <th>customer_id</th>\n      <th>address</th>\n      <th>postcode</th>\n      <th>state</th>\n      <th>country</th>\n      <th>property_valuation</th>\n    </tr>\n  </thead>\n  <tbody>\n    <tr>\n      <th>0</th>\n      <td>1</td>\n      <td>060 Morning Avenue</td>\n      <td>2016</td>\n      <td>New South Wales</td>\n      <td>Australia</td>\n      <td>10</td>\n    </tr>\n    <tr>\n      <th>1</th>\n      <td>2</td>\n      <td>6 Meadow Vale Court</td>\n      <td>2153</td>\n      <td>New South Wales</td>\n      <td>Australia</td>\n      <td>10</td>\n    </tr>\n    <tr>\n      <th>2</th>\n      <td>4</td>\n      <td>0 Holy Cross Court</td>\n      <td>4211</td>\n      <td>QLD</td>\n      <td>Australia</td>\n      <td>9</td>\n    </tr>\n    <tr>\n      <th>3</th>\n      <td>5</td>\n      <td>17979 Del Mar Point</td>\n      <td>2448</td>\n      <td>New South Wales</td>\n      <td>Australia</td>\n      <td>4</td>\n    </tr>\n    <tr>\n      <th>4</th>\n      <td>6</td>\n      <td>9 Oakridge Court</td>\n      <td>3216</td>\n      <td>VIC</td>\n      <td>Australia</td>\n      <td>9</td>\n    </tr>\n    <tr>\n      <th>...</th>\n      <td>...</td>\n      <td>...</td>\n      <td>...</td>\n      <td>...</td>\n      <td>...</td>\n      <td>...</td>\n    </tr>\n    <tr>\n      <th>3491</th>\n      <td>3496</td>\n      <td>2565 Caliangt Point</td>\n      <td>2171</td>\n      <td>NSW</td>\n      <td>Australia</td>\n      <td>9</td>\n    </tr>\n    <tr>\n      <th>3492</th>\n      <td>3497</td>\n      <td>96 Delladonna Trail</td>\n      <td>3976</td>\n      <td>VIC</td>\n      <td>Australia</td>\n      <td>5</td>\n    </tr>\n    <tr>\n      <th>3493</th>\n      <td>3498</td>\n      <td>3 Nova Point</td>\n      <td>3012</td>\n      <td>VIC</td>\n      <td>Australia</td>\n      <td>4</td>\n    </tr>\n    <tr>\n      <th>3494</th>\n      <td>3499</td>\n      <td>310 Stephen Terrace</td>\n      <td>4073</td>\n      <td>QLD</td>\n      <td>Australia</td>\n      <td>9</td>\n    </tr>\n    <tr>\n      <th>3495</th>\n      <td>3500</td>\n      <td>9491 Green Ridge Terrace</td>\n      <td>2100</td>\n      <td>NSW</td>\n      <td>Australia</td>\n      <td>10</td>\n    </tr>\n  </tbody>\n</table>\n<p>3496 rows × 6 columns</p>\n</div>"
     },
     "metadata": {},
     "execution_count": 30
    }
   ],
   "source": [
    "consistent_id(customer_address_xls)"
   ]
  },
  {
   "cell_type": "code",
   "execution_count": null,
   "metadata": {},
   "outputs": [],
   "source": []
  }
 ]
}